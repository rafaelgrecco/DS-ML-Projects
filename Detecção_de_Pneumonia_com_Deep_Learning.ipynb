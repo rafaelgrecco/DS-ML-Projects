{
  "nbformat": 4,
  "nbformat_minor": 0,
  "metadata": {
    "colab": {
      "name": "Detecção de Pneumonia com Deep Learning.ipynb",
      "provenance": [],
      "collapsed_sections": [],
      "authorship_tag": "ABX9TyPHnAsp71q23w1DhCqncD28",
      "include_colab_link": true
    },
    "kernelspec": {
      "name": "python3",
      "display_name": "Python 3"
    },
    "accelerator": "GPU"
  },
  "cells": [
    {
      "cell_type": "markdown",
      "metadata": {
        "id": "view-in-github",
        "colab_type": "text"
      },
      "source": [
        "<a href=\"https://colab.research.google.com/github/rafaelgrecco/DS-ML-Projects/blob/master/Detec%C3%A7%C3%A3o_de_Pneumonia_com_Deep_Learning.ipynb\" target=\"_parent\"><img src=\"https://colab.research.google.com/assets/colab-badge.svg\" alt=\"Open In Colab\"/></a>"
      ]
    },
    {
      "cell_type": "markdown",
      "metadata": {
        "id": "-Wy4bUpo42KM"
      },
      "source": [
        "#*Detecção de Pneumonia usando Deep Learning*\n",
        "\n",
        "##*Deep Learning na área da saúde*\n",
        "\n",
        "Com o avanço do campo da **Inteligência** **Artificial** cada vez mais ela é aplicada nos mais diversos campos do conhecimento e com a área da saúde não é diferente.\n",
        "\n",
        "<p align=\"center\"><img src=\"https://raw.githubusercontent.com/rafaelgrecco/Imagens-datasets/master/ML.jpg\" height=\"300px\"></p>\n",
        "\n",
        "Atualmente a Inteligência Artificial está sendo aplicada em diversas situações na área da saúde, algumas delas são:\n",
        "\n",
        "* Aumentar a precisão de diagnósticos\n",
        "* Alerta do quadro clínico do paciente\n",
        "* Tratamento de Doenças\n",
        "* Determinar estudos relevantes sobre um determinado tema\n",
        "* Identificação e assimilação de sintomas \n",
        "\n",
        "\n",
        "###*Deep Learning*\n",
        "A técnica conhecida como **Deep Learning** é amplamente aplicada na área da saúde, ela é baseada nas **Redes Neurais Artificias** que tem como objetivo reproduzir o comportamento do cérebro humano para assimilar as informações.\n",
        "\n",
        "O comportamento das **Redes Neurais Artificiais** baseia-se no comportamento de um neurônio, elas possuem camadas dispostas de forma hierárquica, assim a informação vai de camada em camada, conduzindo a informação, até a camada de `output`. A imagem a seguir ilustra esse processo.\n",
        "\n",
        "<p align=\"center\"><img src=\"https://raw.githubusercontent.com/rafaelgrecco/Imagens-datasets/master/RNNNOVO.png\" height=\"300px\"></p>\n",
        "\n",
        "##*Pneumonia: O que é?*\n",
        "\n",
        "A *Pneumonia* é **caracterizada** por uma condição inflamatória no pulmão que afeta principalmente os Alvéolos. Os principais fatores que podem levar a um quadro de pneumonia são:\n",
        "\n",
        "* inalação de produtos tóxicos\n",
        "* infecções virais ou bacterianas\n",
        "\n",
        "Podem ser classficados como **fatores** **de** **risco**, ou seja fatores que podem aumentar as chances de desenvolver a doença, o tabagismo, o uso de ar-condicionado, também pode ser incluído pessoas com asma, doença Pulmonar Obstrutiva Crônica (DPOC), diabetes, fibrose cística entre outras.\n",
        "\n",
        "Qualquer pessoa está sujeita a desenvolver a doença, no entanto ela possui **maior** **incidência** em idosos e em também em crianças abaixo dos 5 anos de idade, vale destacar que segundo a OMS, a Pneumonia é uma das principais causas de mortes em crianças abaixo dos 5 anos. [Fonte](https://www.who.int/news-room/fact-sheets/detail/children-reducing-mortality#:~:text=Leading%20causes%20of%20death%20in,safe%20water%20and%20food%20and)\n",
        "\n",
        "Os sintomas podem variar conforme o causador, mas geralmente é comum apresentar **febre alta** *(acima dos 37,5°C)*, **dor no peito**, **tosse com secreção** e **falta de ar**.\n",
        "\n",
        "O **Diagnóstico** é feito com base em exames clínicos como: \n",
        "* *Radiografia do Tórax*\n",
        "* *Hemograma*\n",
        "* *Hemocultura*\n",
        "\n",
        "Vale destacar que a *Radiográfia do Tórax* além de ajudar no diagnóstico, também contribui tanto para a avaliação da gravidade da doença, como a resposta do paciente ao tratamento.\n",
        "\n",
        "O **Tratamento** pode variar de acordo com o agente causador. Em **Pneumonias** **bacterianas** geralmente o tratamento é feito com o uso de antibióticos, já em **Pneumonias** **virais** o tratamento é feito com medicamentos para alívio dos sintomas e também pode ser usado medicamentos antivirais.\n",
        "\n",
        "<p align=\"center\"><img src=\"https://raw.githubusercontent.com/rafaelgrecco/Imagens/master/pneumonia.png\" height=\"300px\"></p>\n",
        "\n",
        "#*Obtenção dos dados*\n",
        "O dataset que vamos trabalhar é composto por três pastas, *(train, test e valid)* e as três estão subdividas em *NORMAL* e *PNEUMONIA*, ao total são 5863 imagens no formato *JPEG*.\n",
        "\n",
        "O dataset originalmente foi publicado no site *Mendeley Data* [Link](https://data.mendeley.com/datasets/rscbjbr9sj/2) e repostado no Kaggle [Link](https://www.kaggle.com/paultimothymooney/chest-xray-pneumonia), no entanto para facilitar coloquei [Aqui](https://drive.google.com/file/d/1jOgztRukLrc-kzMkkTa6T2fK4jTIsBnj/view) um link direto para fazer o download."
      ]
    },
    {
      "cell_type": "markdown",
      "metadata": {
        "id": "g6gKRo4NGhO7"
      },
      "source": [
        "##*Importando bibliotecas necessárias e fazendo as configurações iniciais*\n",
        "\n",
        "Nesta primeira etapa, vamos importar todas as bibliotecas que vamos utilizar durante o desenvolvimento.\n",
        "\n",
        "Ainda nesta etapa, também vamos adicionar uma pequena configuração para melhorar a visualização de imagens e gráficos no projeto. "
      ]
    },
    {
      "cell_type": "code",
      "metadata": {
        "id": "wiAFeOViavxq"
      },
      "source": [
        "%tensorflow_version 2.x\n",
        "import tensorflow as tf\n",
        "from tensorflow import keras\n",
        "from tensorflow.keras.preprocessing.image import ImageDataGenerator\n",
        "from keras.layers import Dense, Conv2D, Flatten, MaxPool2D, Dropout, BatchNormalization, MaxPooling2D\n",
        "from keras.callbacks import ReduceLROnPlateau\n",
        "from sklearn.metrics import classification_report\n",
        "import pandas as pd\n",
        "import numpy as np\n",
        "import cv2\n",
        "import seaborn as sns\n",
        "import matplotlib.pyplot as plt\n",
        "import matplotlib as mpl\n",
        "import os\n",
        "import random\n",
        "import zipfile\n",
        "from google.colab import drive\n",
        "\n",
        "# melhorar a visualização\n",
        "%matplotlib inline\n",
        "%config InlineBackend.figure_format = 'svg'\n",
        "mpl.style.use( 'ggplot' )\n",
        "plt.style.use('fivethirtyeight')\n",
        "sns.set(context=\"notebook\", palette=\"dark\", style = 'whitegrid' , color_codes=True)"
      ],
      "execution_count": null,
      "outputs": []
    },
    {
      "cell_type": "markdown",
      "metadata": {
        "id": "DoJARPNkHK_C"
      },
      "source": [
        "Após fazer o download do dataset de imagens, você vai notar que o mesmo estará compactado, depois de adiciona-lo no drive, vamos conectar o colab ao Google drive e em seguida descompactar o dataset. "
      ]
    },
    {
      "cell_type": "code",
      "metadata": {
        "colab": {
          "base_uri": "https://localhost:8080/"
        },
        "id": "uSDEj9UqdCXx",
        "outputId": "9849e5be-d8f3-44b1-a05a-f8e49b1ca9c7"
      },
      "source": [
        "# conectar o colab ao drive\n",
        "drive.mount('/content/drive')\n",
        "\n",
        "# extraindo dataset\n",
        "\n",
        "path = '/content/drive/MyDrive/Notebooks/Datasets/Pneumonia.zip'\n",
        "zip = zipfile.ZipFile(file=path, mode='r')\n",
        "zip.extractall('./')\n",
        "zip.close"
      ],
      "execution_count": null,
      "outputs": [
        {
          "output_type": "stream",
          "text": [
            "Mounted at /content/drive\n"
          ],
          "name": "stdout"
        },
        {
          "output_type": "execute_result",
          "data": {
            "text/plain": [
              "<bound method ZipFile.close of <zipfile.ZipFile filename='/content/drive/MyDrive/Notebooks/Datasets/Pneumonia.zip' mode='r'>>"
            ]
          },
          "metadata": {
            "tags": []
          },
          "execution_count": 2
        }
      ]
    },
    {
      "cell_type": "markdown",
      "metadata": {
        "id": "BM9EYQa9HtDS"
      },
      "source": [
        "##*Organizando os diretórios*\n",
        "\n",
        "Após importar e descompactar os arquivos, você vai ter 3 pastas como mencionado, com as imagens de Treino, Teste e Validação, mas agora temos que organizar nossos diretórios em `dataset_train`, `dataset_test`, `dataset_valid` e também adicionar os labels das imagens."
      ]
    },
    {
      "cell_type": "code",
      "metadata": {
        "id": "URMDS7DIdCV4"
      },
      "source": [
        "# especificando o caminho de cada dataset\n",
        "dir_train = '/content/chest_xray/train' \n",
        "dir_valid = '/content/chest_xray/val'\n",
        "dir_test = '/content/chest_xray/test'\n",
        "\n",
        "labels = ['NORMAL', 'PNEUMONIA'] # criando os labels\n",
        "\n",
        "dataset_train = []\n",
        "dataset_valid = []\n",
        "dataset_test = []\n",
        " \n",
        "def load_train_dataset(): # criando função para carregar dataset_train\n",
        "  for label in labels:\n",
        "    path = os.path.join(dir_train, label)\n",
        "    class_num = labels.index(label)\n",
        "    for imagem in os.listdir(path):\n",
        "      try:\n",
        "        img_array = cv2.imread(os.path.join(path, imagem), cv2.IMREAD_GRAYSCALE)\n",
        "        resize_img = cv2.resize(img_array, (150,150))\n",
        "        dataset_train.append([resize_img, class_num])\n",
        "      except Exception as e:\n",
        "        pass\n",
        "\n",
        "def load_valid_dataset(): # função para carregar dataset_valid\n",
        "  for label in labels:\n",
        "    path = os.path.join(dir_valid, label)\n",
        "    class_num = labels.index(label)\n",
        "    for imagem in os.listdir(path):\n",
        "      try:\n",
        "        img_array = cv2.imread(os.path.join(path, imagem), cv2.IMREAD_GRAYSCALE)\n",
        "        resize_img = cv2.resize(img_array, (150,150))\n",
        "        dataset_valid.append([resize_img, class_num])\n",
        "      except Exception as e:\n",
        "        pass\n",
        "\n",
        "def load_test_dataset(): # função para carregar dataset_test\n",
        "  for label in labels:\n",
        "    path = os.path.join(dir_test, label)\n",
        "    class_num = labels.index(label)\n",
        "    for imagem in os.listdir(path):\n",
        "      try:\n",
        "        img_array = cv2.imread(os.path.join(path, imagem), cv2.IMREAD_GRAYSCALE)\n",
        "        resize_img = cv2.resize(img_array, (150,150))\n",
        "        dataset_test.append([resize_img, class_num])\n",
        "      except Exception as e:\n",
        "        pass\n",
        "\n",
        "load_train_dataset()\n",
        "load_valid_dataset()\n",
        "load_test_dataset()"
      ],
      "execution_count": null,
      "outputs": []
    },
    {
      "cell_type": "markdown",
      "metadata": {
        "id": "KOv28MWSMVVK"
      },
      "source": [
        "Você pode observar que nas dimensões da imagem na função `cv2.imread()` colocamos 150 x 150 *pixels*, o motivo disso é que vamos configurar nossa rede neural para receber imagens com essas dimensões."
      ]
    },
    {
      "cell_type": "markdown",
      "metadata": {
        "id": "SUctkeO3MpWx"
      },
      "source": [
        "##*Separando o dataset*\n",
        "\n",
        "É de conhecimento de todos que temos que separar o dataset em `X` e `Y`, em nosso `X` vamos carregar as imagens e no `Y` vamos carregar os labels das respectivas imagens.\n",
        "\n",
        "**Atenção**: Deve-se fazer isso para os 3 datasets, *treino*, *teste* e *validação*."
      ]
    },
    {
      "cell_type": "code",
      "metadata": {
        "id": "PusDo5v8dCUA"
      },
      "source": [
        "x_train_ini = []\n",
        "y_train = []\n",
        "\n",
        "x_valid_ini = []\n",
        "y_valid = []\n",
        "\n",
        "x_test_ini = []\n",
        "y_test = []\n",
        "\n",
        "for features, label in dataset_train:\n",
        "  x_train_ini.append(features)\n",
        "  y_train.append(label)\n",
        "\n",
        "for features, label in dataset_valid:\n",
        "  x_valid_ini.append(features)\n",
        "  y_valid.append(label)\n",
        "\n",
        "for features, label in dataset_test:\n",
        "  x_test_ini.append(features)\n",
        "  y_test.append(label)"
      ],
      "execution_count": null,
      "outputs": []
    },
    {
      "cell_type": "markdown",
      "metadata": {
        "id": "A2cZUWhINelC"
      },
      "source": [
        "##*Exploração dos Dados e Pré-processamento das imagens*\n",
        "Agora que separamos nossos dados em `X` e `Y` podemos iniciar a etapa de exploração de dados e Pré-processamento das imagens, dentro delas, vamoss ter sub-etapas que serão explicadas uma a uma."
      ]
    },
    {
      "cell_type": "markdown",
      "metadata": {
        "id": "BWy-SbEVNxuw"
      },
      "source": [
        "###*Verificando se o Dataset está balanceado*\n",
        "\n",
        "Quando estamos lidando com Deep Learning, sempre devemos estar atentos se os datasets estão balanceados.\n",
        "\n",
        "Por mais que seja nítido, que o número de pessoas sem Pneumonia seja menor que o número de pessoas sem a doença, trabalhar com os dados dessa forma, pode impactar negativamente de forma significativa no desempenho do nosso modelo.\n",
        "\n",
        "Portanto, vamos visualizar como nosso `dataset_train` que será usado para treinar a *rede neural* está distribuído."
      ]
    },
    {
      "cell_type": "code",
      "metadata": {
        "id": "kJlKQWb6dCM4",
        "colab": {
          "base_uri": "https://localhost:8080/",
          "height": 429
        },
        "outputId": "72beee46-d667-4c21-ea76-9c9fb0da030f"
      },
      "source": [
        "graph_label = []\n",
        "\n",
        "for i in dataset_train:\n",
        "  if (i[1] == 1):\n",
        "    graph_label.append('Normal')\n",
        "  else:\n",
        "    graph_label.append('Pneumonia')\n",
        "sns.countplot(graph_label)"
      ],
      "execution_count": null,
      "outputs": [
        {
          "output_type": "stream",
          "text": [
            "/usr/local/lib/python3.6/dist-packages/seaborn/_decorators.py:43: FutureWarning: Pass the following variable as a keyword arg: x. From version 0.12, the only valid positional argument will be `data`, and passing other arguments without an explicit keyword will result in an error or misinterpretation.\n",
            "  FutureWarning\n"
          ],
          "name": "stderr"
        },
        {
          "output_type": "execute_result",
          "data": {
            "text/plain": [
              "<matplotlib.axes._subplots.AxesSubplot at 0x7f99025ff908>"
            ]
          },
          "metadata": {
            "tags": []
          },
          "execution_count": 5
        },
        {
          "output_type": "display_data",
          "data": {
            "text/plain": [
              "<Figure size 432x288 with 1 Axes>"
            ],
            "image/svg+xml": "<?xml version=\"1.0\" encoding=\"utf-8\" standalone=\"no\"?>\n<!DOCTYPE svg PUBLIC \"-//W3C//DTD SVG 1.1//EN\"\n  \"http://www.w3.org/Graphics/SVG/1.1/DTD/svg11.dtd\">\n<!-- Created with matplotlib (https://matplotlib.org/) -->\n<svg height=\"252.490977pt\" version=\"1.1\" viewBox=\"0 0 443.34875 252.490977\" width=\"443.34875pt\" xmlns=\"http://www.w3.org/2000/svg\" xmlns:xlink=\"http://www.w3.org/1999/xlink\">\n <defs>\n  <style type=\"text/css\">\n*{stroke-linecap:butt;stroke-linejoin:round;}\n  </style>\n </defs>\n <g id=\"figure_1\">\n  <g id=\"patch_1\">\n   <path d=\"M 0 252.490977 \nL 443.34875 252.490977 \nL 443.34875 0 \nL 0 0 \nz\n\" style=\"fill:none;\"/>\n  </g>\n  <g id=\"axes_1\">\n   <g id=\"patch_2\">\n    <path d=\"M 60.30875 225.145039 \nL 436.14875 225.145039 \nL 436.14875 7.705039 \nL 60.30875 7.705039 \nz\n\" style=\"fill:#ffffff;\"/>\n   </g>\n   <g id=\"matplotlib.axis_1\">\n    <g id=\"xtick_1\">\n     <g id=\"text_1\">\n      <!-- Pneumonia -->\n      <defs>\n       <path d=\"M 19.671875 64.796875 \nL 19.671875 37.40625 \nL 32.078125 37.40625 \nQ 38.96875 37.40625 42.71875 40.96875 \nQ 46.484375 44.53125 46.484375 51.125 \nQ 46.484375 57.671875 42.71875 61.234375 \nQ 38.96875 64.796875 32.078125 64.796875 \nz\nM 9.8125 72.90625 \nL 32.078125 72.90625 \nQ 44.34375 72.90625 50.609375 67.359375 \nQ 56.890625 61.8125 56.890625 51.125 \nQ 56.890625 40.328125 50.609375 34.8125 \nQ 44.34375 29.296875 32.078125 29.296875 \nL 19.671875 29.296875 \nL 19.671875 0 \nL 9.8125 0 \nz\n\" id=\"DejaVuSans-80\"/>\n       <path d=\"M 54.890625 33.015625 \nL 54.890625 0 \nL 45.90625 0 \nL 45.90625 32.71875 \nQ 45.90625 40.484375 42.875 44.328125 \nQ 39.84375 48.1875 33.796875 48.1875 \nQ 26.515625 48.1875 22.3125 43.546875 \nQ 18.109375 38.921875 18.109375 30.90625 \nL 18.109375 0 \nL 9.078125 0 \nL 9.078125 54.6875 \nL 18.109375 54.6875 \nL 18.109375 46.1875 \nQ 21.34375 51.125 25.703125 53.5625 \nQ 30.078125 56 35.796875 56 \nQ 45.21875 56 50.046875 50.171875 \nQ 54.890625 44.34375 54.890625 33.015625 \nz\n\" id=\"DejaVuSans-110\"/>\n       <path d=\"M 56.203125 29.59375 \nL 56.203125 25.203125 \nL 14.890625 25.203125 \nQ 15.484375 15.921875 20.484375 11.0625 \nQ 25.484375 6.203125 34.421875 6.203125 \nQ 39.59375 6.203125 44.453125 7.46875 \nQ 49.3125 8.734375 54.109375 11.28125 \nL 54.109375 2.78125 \nQ 49.265625 0.734375 44.1875 -0.34375 \nQ 39.109375 -1.421875 33.890625 -1.421875 \nQ 20.796875 -1.421875 13.15625 6.1875 \nQ 5.515625 13.8125 5.515625 26.8125 \nQ 5.515625 40.234375 12.765625 48.109375 \nQ 20.015625 56 32.328125 56 \nQ 43.359375 56 49.78125 48.890625 \nQ 56.203125 41.796875 56.203125 29.59375 \nz\nM 47.21875 32.234375 \nQ 47.125 39.59375 43.09375 43.984375 \nQ 39.0625 48.390625 32.421875 48.390625 \nQ 24.90625 48.390625 20.390625 44.140625 \nQ 15.875 39.890625 15.1875 32.171875 \nz\n\" id=\"DejaVuSans-101\"/>\n       <path d=\"M 8.5 21.578125 \nL 8.5 54.6875 \nL 17.484375 54.6875 \nL 17.484375 21.921875 \nQ 17.484375 14.15625 20.5 10.265625 \nQ 23.53125 6.390625 29.59375 6.390625 \nQ 36.859375 6.390625 41.078125 11.03125 \nQ 45.3125 15.671875 45.3125 23.6875 \nL 45.3125 54.6875 \nL 54.296875 54.6875 \nL 54.296875 0 \nL 45.3125 0 \nL 45.3125 8.40625 \nQ 42.046875 3.421875 37.71875 1 \nQ 33.40625 -1.421875 27.6875 -1.421875 \nQ 18.265625 -1.421875 13.375 4.4375 \nQ 8.5 10.296875 8.5 21.578125 \nz\nM 31.109375 56 \nz\n\" id=\"DejaVuSans-117\"/>\n       <path d=\"M 52 44.1875 \nQ 55.375 50.25 60.0625 53.125 \nQ 64.75 56 71.09375 56 \nQ 79.640625 56 84.28125 50.015625 \nQ 88.921875 44.046875 88.921875 33.015625 \nL 88.921875 0 \nL 79.890625 0 \nL 79.890625 32.71875 \nQ 79.890625 40.578125 77.09375 44.375 \nQ 74.3125 48.1875 68.609375 48.1875 \nQ 61.625 48.1875 57.5625 43.546875 \nQ 53.515625 38.921875 53.515625 30.90625 \nL 53.515625 0 \nL 44.484375 0 \nL 44.484375 32.71875 \nQ 44.484375 40.625 41.703125 44.40625 \nQ 38.921875 48.1875 33.109375 48.1875 \nQ 26.21875 48.1875 22.15625 43.53125 \nQ 18.109375 38.875 18.109375 30.90625 \nL 18.109375 0 \nL 9.078125 0 \nL 9.078125 54.6875 \nL 18.109375 54.6875 \nL 18.109375 46.1875 \nQ 21.1875 51.21875 25.484375 53.609375 \nQ 29.78125 56 35.6875 56 \nQ 41.65625 56 45.828125 52.96875 \nQ 50 49.953125 52 44.1875 \nz\n\" id=\"DejaVuSans-109\"/>\n       <path d=\"M 30.609375 48.390625 \nQ 23.390625 48.390625 19.1875 42.75 \nQ 14.984375 37.109375 14.984375 27.296875 \nQ 14.984375 17.484375 19.15625 11.84375 \nQ 23.34375 6.203125 30.609375 6.203125 \nQ 37.796875 6.203125 41.984375 11.859375 \nQ 46.1875 17.53125 46.1875 27.296875 \nQ 46.1875 37.015625 41.984375 42.703125 \nQ 37.796875 48.390625 30.609375 48.390625 \nz\nM 30.609375 56 \nQ 42.328125 56 49.015625 48.375 \nQ 55.71875 40.765625 55.71875 27.296875 \nQ 55.71875 13.875 49.015625 6.21875 \nQ 42.328125 -1.421875 30.609375 -1.421875 \nQ 18.84375 -1.421875 12.171875 6.21875 \nQ 5.515625 13.875 5.515625 27.296875 \nQ 5.515625 40.765625 12.171875 48.375 \nQ 18.84375 56 30.609375 56 \nz\n\" id=\"DejaVuSans-111\"/>\n       <path d=\"M 9.421875 54.6875 \nL 18.40625 54.6875 \nL 18.40625 0 \nL 9.421875 0 \nz\nM 9.421875 75.984375 \nL 18.40625 75.984375 \nL 18.40625 64.59375 \nL 9.421875 64.59375 \nz\n\" id=\"DejaVuSans-105\"/>\n       <path d=\"M 34.28125 27.484375 \nQ 23.390625 27.484375 19.1875 25 \nQ 14.984375 22.515625 14.984375 16.5 \nQ 14.984375 11.71875 18.140625 8.90625 \nQ 21.296875 6.109375 26.703125 6.109375 \nQ 34.1875 6.109375 38.703125 11.40625 \nQ 43.21875 16.703125 43.21875 25.484375 \nL 43.21875 27.484375 \nz\nM 52.203125 31.203125 \nL 52.203125 0 \nL 43.21875 0 \nL 43.21875 8.296875 \nQ 40.140625 3.328125 35.546875 0.953125 \nQ 30.953125 -1.421875 24.3125 -1.421875 \nQ 15.921875 -1.421875 10.953125 3.296875 \nQ 6 8.015625 6 15.921875 \nQ 6 25.140625 12.171875 29.828125 \nQ 18.359375 34.515625 30.609375 34.515625 \nL 43.21875 34.515625 \nL 43.21875 35.40625 \nQ 43.21875 41.609375 39.140625 45 \nQ 35.0625 48.390625 27.6875 48.390625 \nQ 23 48.390625 18.546875 47.265625 \nQ 14.109375 46.140625 10.015625 43.890625 \nL 10.015625 52.203125 \nQ 14.9375 54.109375 19.578125 55.046875 \nQ 24.21875 56 28.609375 56 \nQ 40.484375 56 46.34375 49.84375 \nQ 52.203125 43.703125 52.203125 31.203125 \nz\n\" id=\"DejaVuSans-97\"/>\n      </defs>\n      <g style=\"fill:#262626;\" transform=\"translate(123.586484 243.00332)scale(0.11 -0.11)\">\n       <use xlink:href=\"#DejaVuSans-80\"/>\n       <use x=\"58.552734\" xlink:href=\"#DejaVuSans-110\"/>\n       <use x=\"121.931641\" xlink:href=\"#DejaVuSans-101\"/>\n       <use x=\"183.455078\" xlink:href=\"#DejaVuSans-117\"/>\n       <use x=\"246.833984\" xlink:href=\"#DejaVuSans-109\"/>\n       <use x=\"344.246094\" xlink:href=\"#DejaVuSans-111\"/>\n       <use x=\"405.427734\" xlink:href=\"#DejaVuSans-110\"/>\n       <use x=\"468.806641\" xlink:href=\"#DejaVuSans-105\"/>\n       <use x=\"496.589844\" xlink:href=\"#DejaVuSans-97\"/>\n      </g>\n     </g>\n    </g>\n    <g id=\"xtick_2\">\n     <g id=\"text_2\">\n      <!-- Normal -->\n      <defs>\n       <path d=\"M 9.8125 72.90625 \nL 23.09375 72.90625 \nL 55.421875 11.921875 \nL 55.421875 72.90625 \nL 64.984375 72.90625 \nL 64.984375 0 \nL 51.703125 0 \nL 19.390625 60.984375 \nL 19.390625 0 \nL 9.8125 0 \nz\n\" id=\"DejaVuSans-78\"/>\n       <path d=\"M 41.109375 46.296875 \nQ 39.59375 47.171875 37.8125 47.578125 \nQ 36.03125 48 33.890625 48 \nQ 26.265625 48 22.1875 43.046875 \nQ 18.109375 38.09375 18.109375 28.8125 \nL 18.109375 0 \nL 9.078125 0 \nL 9.078125 54.6875 \nL 18.109375 54.6875 \nL 18.109375 46.1875 \nQ 20.953125 51.171875 25.484375 53.578125 \nQ 30.03125 56 36.53125 56 \nQ 37.453125 56 38.578125 55.875 \nQ 39.703125 55.765625 41.0625 55.515625 \nz\n\" id=\"DejaVuSans-114\"/>\n       <path d=\"M 9.421875 75.984375 \nL 18.40625 75.984375 \nL 18.40625 0 \nL 9.421875 0 \nz\n\" id=\"DejaVuSans-108\"/>\n      </defs>\n      <g style=\"fill:#262626;\" transform=\"translate(322.288203 243.00332)scale(0.11 -0.11)\">\n       <use xlink:href=\"#DejaVuSans-78\"/>\n       <use x=\"74.804688\" xlink:href=\"#DejaVuSans-111\"/>\n       <use x=\"135.986328\" xlink:href=\"#DejaVuSans-114\"/>\n       <use x=\"175.349609\" xlink:href=\"#DejaVuSans-109\"/>\n       <use x=\"272.761719\" xlink:href=\"#DejaVuSans-97\"/>\n       <use x=\"334.041016\" xlink:href=\"#DejaVuSans-108\"/>\n      </g>\n     </g>\n    </g>\n   </g>\n   <g id=\"matplotlib.axis_2\">\n    <g id=\"ytick_1\">\n     <g id=\"line2d_1\">\n      <path clip-path=\"url(#pd8fc280073)\" d=\"M 60.30875 225.145039 \nL 436.14875 225.145039 \n\" style=\"fill:none;stroke:#cccccc;stroke-linecap:round;\"/>\n     </g>\n     <g id=\"text_3\">\n      <!-- 0 -->\n      <defs>\n       <path d=\"M 31.78125 66.40625 \nQ 24.171875 66.40625 20.328125 58.90625 \nQ 16.5 51.421875 16.5 36.375 \nQ 16.5 21.390625 20.328125 13.890625 \nQ 24.171875 6.390625 31.78125 6.390625 \nQ 39.453125 6.390625 43.28125 13.890625 \nQ 47.125 21.390625 47.125 36.375 \nQ 47.125 51.421875 43.28125 58.90625 \nQ 39.453125 66.40625 31.78125 66.40625 \nz\nM 31.78125 74.21875 \nQ 44.046875 74.21875 50.515625 64.515625 \nQ 56.984375 54.828125 56.984375 36.375 \nQ 56.984375 17.96875 50.515625 8.265625 \nQ 44.046875 -1.421875 31.78125 -1.421875 \nQ 19.53125 -1.421875 13.0625 8.265625 \nQ 6.59375 17.96875 6.59375 36.375 \nQ 6.59375 54.828125 13.0625 64.515625 \nQ 19.53125 74.21875 31.78125 74.21875 \nz\n\" id=\"DejaVuSans-48\"/>\n      </defs>\n      <g style=\"fill:#262626;\" transform=\"translate(43.81 229.32418)scale(0.11 -0.11)\">\n       <use xlink:href=\"#DejaVuSans-48\"/>\n      </g>\n     </g>\n    </g>\n    <g id=\"ytick_2\">\n     <g id=\"line2d_2\">\n      <path clip-path=\"url(#pd8fc280073)\" d=\"M 60.30875 198.424302 \nL 436.14875 198.424302 \n\" style=\"fill:none;stroke:#cccccc;stroke-linecap:round;\"/>\n     </g>\n     <g id=\"text_4\">\n      <!-- 500 -->\n      <defs>\n       <path d=\"M 10.796875 72.90625 \nL 49.515625 72.90625 \nL 49.515625 64.59375 \nL 19.828125 64.59375 \nL 19.828125 46.734375 \nQ 21.96875 47.46875 24.109375 47.828125 \nQ 26.265625 48.1875 28.421875 48.1875 \nQ 40.625 48.1875 47.75 41.5 \nQ 54.890625 34.8125 54.890625 23.390625 \nQ 54.890625 11.625 47.5625 5.09375 \nQ 40.234375 -1.421875 26.90625 -1.421875 \nQ 22.3125 -1.421875 17.546875 -0.640625 \nQ 12.796875 0.140625 7.71875 1.703125 \nL 7.71875 11.625 \nQ 12.109375 9.234375 16.796875 8.0625 \nQ 21.484375 6.890625 26.703125 6.890625 \nQ 35.15625 6.890625 40.078125 11.328125 \nQ 45.015625 15.765625 45.015625 23.390625 \nQ 45.015625 31 40.078125 35.4375 \nQ 35.15625 39.890625 26.703125 39.890625 \nQ 22.75 39.890625 18.8125 39.015625 \nQ 14.890625 38.140625 10.796875 36.28125 \nz\n\" id=\"DejaVuSans-53\"/>\n      </defs>\n      <g style=\"fill:#262626;\" transform=\"translate(29.8125 202.603443)scale(0.11 -0.11)\">\n       <use xlink:href=\"#DejaVuSans-53\"/>\n       <use x=\"63.623047\" xlink:href=\"#DejaVuSans-48\"/>\n       <use x=\"127.246094\" xlink:href=\"#DejaVuSans-48\"/>\n      </g>\n     </g>\n    </g>\n    <g id=\"ytick_3\">\n     <g id=\"line2d_3\">\n      <path clip-path=\"url(#pd8fc280073)\" d=\"M 60.30875 171.703565 \nL 436.14875 171.703565 \n\" style=\"fill:none;stroke:#cccccc;stroke-linecap:round;\"/>\n     </g>\n     <g id=\"text_5\">\n      <!-- 1000 -->\n      <defs>\n       <path d=\"M 12.40625 8.296875 \nL 28.515625 8.296875 \nL 28.515625 63.921875 \nL 10.984375 60.40625 \nL 10.984375 69.390625 \nL 28.421875 72.90625 \nL 38.28125 72.90625 \nL 38.28125 8.296875 \nL 54.390625 8.296875 \nL 54.390625 0 \nL 12.40625 0 \nz\n\" id=\"DejaVuSans-49\"/>\n      </defs>\n      <g style=\"fill:#262626;\" transform=\"translate(22.81375 175.882705)scale(0.11 -0.11)\">\n       <use xlink:href=\"#DejaVuSans-49\"/>\n       <use x=\"63.623047\" xlink:href=\"#DejaVuSans-48\"/>\n       <use x=\"127.246094\" xlink:href=\"#DejaVuSans-48\"/>\n       <use x=\"190.869141\" xlink:href=\"#DejaVuSans-48\"/>\n      </g>\n     </g>\n    </g>\n    <g id=\"ytick_4\">\n     <g id=\"line2d_4\">\n      <path clip-path=\"url(#pd8fc280073)\" d=\"M 60.30875 144.982827 \nL 436.14875 144.982827 \n\" style=\"fill:none;stroke:#cccccc;stroke-linecap:round;\"/>\n     </g>\n     <g id=\"text_6\">\n      <!-- 1500 -->\n      <g style=\"fill:#262626;\" transform=\"translate(22.81375 149.161968)scale(0.11 -0.11)\">\n       <use xlink:href=\"#DejaVuSans-49\"/>\n       <use x=\"63.623047\" xlink:href=\"#DejaVuSans-53\"/>\n       <use x=\"127.246094\" xlink:href=\"#DejaVuSans-48\"/>\n       <use x=\"190.869141\" xlink:href=\"#DejaVuSans-48\"/>\n      </g>\n     </g>\n    </g>\n    <g id=\"ytick_5\">\n     <g id=\"line2d_5\">\n      <path clip-path=\"url(#pd8fc280073)\" d=\"M 60.30875 118.26209 \nL 436.14875 118.26209 \n\" style=\"fill:none;stroke:#cccccc;stroke-linecap:round;\"/>\n     </g>\n     <g id=\"text_7\">\n      <!-- 2000 -->\n      <defs>\n       <path d=\"M 19.1875 8.296875 \nL 53.609375 8.296875 \nL 53.609375 0 \nL 7.328125 0 \nL 7.328125 8.296875 \nQ 12.9375 14.109375 22.625 23.890625 \nQ 32.328125 33.6875 34.8125 36.53125 \nQ 39.546875 41.84375 41.421875 45.53125 \nQ 43.3125 49.21875 43.3125 52.78125 \nQ 43.3125 58.59375 39.234375 62.25 \nQ 35.15625 65.921875 28.609375 65.921875 \nQ 23.96875 65.921875 18.8125 64.3125 \nQ 13.671875 62.703125 7.8125 59.421875 \nL 7.8125 69.390625 \nQ 13.765625 71.78125 18.9375 73 \nQ 24.125 74.21875 28.421875 74.21875 \nQ 39.75 74.21875 46.484375 68.546875 \nQ 53.21875 62.890625 53.21875 53.421875 \nQ 53.21875 48.921875 51.53125 44.890625 \nQ 49.859375 40.875 45.40625 35.40625 \nQ 44.1875 33.984375 37.640625 27.21875 \nQ 31.109375 20.453125 19.1875 8.296875 \nz\n\" id=\"DejaVuSans-50\"/>\n      </defs>\n      <g style=\"fill:#262626;\" transform=\"translate(22.81375 122.441231)scale(0.11 -0.11)\">\n       <use xlink:href=\"#DejaVuSans-50\"/>\n       <use x=\"63.623047\" xlink:href=\"#DejaVuSans-48\"/>\n       <use x=\"127.246094\" xlink:href=\"#DejaVuSans-48\"/>\n       <use x=\"190.869141\" xlink:href=\"#DejaVuSans-48\"/>\n      </g>\n     </g>\n    </g>\n    <g id=\"ytick_6\">\n     <g id=\"line2d_6\">\n      <path clip-path=\"url(#pd8fc280073)\" d=\"M 60.30875 91.541353 \nL 436.14875 91.541353 \n\" style=\"fill:none;stroke:#cccccc;stroke-linecap:round;\"/>\n     </g>\n     <g id=\"text_8\">\n      <!-- 2500 -->\n      <g style=\"fill:#262626;\" transform=\"translate(22.81375 95.720493)scale(0.11 -0.11)\">\n       <use xlink:href=\"#DejaVuSans-50\"/>\n       <use x=\"63.623047\" xlink:href=\"#DejaVuSans-53\"/>\n       <use x=\"127.246094\" xlink:href=\"#DejaVuSans-48\"/>\n       <use x=\"190.869141\" xlink:href=\"#DejaVuSans-48\"/>\n      </g>\n     </g>\n    </g>\n    <g id=\"ytick_7\">\n     <g id=\"line2d_7\">\n      <path clip-path=\"url(#pd8fc280073)\" d=\"M 60.30875 64.820615 \nL 436.14875 64.820615 \n\" style=\"fill:none;stroke:#cccccc;stroke-linecap:round;\"/>\n     </g>\n     <g id=\"text_9\">\n      <!-- 3000 -->\n      <defs>\n       <path d=\"M 40.578125 39.3125 \nQ 47.65625 37.796875 51.625 33 \nQ 55.609375 28.21875 55.609375 21.1875 \nQ 55.609375 10.40625 48.1875 4.484375 \nQ 40.765625 -1.421875 27.09375 -1.421875 \nQ 22.515625 -1.421875 17.65625 -0.515625 \nQ 12.796875 0.390625 7.625 2.203125 \nL 7.625 11.71875 \nQ 11.71875 9.328125 16.59375 8.109375 \nQ 21.484375 6.890625 26.8125 6.890625 \nQ 36.078125 6.890625 40.9375 10.546875 \nQ 45.796875 14.203125 45.796875 21.1875 \nQ 45.796875 27.640625 41.28125 31.265625 \nQ 36.765625 34.90625 28.71875 34.90625 \nL 20.21875 34.90625 \nL 20.21875 43.015625 \nL 29.109375 43.015625 \nQ 36.375 43.015625 40.234375 45.921875 \nQ 44.09375 48.828125 44.09375 54.296875 \nQ 44.09375 59.90625 40.109375 62.90625 \nQ 36.140625 65.921875 28.71875 65.921875 \nQ 24.65625 65.921875 20.015625 65.03125 \nQ 15.375 64.15625 9.8125 62.3125 \nL 9.8125 71.09375 \nQ 15.4375 72.65625 20.34375 73.4375 \nQ 25.25 74.21875 29.59375 74.21875 \nQ 40.828125 74.21875 47.359375 69.109375 \nQ 53.90625 64.015625 53.90625 55.328125 \nQ 53.90625 49.265625 50.4375 45.09375 \nQ 46.96875 40.921875 40.578125 39.3125 \nz\n\" id=\"DejaVuSans-51\"/>\n      </defs>\n      <g style=\"fill:#262626;\" transform=\"translate(22.81375 68.999756)scale(0.11 -0.11)\">\n       <use xlink:href=\"#DejaVuSans-51\"/>\n       <use x=\"63.623047\" xlink:href=\"#DejaVuSans-48\"/>\n       <use x=\"127.246094\" xlink:href=\"#DejaVuSans-48\"/>\n       <use x=\"190.869141\" xlink:href=\"#DejaVuSans-48\"/>\n      </g>\n     </g>\n    </g>\n    <g id=\"ytick_8\">\n     <g id=\"line2d_8\">\n      <path clip-path=\"url(#pd8fc280073)\" d=\"M 60.30875 38.099878 \nL 436.14875 38.099878 \n\" style=\"fill:none;stroke:#cccccc;stroke-linecap:round;\"/>\n     </g>\n     <g id=\"text_10\">\n      <!-- 3500 -->\n      <g style=\"fill:#262626;\" transform=\"translate(22.81375 42.279019)scale(0.11 -0.11)\">\n       <use xlink:href=\"#DejaVuSans-51\"/>\n       <use x=\"63.623047\" xlink:href=\"#DejaVuSans-53\"/>\n       <use x=\"127.246094\" xlink:href=\"#DejaVuSans-48\"/>\n       <use x=\"190.869141\" xlink:href=\"#DejaVuSans-48\"/>\n      </g>\n     </g>\n    </g>\n    <g id=\"ytick_9\">\n     <g id=\"line2d_9\">\n      <path clip-path=\"url(#pd8fc280073)\" d=\"M 60.30875 11.379141 \nL 436.14875 11.379141 \n\" style=\"fill:none;stroke:#cccccc;stroke-linecap:round;\"/>\n     </g>\n     <g id=\"text_11\">\n      <!-- 4000 -->\n      <defs>\n       <path d=\"M 37.796875 64.3125 \nL 12.890625 25.390625 \nL 37.796875 25.390625 \nz\nM 35.203125 72.90625 \nL 47.609375 72.90625 \nL 47.609375 25.390625 \nL 58.015625 25.390625 \nL 58.015625 17.1875 \nL 47.609375 17.1875 \nL 47.609375 0 \nL 37.796875 0 \nL 37.796875 17.1875 \nL 4.890625 17.1875 \nL 4.890625 26.703125 \nz\n\" id=\"DejaVuSans-52\"/>\n      </defs>\n      <g style=\"fill:#262626;\" transform=\"translate(22.81375 15.558281)scale(0.11 -0.11)\">\n       <use xlink:href=\"#DejaVuSans-52\"/>\n       <use x=\"63.623047\" xlink:href=\"#DejaVuSans-48\"/>\n       <use x=\"127.246094\" xlink:href=\"#DejaVuSans-48\"/>\n       <use x=\"190.869141\" xlink:href=\"#DejaVuSans-48\"/>\n      </g>\n     </g>\n    </g>\n    <g id=\"text_12\">\n     <!-- count -->\n     <defs>\n      <path d=\"M 48.78125 52.59375 \nL 48.78125 44.1875 \nQ 44.96875 46.296875 41.140625 47.34375 \nQ 37.3125 48.390625 33.40625 48.390625 \nQ 24.65625 48.390625 19.8125 42.84375 \nQ 14.984375 37.3125 14.984375 27.296875 \nQ 14.984375 17.28125 19.8125 11.734375 \nQ 24.65625 6.203125 33.40625 6.203125 \nQ 37.3125 6.203125 41.140625 7.25 \nQ 44.96875 8.296875 48.78125 10.40625 \nL 48.78125 2.09375 \nQ 45.015625 0.34375 40.984375 -0.53125 \nQ 36.96875 -1.421875 32.421875 -1.421875 \nQ 20.0625 -1.421875 12.78125 6.34375 \nQ 5.515625 14.109375 5.515625 27.296875 \nQ 5.515625 40.671875 12.859375 48.328125 \nQ 20.21875 56 33.015625 56 \nQ 37.15625 56 41.109375 55.140625 \nQ 45.0625 54.296875 48.78125 52.59375 \nz\n\" id=\"DejaVuSans-99\"/>\n      <path d=\"M 18.3125 70.21875 \nL 18.3125 54.6875 \nL 36.8125 54.6875 \nL 36.8125 47.703125 \nL 18.3125 47.703125 \nL 18.3125 18.015625 \nQ 18.3125 11.328125 20.140625 9.421875 \nQ 21.96875 7.515625 27.59375 7.515625 \nL 36.8125 7.515625 \nL 36.8125 0 \nL 27.59375 0 \nQ 17.1875 0 13.234375 3.875 \nQ 9.28125 7.765625 9.28125 18.015625 \nL 9.28125 47.703125 \nL 2.6875 47.703125 \nL 2.6875 54.6875 \nL 9.28125 54.6875 \nL 9.28125 70.21875 \nz\n\" id=\"DejaVuSans-116\"/>\n     </defs>\n     <g style=\"fill:#262626;\" transform=\"translate(16.318125 133.352539)rotate(-90)scale(0.12 -0.12)\">\n      <use xlink:href=\"#DejaVuSans-99\"/>\n      <use x=\"54.980469\" xlink:href=\"#DejaVuSans-111\"/>\n      <use x=\"116.162109\" xlink:href=\"#DejaVuSans-117\"/>\n      <use x=\"179.541016\" xlink:href=\"#DejaVuSans-110\"/>\n      <use x=\"242.919922\" xlink:href=\"#DejaVuSans-116\"/>\n     </g>\n    </g>\n   </g>\n   <g id=\"patch_3\">\n    <path clip-path=\"url(#pd8fc280073)\" d=\"M 79.10075 225.145039 \nL 229.43675 225.145039 \nL 229.43675 153.480022 \nL 79.10075 153.480022 \nz\n\" style=\"fill:#10256f;stroke:#ffffff;stroke-linejoin:miter;\"/>\n   </g>\n   <g id=\"patch_4\">\n    <path clip-path=\"url(#pd8fc280073)\" d=\"M 267.02075 225.145039 \nL 417.35675 225.145039 \nL 417.35675 18.059325 \nL 267.02075 18.059325 \nz\n\" style=\"fill:#9c4821;stroke:#ffffff;stroke-linejoin:miter;\"/>\n   </g>\n   <g id=\"patch_5\">\n    <path d=\"M 60.30875 225.145039 \nL 60.30875 7.705039 \n\" style=\"fill:none;stroke:#cccccc;stroke-linecap:square;stroke-linejoin:miter;stroke-width:1.25;\"/>\n   </g>\n   <g id=\"patch_6\">\n    <path d=\"M 436.14875 225.145039 \nL 436.14875 7.705039 \n\" style=\"fill:none;stroke:#cccccc;stroke-linecap:square;stroke-linejoin:miter;stroke-width:1.25;\"/>\n   </g>\n   <g id=\"patch_7\">\n    <path d=\"M 60.30875 225.145039 \nL 436.14875 225.145039 \n\" style=\"fill:none;stroke:#cccccc;stroke-linecap:square;stroke-linejoin:miter;stroke-width:1.25;\"/>\n   </g>\n   <g id=\"patch_8\">\n    <path d=\"M 60.30875 7.705039 \nL 436.14875 7.705039 \n\" style=\"fill:none;stroke:#cccccc;stroke-linecap:square;stroke-linejoin:miter;stroke-width:1.25;\"/>\n   </g>\n  </g>\n </g>\n <defs>\n  <clipPath id=\"pd8fc280073\">\n   <rect height=\"217.44\" width=\"375.84\" x=\"60.30875\" y=\"7.705039\"/>\n  </clipPath>\n </defs>\n</svg>\n"
          },
          "metadata": {
            "tags": [],
            "needs_background": "light"
          }
        }
      ]
    },
    {
      "cell_type": "markdown",
      "metadata": {
        "id": "oYanlIsItLR0"
      },
      "source": [
        "Como podemos notar, o dataset não esta balanceado, logo vamos ter que realizar o processo de **data augmentation** que será explicado mais a frente."
      ]
    },
    {
      "cell_type": "markdown",
      "metadata": {
        "id": "JFNOxa-sPFh3"
      },
      "source": [
        "###*Visualizando exemplos de imagem*\n",
        "\n",
        "Vamos visualizar uma imagem de um pulmão saudável e a imagem de um pulmão com pneumonia."
      ]
    },
    {
      "cell_type": "code",
      "metadata": {
        "colab": {
          "base_uri": "https://localhost:8080/",
          "height": 702
        },
        "id": "MlsNLs-BdCDv",
        "outputId": "c144352e-12cb-4ff3-f77e-3ef01abf08e2"
      },
      "source": [
        "# pulmão saudável\n",
        "plt.figure(figsize=(4,4))\n",
        "plt.grid(False)\n",
        "plt.xticks([])\n",
        "plt.yticks([])\n",
        "plt.imshow(dataset_train[0][0], cmap='gray')\n",
        "plt.xlabel(labels[dataset_train[0][1]])\n",
        "\n",
        "# pulmão com pneumonia\n",
        "plt.figure(figsize=(4,4))\n",
        "plt.grid(False)\n",
        "plt.xticks([])\n",
        "plt.yticks([])\n",
        "plt.imshow(dataset_train[-1][0], cmap='gray')\n",
        "plt.xlabel(labels[dataset_train[-1][1]])"
      ],
      "execution_count": null,
      "outputs": [
        {
          "output_type": "execute_result",
          "data": {
            "text/plain": [
              "Text(0.5, 0, 'PNEUMONIA')"
            ]
          },
          "metadata": {
            "tags": []
          },
          "execution_count": 6
        },
        {
          "output_type": "display_data",
          "data": {
            "text/plain": [
              "<Figure size 288x288 with 1 Axes>"
            ],
            "image/svg+xml": "<?xml version=\"1.0\" encoding=\"utf-8\" standalone=\"no\"?>\n<!DOCTYPE svg PUBLIC \"-//W3C//DTD SVG 1.1//EN\"\n  \"http://www.w3.org/Graphics/SVG/1.1/DTD/svg11.dtd\">\n<!-- Created with matplotlib (https://matplotlib.org/) -->\n<svg height=\"247.45375pt\" version=\"1.1\" viewBox=\"0 0 231.84 247.45375\" width=\"231.84pt\" xmlns=\"http://www.w3.org/2000/svg\" xmlns:xlink=\"http://www.w3.org/1999/xlink\">\n <defs>\n  <style type=\"text/css\">\n*{stroke-linecap:butt;stroke-linejoin:round;}\n  </style>\n </defs>\n <g id=\"figure_1\">\n  <g id=\"patch_1\">\n   <path d=\"M 0 247.45375 \nL 231.84 247.45375 \nL 231.84 0 \nL 0 0 \nz\n\" style=\"fill:none;\"/>\n  </g>\n  <g id=\"axes_1\">\n   <g id=\"patch_2\">\n    <path d=\"M 7.2 224.64 \nL 224.64 224.64 \nL 224.64 7.2 \nL 7.2 7.2 \nz\n\" style=\"fill:#ffffff;\"/>\n   </g>\n   <g clip-path=\"url(#pf907bcdf81)\">\n    <image height=\"218\" id=\"imagea28d6a5bc7\" transform=\"scale(1 -1)translate(0 -218)\" width=\"218\" x=\"7.2\" xlink:href=\"data:image/png;base64,\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\" y=\"-6.64\"/>\n   </g>\n   <g id=\"matplotlib.axis_1\">\n    <g id=\"text_1\">\n     <!-- NORMAL -->\n     <defs>\n      <path d=\"M 9.8125 72.90625 \nL 23.09375 72.90625 \nL 55.421875 11.921875 \nL 55.421875 72.90625 \nL 64.984375 72.90625 \nL 64.984375 0 \nL 51.703125 0 \nL 19.390625 60.984375 \nL 19.390625 0 \nL 9.8125 0 \nz\n\" id=\"DejaVuSans-78\"/>\n      <path d=\"M 39.40625 66.21875 \nQ 28.65625 66.21875 22.328125 58.203125 \nQ 16.015625 50.203125 16.015625 36.375 \nQ 16.015625 22.609375 22.328125 14.59375 \nQ 28.65625 6.59375 39.40625 6.59375 \nQ 50.140625 6.59375 56.421875 14.59375 \nQ 62.703125 22.609375 62.703125 36.375 \nQ 62.703125 50.203125 56.421875 58.203125 \nQ 50.140625 66.21875 39.40625 66.21875 \nz\nM 39.40625 74.21875 \nQ 54.734375 74.21875 63.90625 63.9375 \nQ 73.09375 53.65625 73.09375 36.375 \nQ 73.09375 19.140625 63.90625 8.859375 \nQ 54.734375 -1.421875 39.40625 -1.421875 \nQ 24.03125 -1.421875 14.8125 8.828125 \nQ 5.609375 19.09375 5.609375 36.375 \nQ 5.609375 53.65625 14.8125 63.9375 \nQ 24.03125 74.21875 39.40625 74.21875 \nz\n\" id=\"DejaVuSans-79\"/>\n      <path d=\"M 44.390625 34.1875 \nQ 47.5625 33.109375 50.5625 29.59375 \nQ 53.5625 26.078125 56.59375 19.921875 \nL 66.609375 0 \nL 56 0 \nL 46.6875 18.703125 \nQ 43.0625 26.03125 39.671875 28.421875 \nQ 36.28125 30.8125 30.421875 30.8125 \nL 19.671875 30.8125 \nL 19.671875 0 \nL 9.8125 0 \nL 9.8125 72.90625 \nL 32.078125 72.90625 \nQ 44.578125 72.90625 50.734375 67.671875 \nQ 56.890625 62.453125 56.890625 51.90625 \nQ 56.890625 45.015625 53.6875 40.46875 \nQ 50.484375 35.9375 44.390625 34.1875 \nz\nM 19.671875 64.796875 \nL 19.671875 38.921875 \nL 32.078125 38.921875 \nQ 39.203125 38.921875 42.84375 42.21875 \nQ 46.484375 45.515625 46.484375 51.90625 \nQ 46.484375 58.296875 42.84375 61.546875 \nQ 39.203125 64.796875 32.078125 64.796875 \nz\n\" id=\"DejaVuSans-82\"/>\n      <path d=\"M 9.8125 72.90625 \nL 24.515625 72.90625 \nL 43.109375 23.296875 \nL 61.8125 72.90625 \nL 76.515625 72.90625 \nL 76.515625 0 \nL 66.890625 0 \nL 66.890625 64.015625 \nL 48.09375 14.015625 \nL 38.1875 14.015625 \nL 19.390625 64.015625 \nL 19.390625 0 \nL 9.8125 0 \nz\n\" id=\"DejaVuSans-77\"/>\n      <path d=\"M 34.1875 63.1875 \nL 20.796875 26.90625 \nL 47.609375 26.90625 \nz\nM 28.609375 72.90625 \nL 39.796875 72.90625 \nL 67.578125 0 \nL 57.328125 0 \nL 50.6875 18.703125 \nL 17.828125 18.703125 \nL 11.1875 0 \nL 0.78125 0 \nz\n\" id=\"DejaVuSans-65\"/>\n      <path d=\"M 9.8125 72.90625 \nL 19.671875 72.90625 \nL 19.671875 8.296875 \nL 55.171875 8.296875 \nL 55.171875 0 \nL 9.8125 0 \nz\n\" id=\"DejaVuSans-76\"/>\n     </defs>\n     <g style=\"fill:#262626;\" transform=\"translate(89.914687 237.758125)scale(0.12 -0.12)\">\n      <use xlink:href=\"#DejaVuSans-78\"/>\n      <use x=\"74.804688\" xlink:href=\"#DejaVuSans-79\"/>\n      <use x=\"153.515625\" xlink:href=\"#DejaVuSans-82\"/>\n      <use x=\"222.998047\" xlink:href=\"#DejaVuSans-77\"/>\n      <use x=\"309.277344\" xlink:href=\"#DejaVuSans-65\"/>\n      <use x=\"377.685547\" xlink:href=\"#DejaVuSans-76\"/>\n     </g>\n    </g>\n   </g>\n   <g id=\"matplotlib.axis_2\"/>\n   <g id=\"patch_3\">\n    <path d=\"M 7.2 224.64 \nL 7.2 7.2 \n\" style=\"fill:none;stroke:#cccccc;stroke-linecap:square;stroke-linejoin:miter;stroke-width:1.25;\"/>\n   </g>\n   <g id=\"patch_4\">\n    <path d=\"M 224.64 224.64 \nL 224.64 7.2 \n\" style=\"fill:none;stroke:#cccccc;stroke-linecap:square;stroke-linejoin:miter;stroke-width:1.25;\"/>\n   </g>\n   <g id=\"patch_5\">\n    <path d=\"M 7.2 224.64 \nL 224.64 224.64 \n\" style=\"fill:none;stroke:#cccccc;stroke-linecap:square;stroke-linejoin:miter;stroke-width:1.25;\"/>\n   </g>\n   <g id=\"patch_6\">\n    <path d=\"M 7.2 7.2 \nL 224.64 7.2 \n\" style=\"fill:none;stroke:#cccccc;stroke-linecap:square;stroke-linejoin:miter;stroke-width:1.25;\"/>\n   </g>\n  </g>\n </g>\n <defs>\n  <clipPath id=\"pf907bcdf81\">\n   <rect height=\"217.44\" width=\"217.44\" x=\"7.2\" y=\"7.2\"/>\n  </clipPath>\n </defs>\n</svg>\n"
          },
          "metadata": {
            "tags": []
          }
        },
        {
          "output_type": "display_data",
          "data": {
            "text/plain": [
              "<Figure size 288x288 with 1 Axes>"
            ],
            "image/svg+xml": "<?xml version=\"1.0\" encoding=\"utf-8\" standalone=\"no\"?>\n<!DOCTYPE svg PUBLIC \"-//W3C//DTD SVG 1.1//EN\"\n  \"http://www.w3.org/Graphics/SVG/1.1/DTD/svg11.dtd\">\n<!-- Created with matplotlib (https://matplotlib.org/) -->\n<svg height=\"247.45375pt\" version=\"1.1\" viewBox=\"0 0 231.84 247.45375\" width=\"231.84pt\" xmlns=\"http://www.w3.org/2000/svg\" xmlns:xlink=\"http://www.w3.org/1999/xlink\">\n <defs>\n  <style type=\"text/css\">\n*{stroke-linecap:butt;stroke-linejoin:round;}\n  </style>\n </defs>\n <g id=\"figure_1\">\n  <g id=\"patch_1\">\n   <path d=\"M 0 247.45375 \nL 231.84 247.45375 \nL 231.84 0 \nL 0 0 \nz\n\" style=\"fill:none;\"/>\n  </g>\n  <g id=\"axes_1\">\n   <g id=\"patch_2\">\n    <path d=\"M 7.2 224.64 \nL 224.64 224.64 \nL 224.64 7.2 \nL 7.2 7.2 \nz\n\" style=\"fill:#ffffff;\"/>\n   </g>\n   <g clip-path=\"url(#p5d9314e50f)\">\n    <image height=\"218\" id=\"image1afb69871b\" transform=\"scale(1 -1)translate(0 -218)\" width=\"218\" x=\"7.2\" xlink:href=\"data:image/png;base64,\niVBORw0KGgoAAAANSUhEUgAAANoAAADaCAYAAADAHVzbAAAABHNCSVQICAgIfAhkiAAAIABJREFUeJysvVlvJEmWnn1iYZDBnbnU0qXuHo1mIECArvQT9Y/0azQCpJsedE91VWZyC66xfBecx/j4m+bM6p7PAIJkhLu52Vnfc+yY+eR//s//uZtOpzWbzWpvb68ODw9rsVjUYrGo6XRa0+m05vN5TSaT9vfe3l5NJpOaTCY1m82K++fzec3n83bfbDZr100mk6qq2u12tdvtBp9xndt0Ov3q/91uV1VV8/m8drtdbbfbr/rmPq7l++1228blRj+73a42m00bH59tt9tar9ejY5nNZrXdbmuz2dTz8/Pg+fv7++3/w8PDmkwmtdvtBuPfbDatX2icdPf3zMW0hAfJj6enp9psNrXZbGq73bb7mBuNz5MH+Zxe6/HAY/Vn9OO+oEnKRF4HHbnGfTHOqhrM1fdzXdLA90MrPl8sFu1vaLler+vz58+N3rvdrh4fH9tzV6tVrVarury8rLu7u7q7u6vValVzhMXKNJvNBkqy3W5rNpsNiGuB4KFMJBnmZmKaoAw6v+ceM8WCkYKYzBhT8h4zxz6bTqcDhXh+fh4YEJjmz6Cl+0URGJu/G3t+jjWFduz53ItRGBN20wq+Vg2V7K3W41dvXm9dP3adWxrQ3rNSuVIh3W/PCPg7yzv3Y0y5Brn4LXOaMwkEwIqTg/GEuCaJ95b18z3pNdLTePKpTGlFx56VlppnzWazrjXsKbi9F7/X63WjGcYlDYznQx895Ruj1xjz8NqmG3NgPGn9sw/3lQLV+7tHm7GWRnTMEI49x9f27vV9v9VQ9j5LY5ffWUa4zoo2NqYxOs2fn59rsVg0r2ZPBhMsjDCHgdrSW8N7LeGbf6eneYsojKtHqFQK/p7P5w2qWXl6ltIK1oNV9LVerwcCAcTkXkM6nuux04ehtnlhQ2Svw3N2u93AwsIPwx/gjqFSCp49og1Czwj1hKnnRejTBqnHS9OLsUBjrv8tHjDH5ueYx6Zpzg9ZRvafnp4GtNlutw3NWPbhKTyG53YscyZk7LrZbFoc4daDJdkhE0Lh/F0PZ4/BRDPeytuDXT3L14NY9gZjkCw9q+FYekCPwdDEQv7vRG6xa9UL9EQhUNaqarGvDQIN5cmx5XwYD8roeCWFK+fo8dtDp2K+5flMh5SLXnsLIv6W+99SuuRtwkQbROi7WCwGY4Me6/W6XWOjgeeDxjirbPO0GGOu1w/3/wkH+RtBGVMk//0tD5Yx4m9pbwnA2HPye/53nPOWRU862hP5M5jGDzzg/974ewpSVYOx5bO5b8yT9aCc+xgT8jHhdvsWtO9dP/bZWzBvrL11/Rh6MoozH8wz07YX7tjAuO85woBmcqEvTib1MjYM3HCTwX5L4XrEATp58FzTE5YxYn4LemTQ37PiaWW5zsrUY5yhiKHj8/NzF7oYsu/t7dXT09ObENefMxfoDyR1Rm1M+EwfQzfm5n5MA1/vBu3GjHDvWsaRBvUtBRwzkmMGkWaoWvVKG9Cd0cZ6va7n5+d6eHgYIJFEZGSJ4ZlDj81mU3PDG8cPtuT2ToZhY0z3oHkYzMpn9Dwckx2zuCnYZtSY0PvezFpmjOK5pLITnzoJQkuv4lTz3t7eV/AtmWWD4sxmGpa3jEvSe6yN0ciZuxTI3jx7Riw9u39/C+G85QVt8E1/y10ikLF598bmcMlebLvd1uXlZaOJk2GZTEKxnDCcTqcvWUcPMhnQm3jPZfpaQybj17H4qsestyzSb8Htfy/ssdD3xpawYExgmYMD5p7i+Ln+GcvEfquNCXqO9VvK6uv+VtjGs97yYjmW3vUpK/ljQ5JG5S2+5G97pVxLJdP49PQ0Gr4k33rGfzqZTGq9Xtfj4+MgK/j09DS40C0hQVqPtIRWtowZ3hr4WPP9eW1OdOw+f+Y+jLHzcyxYPr/3HDOMrB/9eCw5b4/pt8z/t9BtDD30BCeFxvPwGHv3vOX98vkp6E0ghRr4PlGDvW5mNHvzyJZoJLPB5tvj42Pd39+37zJJ5XvwdqAxj3OOi3T2i4dn5skdj1keJsmD7eXo15/lddlfMvFbXu4tj+x+YFjPm/YY5z4soLm8QR89GpkhMJolgPl83lL7k8mkFRAknE0GTiavSRTHUbl4O0aDnHuPhoZoGJqxlmM1bdI4Jn2YW2889jDZZ17fo79pyVxQHK4jnQ8tUeK7u7vBWuXV1VXt7+/XwcFB7e3ttbFUVfN+uZDdoKPT+nRIc4IjJ/eW5XDzJDOB0LvWv/+eNuYVepZ9zLP07rGgoDC9Z6U35N5sKBkxMorXW3ROeEmfCPV6vR5VorH5f2t8b93ne/4WXuX4x/pPxemNbywO/RYdeuPA6SCjDw8P9fDwUE9PT+3zzWZTV1dXdX5+XovFYiAHbz1vzmDBoqzlODBcLBYNStoiVPUzitnSi202mwEMy8n7Pu75/7PlgnV6CFri9/QSKERCK3tKQ1GaPXnVy/rZ3t7eoBSuF0P0PC3GkXsM9fisZ92THh538uS38PhvaWM0drM3dcbU43tLLnqKmTC0qgboIpderq6uWrbx6empbm9v6/b2tu7u7mqxWNRyuWx95HhSgef+8unpqRaLRe3t7dV6vR5gZVcvJIY2ASxgaZF6RM5J967vCYahX2ad/HePib11MS9a0rKKI5mHsthT+xrGRb8YFiDJbrervb29AW3Te7n15uICZfpKiNWDw4zT16UhSYUeQy9j3qYnG5YnfveMkOnmPt5SsuQp1+W8cqxO52cRNnHa9fV1S91nJtrzApHwPT9zOmRSPUVwR5ka7wl3/v0tghifG5Z5oCbOWPA7Rsi3Wm+OPS+b88+WwtSDfH4mzDBcHIO6Od4xHmU1zlsw3QKfEDf7TsP3llL1run93xtLJsr83LcU5VvNRpn/e/xEyVg3e3p6qsfHx3p8fKz1et3+h8ZGEhhrK5rnN+XBbymGvUZamR7BvtUccJqQ7tslS2NWrydwY9b1rbF4/mPxw29pvT64v5ccADKmVfR9v+XZXIOiGXXgLccUKg3a2Fhynt+SmRybWyIKfsyLsQX2Hvzj87famFy42uP5+bl5sJubmxaj3d/fDzKQk8mkxdVJyzGjObc27na7ur+/r+12Owj0iB3Qak/YtXZWyGxYlNxus91um1KZwQlVnFY3oxyI/paqgiR6jtfwDcY7owfE9DPSs+ec3e9kMhns57NiMDb36888fv/Ntfv7+4O5uboGmho9MH8Lur1h0tlQs1dmlGPynExnI5nd7qUw2obSGVnzq6dgvcwx93gNcz6fD7KJHtdqtWpe6/b2tnmxv/zlLy0Rcnt7W9PptA4ODmo6ndZisaj9/f0WW6OoKFouHUwZbC9I9CQ9YFfv/xar+60s4xgRs1kw3wrQvzWmFOC00Gn5E8a8tWD/Fvxi7FhEb64d86Z/y/gzqeP+0qtlXx5vKkZ+b9l4iwa/BREkUhlbluiNMeeai8022mPrq47JWOZCQbfbbT09PTUYWfWqA6AR8/Tp6alreHe7XU3fshaJY7HGmXz4WyDOmAXsYfG8xkTNn7fueauNPTe9hp//LaMwpmyGZjCsB9XG6JR99gyF7+t5zV6g3hvrbzEmbynat+bT+z/pnLBybDy9Pq1oziomrVCyTIb4czKPu92u0TF/qqpdk2PabrcvtY6LxeKrBdKHh4c6OjoawAe82cPDQ2NeZv7smhNOmolmlolIf9QG0o+fk96h14+ZZ6HB8vl7K4CZ/S0LmwLkbCJQ22PFq+zv749mbz0/r81QHrRer9siaVrOnuIAc4AzFL4mnXqQMOmZ3p4xJn28Djg2rtw357HkmlQKbv5PP16CySUcw33kd7d7CZWen5/r+fm57u7u6vHxsVarVX358qWur6/r7u6u7u/v6/Hxsfb392symbStNIyTBMpqtRrQEf7v7e29xmgJXwgMrShM+q26vV55CutmPc/TU8Sq+mp5wUXK7scEzNazyimYfNb7PBUNIXCclpbb9zqZQ9UHP0YGbk5opHUHchJ7pUC+lUHE2vaMRi8u7fG31/fYvsWkub9zTJbGLduYh+s9x5+ZNvDK0BCPhZI9PT0Nzvi4vb2tq6urpixc+/T0VPv7+4O+QSd+fkL1eQ7QwjemIAkdLagZRI8xPvtKpvaCcRPejPAzeoLxtwhCft4TAoxDLlBaOG3AnFByZsp1eglhcy496DzWcixVX6+R9ebj56QXcL9uvTn0xmxZsZH6FjSknx7Pep/7O+YNGvKCNI6EOOzp6amen5/r8fGxZRpXq1VVVUsMomyWWdMlwwLL39zCQEMI0HzDCaAmawrL5fIr6OEKAw/ADKOl5TexetCFe5icPV32nUQf+76nIGPMzAVq92vCmxmsueRREQmFTYuepx5Tmp5XtVfMvjJr6r+hp42cm5XX8xxbFDZdDBe55y0F6/HFcLWn2P7xmNhLVlUNLvL/7e1t3d/f18PDQ202m1YF8vDw0JDH/v5+bTabur+/r+VyWQcHB01HUCrDVp+gtdvtXj1aDtgWjrSlT8oitdmDUGOTH7M+vWUCM6/HNDPDv018K0U+cwz6ug8rwhh9xp7JZ8BEV2scHR2NPntsnL00/Vv39NYemdNvaY61s//8zfPGjANeo/f8MW/Vg5TAPXuLTO9bZoB9eDB+39/ft3E9PDw0pSJGu7m5qc+fP7c+CaEwFEdHRwMDz+bQXmuGtifECcW8W9fex97L7Vup9zGlM6Hzt73YGBztKVvCom8Jt8eQygjTjMNz/j2vm0IzpqT57N73b42/B6P9zLcMXq//b/HQ/Y3BbPr0mta35uC/v/V//rYncwYRqOgjCfBQrJs9PT3V9fV1W6zOwnr6Ja3P84jzegYXerVaRxSHOMKDZ9ObcS4waExoLGQpiD2Gp2Bl9YAXsL2OZ4vqfugrFTMhhZvHgEV3f1hUXzem9FVfp5i9mAm9U2CzRpHPHQsljZ20sbV3XyzY2lD4GT2a9ZSn9zn08nqVF7/d71vJK+hU9fURDTzbAs/z/b/jMKAgsRiK5iQI3oyqjz/96U91d3fXDjdiQfrg4KCtk5EAIqy6v7//6sSsTFjNzTATkTjNigbDfJbFYrFoDEwBQwHS6veSHAx6LGZLRvs6P7NnsR1HOHYZg4R+Ri/esqJ6GSI9n8eW22B6MNhjRYG4xvsFUzk5g4Sx8HzHaLmW1IOk7jszzf7OzRm83ryrXus5+cw07KGSHH/PgPsZ/KAcxFlUdXiLCwpIlROJD9L6QEw/x7yezWb1+PhYx8fHjZeWx1wm4f75t+CUJ26mmNFocBYm97zLWxAjlSfv9aS5Pr0V1/T6SYXL+zzmHkR9a40pvYI9mL3wZDJpiMD0yKUEj8sK0Xu+LXt6XHvwnkFwSyHuwbaEaW8hBN/LuN9CQL3n5Xf5TCsQfxMzoWQ+eo//8WIo49PTU93c3AzWPp3kAO25zI35mB9jYcTcmwVN7EzZ2mpllgXMend31/rJTKYJmJnMb8VaqaRWAEOwMRjX+9zeqmdde3Em8yHbBATx3CwgTuv78CMO3uHZCEovYdDzfD2hTgjZM3IeYw+iJe17P36GBY1mWGVap5Fyf/SBXPg+xuQxpAf15xQAo3D8wDOUcLVaNU+22Wzq8fGxfvnll4Yc/I4JchSHh4d1cnIyoI/jfxs/G7zNZvPi0WC0gzwCSG7a7XYNh15cXHy1IFf18iIHn4/hZqsHzobAZsK3BCqtXjJk7ADLvN7JnN5Cb88AuI09w5DZEPHp6akZKBY8DW1sTBDm3hpmWs80Ht4q41jWR9zZUCRCSAHmObbcb8V4rrpJw/WW104eJXSmbyspsuMtLczT3m6329Xd3V2T6U+fPjWFu7y8rF9++aWtmXnj8+PjYy0Wizo4OKjn5+c6OjqqDx8+1Gq1qpOTkwE9yC676N7tq/S+46seHNput/X4+FhVr/EZhExc2oNoaQWSUW/Bx17Lz23REbT0oIzHv7ONedt8roPztLzQAIMFo7MSw7Sg9YoCcnz+nWM1HdMbveUhE2b6mp6RS0ue33mePQPce5Y/N6KyoTRMRMEMHzMuBS76aAJS+eQcjNb8LOLFvb29WiwW9eXLl3Y9u124dmxuA0Xr4Ux/h5V5enpqmDUVyZDIFteBrb2ZGeMYKoPxt6ygm7NqjMUT93N6jTn0oKr7oGXc14NXzJ9mZbMwmGa9uIQ59fjj+3I+HlNP0fK6nHcKfSrmW80Cm96qZ2i5J9cKkTnuJQZDcZiXU/rOBJJhvL29bUmQh4eHurm5GcBc85Pf1JfmDnaekbSx8eF3yzpyEQJwd3dXBwcHtdvt2gp5bij0UsB6vW7vA/OEe8JgAo9Z1/RMnkQv4KwaHkM+nb4edJnvFzBBexDHfeXY8Mg9JXCz4uV1CPzYYjjjMF883rcSRpkM6Slg0n9sDtkcv7s/+JPFC295qrEESqIBhLqq2p4xBDxhopMdPlBnvV7X9fV1KxKeTqf16dOnurm5Gc1sOwzZ39+v77//vvb29urh4aEVhaPw1g3GhWHgunlmClMgnp6e6vLyspbLZcOrXmH3JkZbZGchPfgxRqTV9udO/VeN10e6zwyy/R1jdbMlSziUcPitBWcEI/s3jdKY9GhkhUraQfPsI8ecngcDlBBzTBFzjr3rcsNq9jHWtw2padJTMisRMBGlc79O4zsh4vWy9Xpdd3d39fDw8BX64BlOsFW97obHM85ms3bcgVHT3t5ePT4+DhBdW5/2ZHiYmbher+vm5maAYcnSWAm4no7HsjFJcGcMx7xV9mElGmPmW89OItJntjFYlPFGGqcxKJSwOqFTKhR/W7ETsmeCIY1Rwr2xz8fgpH/3vkujNeYdU3EZsw2o6QfNsrrD53kQO3Ef1RlWTJIkKFduZ3HWkv+rXmNvEJXP5Z/P5y1zfHh4OMhGOwEFfabTfz8S/P7+vqbTaV1cXAzgoLEtnbHivVwuaz6f18PDQ3ORCd0g6nQ6bQNLGGgmMxkmNJZ1A5rSty3/mKCMwagUkrcEjmekYNuDMXfDZj7D6nqeHrctoDOW6W3HoBd84DmmdcbSb7We0fM42Wtnq93r04aSqndkgZbbd/yOOVL1eCX/mP++n9iN39QtPjw81JcvX+rm5qbOzs4GdOoZZP5fLBZ1cnLSwqjdblfHx8d1dXVV9/f39f79+4HR3N/fbxUkHtccN2zmZ/zAajiQEKL5vMf1el3L5bIRoXcuRjI6GTmWtYGgmaCwVXfLNTwrQcJXP8sC1vM4eV3Pc415NNMC+ubzEpKOxTo9uJe0tZHqGZcxOPgthZxMJgNlMHzLBEYvUZTrtmk47KGBeiQ9fMwA/feyityzWq3q+vq6Pn/+3LyYk1JGaD16Eirt7+/XarX6ymC2RMe/rx3m20A9nzn/ZPBvq2yPdHBw0LIw/M2gvSEO68r9WJBeMO2J9/7vCTyT6TULoj1Pz/qOxXljgpZjyu/e8hYZB6civBX7jfWXRqsHpf19byy9Pt/yfKko/B4zlM5Y9wyXM6LARBTHKXyE2x4foSdnQLXHw8NDXV9ft0wjRcJeK06j6HXV3W7XlIz1MRdqZP6B36b9wKNZiH2GBZpeVYPjC1hJZ2CspQGJ9vb2WrbG0M4wJjF5TwHGMnvpeXIZgOYMmJmTjB7zCrZyhsHM1eNMBfktSuLnpeCYYemFe+Pn+zSWiQj4zH8/Pz93j03zcxJKQgcnNKq+3rKCMGYmNFPnrnx3oo1FZmItx3XODrsouKrq+vq6/vznPw9iucnk5QiC4+PjJseERczRW5qen5/r8PCwjo6OWgJwf3+/9vf3vzp5AFkDUtuoDNL7fODjsiDMdDptlcubzaZubm5ajMRgSG9WvVSH4Nm8VmQomcWvEJ3n2evZKnpcZqg9xFhKPn8sDOn9UoAT3rjZozMHP4d+ELrc+JljtdCm9e41z2fMWGFEM/GFcPiZvfVLz9+86sHMMWiX19CnT/9F+EmP+8fzdVxlyHh1ddXk0i+feHh4aPf72HscCnzhlG7odXx83EIlnNB0Oq3Pnz/Xdrutg4ODqvp6eYOG4j4/Pw89GkLjg2QopKRqnxgMN353d9dS/09PT18dCAqBLTA+X2EsI+nf/N2LbVJ50vJagPK6XhuLUXpp/7f6+VbfY9+5pUD3nvkt72yYlMoNX97qL2nWW7boGbFEI/4Oq29DmxX3yJr3j7k/b4VhdzRlVJY3ZLhHF68JoywoKIpHCOUaTmCkE3829JbzlkQ0bsZyUGqC9Ts8PKzVatWszs3NTS0Wi9puX96ESKcs0jktijX3IDwYrseqZHqav7nGlR8p5IY6mTa2oKTXS+Gzhbeyuv/8v9f8HKyojRACkadh9eZlRcngvecd/XwrLBaalvNIpfN4ejEW43ESIxXOCgVcTdiFAJOC95keVdXe34ec4MUuLy/bzujHx8c6PT3tLofAAzsRrsM57Ha7diJcVbUcBO+kwPuu1+vm/TLp5H2ahFG73e5lwRpIwWIbX3Lx8fFxXV9fNzx9d3fXLM9yuWzWYLlcDt4xVfV6tDd9M4hcRjCjud8xkoWml5K3kDguo7li3ssBeR/PYOHSAtUTNgtdr+4RgwPTEzqO7Y3jesbswmPGk8bEfyfcZGzb7bbBSGg9ZpCyAj+/twKmx0e5+D8XnrkPmOj1LeTMlSBul5eXdXNzM9hHRkYRb0OOAXqb/xQLA+s8r/V6XYeHh/Xdd981Dwv0JLRyHsKG0+etpPzNU9DNKBSCBTsW5FxxfnV11Y5S4wATGovaeVQc0KFnQXMcaSF9HczKlC3Nz7Gi9hId+Sx7key7B3d9v4lN63kgw46eouXc/PkY7HZLpcyx9DxZKl/GnWN0skLlWFGuVGC8Gz8k2sgystPZa4LARYcx9nR+Bkpghff6H8rhOJITpPf39+vh4WFAB+SGUCqPmIMnRmUNRto9w3QCPS8yo2wcyANBDBHPzs4G1u7+/r5la5zex4qMxSr82HvkAjCN7w0vud8xpwXOn2dfma3sjbEXF2ENMz6lfWvdbKxlsoZnGzGMNccOeDRnTHvNafb8vKdomerOTCTJCXsxCy/KhaLh4e7v7+vm5qYpIZk/H5TjeXoJCS+YyQojFfPB8n9wcNDO17eCetw4FcIn85t7eEZzWI6fNpuXjXPz+bwNku/IPK5WqxYw7na7ur6+bgSbTl+qS3hBG9j56empVZIYHjLpxLqOxSycbwkfE0xhTuudCRUEwBDPEIhmxfELE9IT9RTM2VfiAFrGQP4Ma+sz3bN5t3ZvDMzLtX+9cY81xmJrbYGywlkRfawAY2QMOTb39+uvvzZvhUHOdP7t7e2goNjX4Mk4i5F7XOTLXAiXuIfX5VZVq/JHoW9ubpoMb7cvWfTlctl0Adp4OQFaPD8/v77xEwJiWSACBDg5OWlxmVPFMPvu7q5+/fXX9r/PicAzksXx8eOGTmkx+Tu9S8+j+Nre3/lZCq2XFdwf19py9SBX7x4/wwkiP683Bz4zxOpd476rhp7bfffoOvZ/zsVGBzlxPIZQGUL6e6y6FcI0B2FAH44KcN8U8ZLw4NVJjNGGJpNslm3zIeNZDuCx9+M7lGWxWDQo61yGZdlhlek7t1VA0VzBXPViEU5PTxtmzlfg4NF+/fXXJiCk/C0M9iY0ZxrNbFtSe66EW/zfUyY/u5eBc3/2hr1mYXYffrbHkhDYDOVeW2C+N3QFkvUMRo6tB1cTbrr14tCe4vUUy/Az4+1MoBi2+m/6t0JMp9NaLpcD7w+deKUtWUn2hxGbGcmgeHg9aGujYfkmlW9FyzieBA0wl7l4jCR3ett35kA4XB6LzQ8PD3V4eFibzaYuLy/bCy9sfeyZqqpWq1Ur3pxMJvX+/ftaLpe1v79f9/f3NZvNarVa1dnZ2SCNigBy6jGD7wlWz2P0PKKD4RRSXwvEgLk9Rc546rd4FCoMeJZf0cR8yVqlUUlG94yOx2dl8DqmPaIDc8dhrv+zINrzArFSqLD0zAOBBTq6MMFwneeS2GCux8fH7VpyApeXl/WXv/xlUCiccsGYnp6e6vDwsMmvFSqNCHQ6PDxsmUSyllZckjL0gaJXVfO+5iuojyUIxjt4Wbz/fnx8HMRpaPHJyUl9+fKlqmrwwgXfe39/X3/+858HhEZ4kgjOKD0+Pg6ybEzOqfYk8pgAWmhTgewl/F0qt4XY48n4zf26H19vL5gowgpJP/Y2Fuy3oCpKwWempe93jOLnjM3NRhA++lpDYns0e8ExSI3AU+FhA+Rj9CjHSuPp+J4kBrzC4PFOduZ/dHTU1jVBXRgJmp+TpW1c77f6eG5Jm6p6LSpOLO6gjkmjaHaptlQo3Xq9ri9fvtTp6WmbHJlHrBj3QwwPKuElY8qGIPe202RMY0b7GiuRWxJrzONls9CaNj2vm7AtY5uMLTKjxefwAdo76eT7rfBc26MF4zG9nN20MNmDWhENEd9Kvrh6IpURz3FwcFCXl5eNTx6nU+woqTOyFF8403h4eDiQXyM0w3Bo5ORGjtOy53GlvLYd1rh0mMHpq6yf3dzc1Ha7rXfv3rXUP66UgUE0+viXf/mXWi6X9cc//rG+//77Ojg4qMVi0aqpV6tVnZ6etlTp0dHRIAuYga0naqEx3PBELdgWWoRhs9kMUrR4YHsHmOsxpfAk09Lyug+8MzCIDC20d6aLuaWnNs8MRfnMmUXGgHcgccX3PouD/hlPKpvp7mf1hNx8SN45Y5nyZ3iIJ4Uvt7e3tVqtBjkEK6THtd1uWzEFWceDg4PWX+/d4dvt62L+8/Nz/eu//mv7zIaExfW7u7u6uLhoY2BsVa8Fxk3RTAzgIgy6u7ur/f39Wi6XbbCbzaZ+97vf1eXlZV1eXrZqZgTX+H8ymdTDw0P93//7f2u1WtW7d+/qw4cPjUEw/+joqA4PDxsUNdNN0LH4yQKZno359ZqtGcIF4XvQk5gkFZaRofcUAAAgAElEQVRxYUE9Nis6c7IRoc/cgGgrb0XrxXN8bqvtKhXG6fS++cW4+I3Qu+80YoZJKH/SPr1Yjrmq2rzxxJw7A12gycHBQXsu10ynr++d89igRdUrxDs4OGjj9DmbabSQc063ytiW9TmM1Ha7bYUa1FrybCpIplO95MKKZCJ4BZzU5dnZWXshAINNAjLAzeal4t/rD2R39vb2WpJkOp0OhNTC5ALOzFIa8vSgXQopv3vJDe7vwQT/zrIpK07vXv52fIQQ2DjlPfTd6y+/y4ZQ0Qwde54p+04a5/NzXIbLY4bNffdCFjzzdvt6yjNzcKLFW7im02GanXpd5JY+XbWE97Uh9djX63U7dSAN73a7bbGcQyuebQPk+9uZId7zYwJ6YGjthw8fWjaR+AvGea8ODzk4OKjPnz/X3d1dXV9f1z/90z+1gJRiUQ+SGjR7MeCDlcnCkkIGkzImS0ZbaXoQjfmbqE5pO2PlekILn5XISuasoyFhCnWO3/C25yVMm57Xz0oOC1EmTQzJ+dw0c0aPPscytBgVeI68QD+nxe1x4CXGGLnJHc3e/U+YwnNPTk4GG0cZG8dx8HfVCzTEOUA/EoNsnwF64rW4b8wwDmodvbkOF2vhqKp2DsN0Oq13797VL7/8MhA4JoalgYGku+/v7+tf/uVf6t27d/X+/fs6Pj5utW2Pj491fX1dBwcHdXR01AhFytSKiKBauF3a5Zip55XsyRMm8mNFScvGztvsK6Eff2fxqmmaEM4C7WaBtje192ceLnnidwo9BtYxT5ZokYF2BtV0IR2etMbCe5uL4zorqpUbJQZd2SDC17u7u0FBhFPvyMdisWj70zabTVOM3jomDqOq6tOnT3V3d1e73a7F7zyDub9//769z5qUvh2DHRP8mJv4Y0KZ2RS8D14Ngsxms8F2hrTuEITNo/SH4sAUH24CBLAwWXHH4E8WGvfmhSBl+Ve6fubWI6AVg5YepOedUmnGxmevZeHkx898q4TMCtCjS0JLC5c9Mj892tsTwqec/2+Fl/STzfN0PJnGyUchEMtlwsz3gOxwNr31SO7Hu7kyKlGO14in0+nXR4L3COlz25002d/fr/Pz81bTiCI54OZ3VQ0s39XVVa1Wq7q5uanT09M6Pj5uiRWUledkNpLsFP2ZCDQ8sgPZhEQO4q04fO/EjBecMQis+1mIMyuJICSNucbClEKeFjLHWVWDesCMXawgYxDTBo++4L/nP6ZANrTmMT+mjauJTHv672VtmT8L5rvdboAk8H4kTujj+vq6xf9ktG2coA3QtaoGB1D5vdVcj6dkXY4xUQ1iJcPjtd0vdEYtlyGIrSmuPNdTfP4+G+S2221715Sb45ztdtuwMYpzfn4++O7i4qJVcyNs3nqeQojg87khmQU8S8zcUqBpvG8gLWoKCw2Bskc33TKlzrx5vrfbp4eysfDz6IufXgFxxmKpjE4MOJbxby/j0Ce/6ZM+8pkIrJUEeGdFw0NUvZ5Ng4E7PT1tMRoFD9xHWp2iCBSNPnxqNYgJ2SS5h3IQzxEWnZ2d1fn5+YCmxJboDx6R8yRbut9MSihg2GB4aHzuUiOwsAmYiYAMRvFcCAdrW2BxCGjXT0rX74Y2k52ZHEsUWDkIyi2ojtPyHpjPdYaYYzDRQpPwLb9z/DE2B/ONe8cUGv7ld/TRy67Z2PTmRB9+phUyx2zP5mSKF+GdSCOUyDiVJRSUzrKUBgUPZEhNH1Y09rfZOOTYJ5OXhe7z8/MB6ugt5PPjZZs5N3iwDMK7W/mMQXNi7Lt379qDjFNdgGkLgMA63iFopo5suVy24xO8H8kJDtZSLGzeVWCMDBFoWVJjZtsw5H1Wwh4z0qvYUI01CwcC1oOBaRjcxpSeexDahM30ZyNnermfXmyXnjUVMsdsQ1I13EyJDDhdD5JBGZypdSLMRpx5kp3Ei7laBbiLd725uWnGntaLS4+Ojuri4qKurq7aPICIvVyBXyM1iNF2u107xJ9VdSzlwcFB3d/f1+XlZX38+LFp7P39fVMMFItMDMEoAuNgkZZQjQn7cNb5fF7X19e1t7dX+/v7LT4jhiDFyqImBsFFz8zFAgSud1xhq0pAnILjuAhPm0KZsM6w2T9eNLXlZRyMk7GkMbBwpxe057DQA+95hjNrjmGcPfZzzTOusxUnNjEtEvk4XnNs5ZInlo3IDHoOIBrPn6QaKXgrtON504pcATLl91QnijKC4lkeiw3FfD5vuYuqqAzBihDkwbDp9GX7Agf04JWcldpuXxfymDR4uWfp3L8tHsrq0iC/CRNC2noZpyNUWbdGCpc+DDdhtGOThE629A7+YQR9JUzJ1oNmFkgLg2lkb2nlTEXyvWP9Wunfgqg9C9+bB3IAncagrufbe4YTKOads3jwm78TLpqulLcZBWAAfNpWLsuYZkDVd+/etXP2HcelLDAO60JVDU8qJimCpc9BY1WwhFgcJu63nDCYzD5ZKKxcMCkVjYZA5NqZBQCrBAGcUUzP2YM+KKjT/ShWLgHwA+MQNv7uxS6pWEmPXvzmv5mP44K8JudmmG5Yb0GyoPg5jLWnyDQrWxqaVILeZ24pK84+umDBPPcceT7PysVk5oHn9RHihrY+HwcavX///itFs+wmfy0v2+12uGBtIuEBWCM4PDys4+PjWi6X9eXLlzo5Oamzs7P2kguIYUVAWU5OTmq1WtXj42M9PDy0ADXXpHjedvuS/r+6umoDZwnAWR8LNlbKkMWMpGLbEALCG276yAVSwgiBBQqa+fwRMzKVMxmQHsFMcTNvUnHfQgr2CMlb84o5ONMHTXIsjCETRaTHiaO4z3Eh6CbREGP1epf/h/b2dGS3Z7NZHR8ft1AFXjgM2N/fr+Pj46p6OVpjtVrVn/70p8H5pFwPNDRfoBmnYt3f37fQihpglA/aPz8/1/X1daPbZrN5KcGy68/ULIQ4Pj5upxKjyUw4IQyY1Ywn5uMzLIWDSDMH4iFA19fX9fDwULe3t3V4eFjL5bIlSOwRvJ7BvYYCEDQhI+3h4WFwCBF9OPvq5mSRvRrj4TkeT8I15pB9uyXUTiua1/WU1xY7M8JjfSWySSOBUtD8LHtLz9XXu1LfSQr3i9KgqC5i2Gw2dXx8XE9PT3V7ezsYG0d+w1MMPSgMA5MbmI0aDg4O6uTkZHAsno/Bz7h/sVjUarVqVSm0diQ4P459zChqxxyQPzw8tD1nTt0jzF6g9nqF69YgbHoIW7DZbNbO8Lu7u6u7u7s6OzsbCI8Za2tkQvRiIFsi5sozE3om9GG8zJuAGEVyHGjraNqm531L6D0vC2+vjfWZz0sY1vOSpmP204OEXJPG2tczrsysWuYcl9ooGArbGPsskar66oAfn+dBX8iYn2/ksb+/X6enp4NUvQ1M0h/e8x4AnvXVO6zZvrJarZpbTnhJ0e/j42ODWngTiLC3t9cwLVgYItmCY3nwjlmpYfhKuvbp6am+fPlSq9WqpW/JNCVUY16cnw6E6QWzQCrTAiYZklnYnIJGGV0Jww/zwNCwB89C5P4NwZyg8TW9xENCRH/uM+2BafCFa6CHrbrpaY9sqEzzZ1Y0Q2zXU5rfJNSSbxbw3CS8WCxaGj0NCkcQTKfTurq6anzCK/Hid2jpiv/JZNJClffv3w8y4ElvZ62Zt5dUdrvdK3Q0sTabl3NCUBTDGh8sud2+VIBwEI9PfvV6BxAPz+Vg3BkwnsE1xvIQAA/i3xCK+I8fhLWtZfw7JOSMQLyQhYTfq9WqCZQhUFpuGGuvnvCMBfeEXPTX8wY974Wy5vXwKL2hvSAKTuzoBJQ91VjCIj2Ov8ux9/6HjzZsVV+/x43fzoiS2MAow5O8ziVx3IOM5PIOcnd0dNQQTI7jxx9/rJOTk5rP5+2MUvrwkhZ8ZnwovX/mDjrNfCydtXMymbSFZO5z9bbhobeYexdAQpVerSF9uCUcM9PGIAfzYvLEhCa6W8aavfMULcQWCi+IWvE8Hz/TCZOMhXqwz2Mba4bg3JPjzQyw/2cuSQfPe6xf+naCw9lcK3FCNN/vcRjSQVuMhK9LmUG5PEYrkmE8cuok1XT6csYjb/qs+vq0r/39/To8PBzwZDqdtnNMkxdzYBQD5UZKUhgc0O3777+v29vbQdUHC3Pv37//apc0fSwWi5bp8amzKDITyCDdzOF7vEWeF1n1uqXGsdNs9nIiERbO9W4sKEIUQ7qbm5t6eHiok5OTJpQZW1rBe0KZzEXJgURHR0ft2sxUmh8ZQ7iZoRYw07+qGuq4vr5un1twq17rGA197IEtbJ63+3Klje9hHMAthxx87vM97u7u2ric2bPR7sFuNm5yfMHR0VGbA/z3OM/PzxtPKXw4PT1tO6npi6PAn5+f6+joqBXUM/blclnX19d1fX3d5BMlb4ATuGaIcXt72xQHIeCMD3AxRMFtAsVub28HxPYZe1YgC67POp/P5w0XO1OIYeBexmDsnAkNv3fr8fGxvQGnqlq1CWsuEOj5+Xlwci2nQGUQzJKCrawxe8ZVFhxjephlT+2MbBounpVxb3oB7kFxoJdhN+MBYaAILPg642oBzeWV9JZWMEM8y9xutxvEqt6sab4SbzlTDa8477GqBq/gRV6enp5aip8kntEQp2+fnZ211P3x8XHjxWazGeQiMhvNOSQk6lzQzHPmEMwWCkLyJsW0TD4LwS7eUMuDGYtrECz6R2AdW2RfdvFMJMfvZ5hpZg7fG254oXw2m9XJyUkbj4XZHsaHeDqrSXLH9Hkrnc5YvMUoIb2b4zd7C0NWJ2d4fi7j2GO5Tyd36Bfau2DA0J+fXhYvU+g2trns06OP6QZPeT4IxoeXMgf35/mhMEkfDK8r8Rkjz+VvJ66SpubFbreruU+6yvWV29vb9jpRM4qBeDW+qtqBJhDOeD/T6Fgqp2eXy2Xbi1ZVLdik9Mswk/U8T46ESFW1tQ8I4YJjMw7FY13QMca7d+/q9PR0AP8QCOaHpbMQ2uPx7IS/qShV1eAkwgPdGasFz8JsoTaTPVcnRBDM3E2NQuTCdLPK8/lXY/IBOqkM5o3pz9gII5gLKMZKaGHlHjwVfOP/m5ubNlcy1IyJhIh5iXHluvv7+3r37l3zai4eJtHHul3VcCkqHUJVDcY7p4jYjGdSjnNMwB9//HFwNIHfCMJ28sPDw4E1SIuI0hwdHbU+rOxOFMxmsxZLAWuYlOMt+mUnAHPy0sB0Om2nFUEMb/gzHZ6enurq6mqQ2l0sFi1mYwxkOakkWSwWbZ2PsbHGk6jADIKOFixDMBhKbMqcYa496pjA27Pai1hpucf9WaBT6TPO5jpndC0LGZsbXhtZ2FMl4uDoCwrbgcQ0w2vnGTabTTvavqoG1SDn5+ftPBAU3uOHT99///0gI88ZJj///PPA2Nozzx8eHgbrTxlookCu9ECwzBwG7vWM1HAzBkFhOwMDJIvp9xazEGzoyFjHIKaDdMefGc8xTmIWPKU9gyvpbTBoCDslOTAVZXfMxDoe40ToTPsU5J5gp0ClUCWEydjJ96Yi+7l8b4XutfRC37rW84C2ljvojnIAC5EvBNkogPsyY2k+ejMyRnE+nw8qjape5dihQFUNdk/7eyMvz5E2v729/cr6Gv/ipZwNctVHLyXLFhnDEBMSq7Zer5vS+qw+BBEYyPqXLS5jdYYzy68sAN4hfXp6OiCGjYrXuwzJrMyr1aoliZjjYrFoWSjoRnwLQ2Eqist1VjQLoelm45CbDX+L8Pv/jKkseFYSX+vnjT0js4C95AfXJNy1YtEHigXq8DuuGYd3aBsJZUxtnmDwJpOX060ODw9b5RPj8Hxns9kgjPJOAqMmlr1Syaqq5mx6S6bwkPV6XZ8+faqzs7OWHcTDXVxcDFbfbS0gDhOGkSRNbLXsRbwyb4sF1LKgWol5pgN1iOlKEMZgiOSUtoWee+wdq14yYEdHR3VwcFDv379vY/v06dNAmPF+bMOnLwTOcMyJBY+N/70zwtd5Trkm11MMFMBGxtAq41D68zqgPUWiFuBiyhLXANGtfAmX4bkr7F3B4mwg43TsDox331kraX7yJhm/HP7+/r5VRlW9wHoO+nWMTQbeOQQUGS+42+1e1tEYgLG8y4W4xuni5XJZ0+m0/vznP7fPnPHBYm+3L+tsKIk36wHxUrkt8OBdJzZMbDNtzNtZSQ8ODpqnTAhjC2yFRziAuSwHeMkBpXICAsG1FXeJ0WQyGWwHSqXIeNaGhXHlmNOrVNVXVvYtL8j1pov7s/fiWo/B88+Wimc4RwzmMjHLku/3+OEvsoDHsUFPmiAX8/m8zs/P29GGk8mkxcnQDI+5t7dXJycn9e7du69ofnt7+9WRfJn9bul9Bsr/XosADpIMYI2JjBuai1u3RSX4dFxHc1YSQkJEx20oLH2mFU/4Y/zs2MjHmxtmNGL8u7fEg3gJA3jLYruhMj/eRTyZTAYJGRQ/0+FUrDAn32/r6L8tbL7HySbomZnWFNRszrq6OYmS32cmtxejOf40v1GuTNG7YMIGL8fCXG0EHTc5ZkKuvCMfpMY9rOXaCDw8PDSFPDs7GxQqI/8k1Bx6eeztFKz1et0WZ62RuN+rq6uaTqd1dnY2eAn8x48f6/Pnz80iQeDtdjvYTsBi3mw2q4uLi2ZV6B9B57kWerC0C0xJubqZwWSOmDhW7/b2drC+hOLACOo2Of6OMdrDcYAs4zAUxUB5TD7e4fHxceDVEAhnMPGeXgdyjWMvtkqvCKKwYGYM6OMiUnmYi79L42KDmlAx4au9KoK43W7bOTHr9XoQwgDhUKJcqDak5RmuTOE+aHNzc9PqXA8PD+vi4qLtUcSj5n45QoFMqrCYz7KNkZ/hrekxdwIjLREMJpXqrB2xz+npaSvJMrOdkkdQ6R8PZ0HONZ9kurE9yoNH830WJMY5m83aCxaBcPSJMYDATs744BUgHt7Olh+Pk9lEB+XEtTDEnt3NMSReIK9NS58t4+30Bhi2Xoaz9xzuG7uulyBxrIlwWkEdo1o5EpoaLXAdfIfeXlOzgDvpQax8cHDQSq5SaUnUMXZCjMVi0U7VRt4cuyE7RkBkzhlPU7RcvGSSlLA4hepdsMfHx23x2hbMjEmiuzIf75KxmT1DKnDVa+bNwTf3YYWYuM/z8xoO1yAE9GcoZwicAgSNGBsCzOfQBUXL9LXjLegAo/iu1zLe6l2X8Y2VIZMd+b2v4/db3+c4fJ8Nn8dpWqT1t6JZAfjbyp9K69jRY8NA7u/v19HRUTN4PCPHvtm8vmB+Pp/X0dHRIOPIs1FGywV/u9951evRcckc9pexRf35+bk+f/5cP/zwQ9vtjIV4eHiov/71r1/Bg6phOtqwbbVa1WTysu/n4OCgKQE/LPLyyh3GRnEsE844k+fwbCDxbrdrkNLXeaEaZZnNZq1gNDNpeConjlI4LAx4RoJtqr4dW2GoctHcwobgJkxDcLmWBrMTIXih2JCMzzzPbI5/xzynEVGOL+OtNBo2VOlt3b+hJtcaCTihUfVSZXRyclLn5+e1WCxawbgTTSTKeBmLDS5jJ6m2270kSljOqXo9GtweutEZraQIOK2MKye225f9Z/f397XbvR5btlwu6/z8vA4PDwcP8qRT4xF0tpvf3d214kwmwjWPj4+DEh6np+3qHYtYMapqcJCQ46pkJkTPzYk+OdjKTXwBfewFKXD1DolMYLhPzyWVynPJhIot6FhLZYMX0Dpp9has9PcOCXrNymPhdx4gs3W9RIyf68VkoD/Q0FBzsVjUcrmso6OjwUsJOc+DGBXacNaHywCPjo7q48ePVVVtMzO7A3BAjM3jzDbwaA4w89Qh/saSkL0hrbm3t1fHx8e1Wq1aH2ZuQkn/pAIR93gBkb56qWpw+FgmLOGeP+spmvsC6mY5ET+ud2MO9O2YobfgnmPpxUHfgm8efy9Wys/zbytoT6F7Len/1jM9vjFvnPPsyUrP4FiwUXqM3nQ6bUp2cnIyOJPRhzjRl8MkhyycGQLKcT/IJX+P8a7FaGw1sDegEyc+gC93d3ftRCzDtt/97nf1l7/8pa6urlrNIxbPMIQJbrfblvXz6v9sNmu1krb+EMNQ1EsGt7e37X+qTpiDGWTlcDOksiLh0X3KF430vLNkJvhu91KV4jQyczCMcoxq2EnrxbxpyHy9hdPeFqGycjku9ngcl/aan2c46c/cDAv5338b6sI3ZM7FxpZLZPf5+XlQQjWdTttroA8ODuru7m4wL4cIzJ33ZCMHZCjZZQ0PrFzT6bRl1DNOtSFoh/Ow3uUEBUTx8VnELgcHB4PY5enpqR0FBwa290HZvO7m+CihDQfx4N18oKrLaFBMIDDXkWVkbPacPMsr+jDHhsN73QyR7HnxeNwHM4kFITjVLUAa+kBxvZ5nRYI3zMUwtWp4lqYZncJt2M51xLsuexq7l4RRwlbDX48hPa29u3+S7x4jBtGJK2gC/Thag/DChRHsDGBfJTA+6cRRiMgS9P/xxx/r9PS0KZXT+IyLfWi8430M+s5trZziN2G225f1Dq+zIYisCXE9WZ2jo6NW+5VQ0T8Q1ouxfkZVDdbnjPdhpnG/40FblMTPmdVMhhumZhGyU9VplS1EXnQngWNM72ePQcQxKJVC6b/H4Ftemy3v9+f5fw8CpifvQUYbKDd/l54UGqbRQOHY5kIIgwIYOfXGCdrIw33ok7VUYCgeliSMvbBDLM8NuWovuZhOpwN8msS5u7urw8PDJihkXE5OTporvbq6quVyWScnJ/X999/Xzz//3Lak2Go7MeDkBIe2othUUrhEbL1et52/LvliHoYYg4nOh3vuOKPPCo7hsAWFmK7McAV+CpYD9tPT02Z5DT+85phwMQUPIbP3g3Y9hevBN9OC+WMYXTeahoZ70oAYWqcypNyMwcWe8m2320HZVFbtgD7sEEiI4J2Zvw/IMU0cimw2L4dQJdxbLBZ1enpah4eHTR4+fvzYqop4vROIDpngTaHQHb2aTvUiQlzs2dlZIyBM4AWBVdWyPI+Pj3V7e1sfPnyog4ODOj4+rqurqxbPXFxctPQ9i4kpHEwchpydnTVPiRAwcYgMofFkKMF0Om0vK4CproznXjKKEIS4ybWM9oYQn9rOquGWCa630XBVf8YxMIByMNfmuRLGysh9zmAyLhdyZ2bTwm4omhYeWmSqfwxOIh+ZSDFsSu/W82j+Dd9dHeR7rcQkyTBo8HUyeT3b0WffO1OJLPjYAXi2WCzq8PCwTk9P68OHD62P7Xbbzi/lGAT4/uXLl/YeNM/R499sNsMzQwgqHbckoapevRPxDwWXV1dXbeLL5bIuLi5qf3+/LQk4k2fhMGNdpWEYY+gA0RBIiJFwBI+FcmHNvGgNIWzVea6DcnsMW/hcg6Nff84zXItouJpQ10G6x8d3zNNjrRqWTCXczURJ729fZ8iccLIHG5Ovhmc0hwMJrxJC93IF0NUZwvv7+8H6FWPzsRr8GJb2Stomk5c13bOzs8HryDD2xILOPn758mVgIHvOpKqGirZarRp8zMVKB3rg4Mlk0mr32HVM6vTi4qI+fvxYDw8P9eXLl8HkzCgvI/gNoMkgZxAzaZHw0fchtFzHvU7ju36S51fVQMEM4/x8C7Szkh6n5+w4ompYKW/lcsLFmU17lBTqTD7ZMBjC5Wf+zgbNLRHJWEayd69lLI1oGhVDViBhemHHScgrqAkvRNbb9GZXAM6EZ7tggANTLy4u6suXL20ci8WiHS/OUR6Pj4/16dOnrzL0vTbnAcQtLmEyZJnPX95R9v/+3/+r//pf/2sjtt8zjRCu1+v69ddf6/j4uI6OjtpSwN3dXd3e3rZ7LeQQl5jMax0oDwS2gnhyMJ9Jp5DY0tEfv5mn3xDJdff39w0q+HRfM58lCYpk2erOOJwxQ5kRDB8956UOx6ZeejBUsnfMGClhGO3m5qbNzcs26QWtDFZOowcrIPPKzJu9dVUNjutzUfP+/v4gI21jREV/HlngbTZUF3E/vF6vX84TYcx+7zYFEoeHh/XDDz/UTz/9VLPZrH799deqej17/+eff26ZY9aLOV8fmYWW6a1nMx03Z2I5I+cbWbOACCao3SkPdaC9XC4bc33+h7F9whGUBmJzbQqQodxYHAhT2KWQsZtjEqwg/xNzpbe0BR3rDwHuWX4MHPTESFkZ7TUSBmUMl7GNM7DUl0LTHs3tbTLG8t8OARIuEgr0+IniOFtrw2Dv5gVllMY0cULHiS5omlByDNLNZrN2GConDdgIUmBOLIfBvbu7a4f3pCHpta8UzVk+B89MDiWxl+F+W3Cq/Zmcjwi4ubkZrN0gtF7VTyYnLDLTE0al4rkvBM3eIZ+FwDjpYY/ka+1poIvjr1y28L1VNajyTwXLzF9PWMaUAl5yb56VAb0thDwzs6A557cUzXFm3uexOOvqDCbXOElmXuMI7Mlct2pP6RpUl2d5vJRV8eM4kgSJFQ05AJ0lDM/G3Of5Ba+24aXYKAQWcX9/v66vr+v09PSrAzbv7+8Haxg0oAIW68cff6zb29vBG0S3222rNAHzcrpRCpzhiRXKliWTHo7l8CL2PFhAW31nFLkewrkixUkT98lObN+LsUqrj3AwL+9w+JaipXIzJuacqXss9pjHyf4t7MAtJxZsIAwhe1lXKyl09/82vjyf/4GQnIyNMScT/uuvvzY4hwJSsX98fNyORKiqxpv379/Xx48f26nEnGh9dnZWBwcHbSmHv8kYwy8bddM2+TTPoJi9Yh8/fhzgeNYMtttt/fLLLy0msUATQLK+Rt9YMPpjw91kMmkxm+OntDpWCvrDGuV6lplrJuGleh4IgbcQ+AQrGw5fByOzcsFjdrBtD2xDYYvueftvPA3j78FseyfHbO47PVD245ZQtPesMciUz8sYj2uS/hbcXizGe9B49/TNzU2DjLm+hoGh2GS2blUAACAASURBVIKECTs6jo6O6ocffhgcdIuM0Ady6XNFLi8vB5lGJ+U8bhuOuQk+mbxkEUmZeqOliX9zc1Pv3r2r+Xw+yOCgaKlYuGIaFtEuvmpYmWJBG7PqeKq8zjjfWT3328PWmaiwgiacQpG8EzoVOTNbvZjIDPEYPU5/1osnkzamj5MpqWRpjXst4WIqp728lcu8cVyY16VC2jjaW5IxfHh4qPv7+7q6umovp8xFf9PDUJLx7O3ttWO/OcTHMaILBKpeEz4Y1uvr64GipTc2bZjbPL9gbcIt3SDYf7lcNrg4n8/rj3/8Y6sGgbkw3GdAQHhePuBaNbJ2hm4WxMlk0tw88ASm+Hz1PJfPzEAZUA4LDlavquri4qJlIXkmlSmUVLl2kfvp7/HxsZWk8dyM1wydvUidhoEF81Q8NrVmYsTC7sxexn6mayZYPMbMmKYw9RTGBjwTZIaO8M99MG7g4vX1dXvd8tPTU11eXtbl5eVgYZq6TWjtPABrqgcHB/Xx48f28ncOjuI7+AMkzVhxvV7XL7/80qpAbNgSAdhYzM04JsgBKSYurpujka+ururf/u3f2vul2DpzfHzcTgU6Pj5uGUJDTw8GAXZDcCAWsQsEpFh0t3t50wcKs1wuBwGyX5LhdbSEgYZA/O+CaSc2qH3r9eEXNHC90+/JkIx/7PF2u9fj7lxlYivqlgJuBfELHs3rTFZkP/7M8ZjjquzL9zmDiqF1QsPrX1ZmEAXxLIYYQzRWBM31zLlq+DLI4+Pj9u51H2WQxRCMh/dVAzXZh5be3XxL2WgGPQdrS8NgIIy3m9zd3dXnz5/r4uJiwARW1i8vL5vlQ0EYCIyyV7GVdTbMC8vuC0UAcyOMFgRno2zpe1DJEJJncF0uQkMnC2oKm4mcMSHKm4qWytJTMn48tkQcVsSMg1KB8m9DxbTKY3P2NaZPLlX4cyuT11IRcj5nr6STN76+x0fmCNogvgIqYix7kNfxP9+zE+D+/r6hvfT8CctzTANFM+MJICGMIdxut2vbYP77f//vbSHx4eGhvvvuu7Zwy8IoJ8EiFE5gkN4GjqHkxtdmiHG2rdZ0Om2L2UBVJzGo1zR8qapBPRtKj3D7WSxA73a7VsNZ9VpC5mwi/9v7WJFtZXsN5QC6ZEKGazA4Y0pi5hudvNUy69eDiokC8np+84Pgmpc5VpozynnGozcoQ0ffS4KO556entbp6Wm9f/++HRMHhLThg0+bzabttfzpp58afOR9aavVqq6vrwd6kkpPKOMcwGQy+XodjckTK9mi7na7VnIFwS8vL9u55Zzm6owk6ViEJSEkEA/B9JHPKEEqHZ/BGPaVea3LC8GkaJ0htKLZcwNZKTA1xIDp+/v7rR8ExzREsDLzhwB6MZZ5G54SeLt58dlzzyRNQiqenQpiFGJB8z3MJXcr2Jp7/FagTM5YWb3cwPfIiiss+N9JM7yO0+ieEwZ9Op3WDz/8UKenpy2cYb4c6Q6f4S1F9Sxbkfyg3Oru7q6FKolEMgxJmn0FHSEimcfNZjMQRBNst9vV5eVlW6tgMXs+fzkBljIiJmKPaCYzSH8PnEzLmc374XzcgDNIhq6e43Q6bV7b0ApPwT3M25UlziT6mfZimSBImMU9fJfw0M3K4rnYa3yrOfPHs3OM/i7nlZm1Hmzyd70x2ajkfea/kySZNPE40rixo9rvc3ARhmMpwhQUl0QXm4ZRNLLrrjYxjbxG26Nt1RuKdnNzUx8+fBhoa3a22Wzqr3/9ax0fH7edqCRMfvzxx3bQyXQ6bZZgOp3W4eFhIyxMgZgWOPBwBv+eBO9BQwCBG97ygrezO+fn+Pi4PdeVKWm1YIZjLysyYwRK+oho/9gKJ3zMZ6cSZFYwFTgzZIZHjoHTeCXM83wsF+mZMv5LxespZ1W1JFeiE8dmhpAk23xOYhqk6fQlC/7+/fu28ZgDa9NTGi0Q4lRVO1+Ewgm/mASPyhhNK9PfyuXwY24mWIE494OH5vd8dnt7246Z+/HHH5uw/uEPf6hff/21XWviffnypUE6PBdwFaJR/oJwOm0Oc+w55vPXI7+3223LTNKfJ0+6ne9cr+jjEzKDBpz12p+tJAxcr9dtoyzXk71yQsWZVCc+vOiOAHMfCt6Daf57On09SxJ6Ju14tqt2TGOXMNEsL+aBr+vBKn/Odwm7kS3m5rfJOBFHMQGJDc72+PDhQzvajzM8nEXHQxHmrFartsGY6hEbTqr0p9OXk44pqHBRNDKFwYT2WUjxVTLERMMSIBR0zE5k/r+/v6/r6+v6T//pPw2s7sXFRa3X62aNnEmy8vi5ENv9OF6YTF7PDEkjAUN6SQPHEhkM04CLtpr8n4kYrBfjTGtmrwTDnemycGU8kx7tLVjY8/ZVr9DNAtBrPfq/1Xr9JHx1vNKDkGNQMxXSUM2eAwM8nU7r9PS0KQr3gE7cp70fC84k4jDUrFXCd2Qp5c/erOrr1zkbMbQ4N4loIpBNNCHs3hEyZxixyuv1um2eI1Njr+TULTjYRE/FMESwp0oLzPeZoMi/TXj6wDJloL3ZvLzGx8kQIAVGB6jqeMEZzBQqM8SK6lS+x+wf88t9+rPdbvg6Y8NY32cvZIHK/pNOGasj+I6xegaIZ3I99MWQW5h78HK327WdILPZy3scoC8G2IYx4+31+uU1ZMjuyclJVVXbKsOYSHgxXs/FNBsznDbgXUWz8LFYONZcdbBer+vLly91cnLSBglmns1m9X/+z/9ppxEZpkwmk7q8vGyx3eHhYYOTrGmwSJ0TQ+EZ+2QyXDpAuHzQpeNFYKSFgQX5T58+1Wq1alknC5Pp5TH55RVWNEPTyWTSKhCghSGl6W+mWonpi+t6yaKesnA/e+CyVA5B9/Xp6Xo8gEeZdfN18BIe+S0yoB0rF+jE9wMR2XzpWG+7fTnc1wW/9kj39/d1e3tb9/f3LfZizAcHB215iaUoJ1I4Hct0xpj74Cj/zvzDV8kQNxbonC2jg8zkUJpC9QTHrU2nL2+gOTs7q8lkMjjpuKq+wrJUZbuqA+bayjtDxYTSpTuFTXPSA0LbskJcPJQNgpMN6Ym4HyLb6zptn/CK8VTVQOn9HD/Pwu6x8/weVKPxOR4pY7JECNxj5eopHs2wO5XUCRMUgziMcWeyB/oTW3mJx9e5bA7FxziStndc7dCB4uKjo6Ov3uPgt4n6dVCef+Yvkia0NxUNj0ZnmX41rFyv1/X58+c6OTkZlF4xmfPz89bH7e3t4CzEqtdqa0NKW/mEVzTHcakErncETsxms8HCNhAHJrEpFDiYwgkstOI4XkRgMDIInwuTDcMtOAmfPRd7smQ0Y3HyoQcze5DVSuQ+0nMzpmw9KJ/xDM3G2XLjZ9hzYFAZE0bYMBjkg6LBY2A9x92zUO0XsoCUjo+PG5Iy/RlrLznm6zx+08w0nvNBb12DSn4KhxEaYIAtE8L1888/12azqT/84Q9t2//19XX9/ve/r3fv3tW//du/1eXlZV1fX7fiY7wHTKK2jPq42WzWFhw9wd1ueOaihXE2m7XM0+Hh4aDWDuEE1nndBeHlO2hjQnp5AmhJgsSL7/7xGDMWAsrwPVafeWZyxl7LJ4z5Odxvj5dGiecl3IE2fJYxiRXA3mWsdA6BNWR0xhHDRYYWAw7tyUgDMymAmEyGW7BQZE64spwwF0Pdvb2X10Ofnp62bTQceZg5AuB+JkaoeEFO6d/0m8/n4zGaFchvQMnrmQz/QwziIGfy9vb26sOHD+3MhdVqNarkVTXwaBZ0E89W3CVL0+m0xXUQK4lgaIkB8dwM3QwR8Kju07C6Z9384xIs30NcYoWi/54yef7pvbgfAciKGCCy+ed+0qO6AfEwWHzmew0RHUvTHzzAwNigOJmC/GH07+7u2v4wI5X1et1OqnY4gtFIw8dR36y37Xa7Ft+lPNrDQrceLMZQ9LzcoAQr3T6d2DVbcKqGZ3kgkE9PT3V9fd1e+EZgPJ/PWwX1zc1Nq5fMg1BtLVJILVieqIkCIxOCWIASvvnvqhoE80CVnnfoKXzOI5XADE8Y6P6donZcmYpsZfdzHcP5+abX2Lh7ytuDTn6Of0OvlBsnpfidKfnkh5XV3hHoj6fkuMSq1ziMcVguOIWYQ229kI1xsJFN3hnJYVASbif6midzLFx02Ms88gAfX8Bnq9Wq/vf//t/1P/7H/2iVFz6Q5/e//31VvcCem5ubdpAlqfOqaljcUM9MsLAzUXsKUsAovj2CXx5HRgnLx5ypMiFec1ICgQJKpKGxMaDftJLQ23vZ8jtv2cBQ9ZYKgDlORngrC+MDohu6pXX2XJ3ccXOFBLJiw8g9nr/lCXrghTKBQp/eVJwGCs/ltxexp5FrME7b7bal7mezWX333Xf14cOHWi6XtVqtmrcnL+B9hm8hFX+HnJl/rhya27pnQ6hYFWftyEKDNXl6empHFOx2u1YriUs1Q9frl1fy/pf/8l/qr3/9a3369Km9I9uDt0X3CVuGKGQ5uY/zJHguE7flMtSDEQgdCuTYDzpk9ssp6/Sw3ilAatpekGtJH2NQLOS2mPbOPT45KeFnGPpmds6K5nmm18/mRJDnbe/oeaWXcAo/Pbr78jivr6/be/Qco0FfaJcexj+np6ctWWclRY7IMWy32/rpp59aQmtvb6/tsfRYc/zQxjxgzt2so5mJR0v4aIXIbFLV8O2HDIB7SC0vl8s6PT0dMMRHPPN8iMjY7KJTOF3EbHjWg2y2RiiHjwjPxeNMEliQ/ZnjIP52jGQvY6Y55svKBkM3C7eboT/92ij1lMjPyL+/1RJO9vozHPd1TkzwWcJDlOzx8bGdEXJ/f//VDpKke8oIhprjC6peS+rgL0pDYYLjcM4JcQxvQ+3PTBvkYzabDd8mwxcmzGazaV6CwRlW8H6zrEWsqlZJgcXAsgIZ8GwkLlhYhgHL5bLW63Xd3t4OiOhtJixSch9jxNLxTJfXcKiPrSFExJvRJ14M6ObKF+IEBMIlPT4TEG+Gstnq2us6pkkBcsxho8W1eR2feUnCyub7ey0FN2UiZcbjoDEfX4+QG3bSt19VO5lMmlLd3t7Wn/70p7Ydyi+X8PMwVmSt2TC63W5bTHZ4eFifP39uuQPvTPE7HZAjFPTy8nKwF47m5Qhk24ZmOn05Nau7w9pWFKjHIjIC5rIWlA8CYvV5j9rJyclgsfD777+vX375pZ0GO5/P6/T0tP7zf/7PzWrd3Ny0hW3v/7L12W63TYgnk0l7Zxte2FCQ8hyI52wmHtDxCZDU618IAxieRXmE0m+PwWigxE5ipFcz/TAitrY2LvbsKHkWI3OPIWkK+1gztE7P57GnzNCc4EkBZBwoE/9TYc/7o0FP7P9iwRn54ZnAeTsLx7FHR0d1eHhYR0dHdXp62sKg5IUTeO/evWt0dcbcx2kkGsBQOE7OtdFurWPibwQ3X4kEERNPo4ir1artTnXVAlnHquEOVd6/Zs/hfUB2906SGMYxj4wB7A2o8GYumVlCYF0aZY9gZuLFEAIUzVg9PUcvoZHCm7DM0DMznqloDsaTt35mr/U+t0dLr2VY73liYEA18Nnw0LEuymZ+c1ZIljnxd8JxxgItOIr++Pi4zcFxedUr6iJhRh2rldgJKUNdj8nhieNR+DPPG8wQK9tqtWoH8bihVFgtW++rq6uaz+f1ww8/NHi52Wzqxx9/bN/htSAcu7XPzs7q8PCwraGQkCGGc5DtRVtvu3FSAmIAAT1PC6SF1p6PXbepRBmbWvh7cVBmKxFKGOvm5/ikZ9/POHsxIM9zTJqwr2ehraQOFQxnuT+Vy5+jKKALmmXBNMQ48gyXZ3lcQERnOdMQz2azevfu3aD428Jv+eCcRtL+nA6Akc3lJ9MP2lpnzLe2rJA3pyXlM59EZJxvJtobkuZn7w8T9CZNsoXeNoMSrNfrOj8/b/0sl8u2aIkFTE/m7KazjB7XdDqt29vbBv2c9Njtdk3RKTT1uo/TxhYMaATje4JrKDjWDEH4cYrYfTBeV8mnsDOuVDrTpdfwPPxt+JkQNOXFslH1+k4GJ3fS+GCUeAMM1R1Aeip87NEz1e9s6nK5bO83225fSv6cyCL8YHmJeczn8zo7O6uTk5OmoIRN/G1kNpvNWibSKDDp/1VliIlnFziZTBoMSEImca10xr5nZ2ftLR5UUfcEtZdBghFZpoPCOYFgJTDcA1ZgpQwLDQ+p4raiIXjuw2VC9vxJG1tYe5ykd16fSwEYJ+Zp+vi6jJcy5krepjd2f/Zg7vtb47fgeU4IaXo388fGhrmmN2HceCHzwWd+ZILOczFctBeCVxjN5+fnwWnaPRqbrqZz1WsYNFpUbA0lsM4FVAZvgiS8eH5+rsvLy3r//n1bEL65uWkZHL8wbm9vr52b58VjhJvFXb9HjR3RVTXYtu5+q2qwexuo5Ro79iPh5axoBNGO8xwH8YyeQJgJvesSutuT8T00SJo745XQ0IJjxfS4es/3uJx08r0JldIw9sIPxtEz0vRv2J+1lmm8HCr4rJj379/X3t7eoADZxtJy4/xAzoU+CVtMl/TY9rSOWfm+m3Uca0C81WrVXjqI1/Dkidl48PPzc/3888/1xz/+saW71+t1/fTTT/XTTz/V//pf/6sN7ujoqEE5T8iLqygfbpzERtUQcmWdo4lKnNfw878rMRnFxP/G9o6LICTjmkwmbTzEqt6PZoEZC+SdwMkj5rgfIbRX5XfGVnyOMNtYMB8raC+xYRmw9/HYkl9ec8r7U6nNW2gLn6uqGT4bLGLW5+fnevfu3eDVx7nsYnnZbl+KGpw1Ry7Pz8/bZ8xhtVoN3oRrxPZWwwC3qqO0bKmxZhiY2cJg/J5/+xrS57wChwGTgWRd7fj4uAlrrrIbwmF5iFMYmw9icXrWgsQ9Va+ZTmeZZrOX4/LsrTiLxExLS04/0Mzp+qSvIYd5YGFKGJItoZ8X3HsQ1ff5J6/LOM/JJwyKx5Zz8z092cox2JjSb0J8nxANj+bz+WBbluMljDVy6womKzzGdrFY1Pn5eTvhrOoVIZkvPQRgr2346Pu+KipOhliYyCSlRsOExPX+/vHxsR3l5cXli4uLdmYeliZhlpW4B2MMF70QDZHt0rPihL8RUvolkDasxcp5L52Jz/MQNMegvVghGZaK5nm6eVz2LvZavTbm4bJvxpLKlLGiW89A53f+n2vs0Z1hdCLIikYDKZycnLTYvhff0Z/lA0Tg53CcPWunVTV4CTwy63En4knD6Hl2s4789o3EaX7/VMYaCUPscX755ZeaTCbthW9Yn//23/5b7Xa79vpakiW73a7FVXkeh59VVQN3j2LlycS2hnkIC33hdate4SXfeS3PyRhiPhTLFQXA6dvb28FLKnzkgZWql2nsCXPCSeacsYj54/7SoJo28LWHKFIuMu6y53LCIxMGfg68ISaHj36P2WKxGEDD6XQ6OGHs+vq6eVojFmQW6EeSi/Q9dCFO9+bkqqrVajV4lTO0Rvl4HgbaMuOxvpl1tIczFLq6uqq7u7tWZe9rDClRRu69vb1t62MkHCjsPDk5qZ9++qnthM0sIlUDTG673XbPvOitw9gjIjwuDoXR3M/zqd62EjBfC7XX0SAq40P4mKuhhT2ilcYWfQxy2YsxRsec2R/3JX95hhXYQmJF9RyNNnLcvcRFz2Bw3WKxaAktG1GPo6raxks7AoyojQT9o2CZgKHPlg2cz+vdu3ftxZvIgZN/djaZrEpEYWPibHPXo/UgJIqEMCb+5qEJPbifd1utVqs6Pz8fCB1nZex2u6/2FKF0fuZms2lZpbT8DlhdyUKRMZYTAnh9xady3d/fD6x6woReCt5z6u0U4H4rWEKsFM68t8cvj2sMcrq/FJyE4702BiX9d47Xc8nvucdJGc8B2vO/CwmqhkfRpXFBUeChk3NWNIzp+fl5nZ6eDsbIslHqgmmdY07a0rqK9lsaiQssQs9ieZBM7u7urn7++efBEV+np6d1dHTUatoQQlKzeVQYHs4W1J7L8NVZuSyIZlH64eGhTk9PG0RBKXllD8qIwpM6huCZvXNLj+tG2tcZVgtUeruEujDWMSB7zTJWYKx8Tv88A2WzN7KX78VX/j+VMGPATKY48WE6brfbdnaH4/XpdDqo23RROPEb8+Pg33zrC8XdWb+6v7/fts+Qrdztdu2YDc/RML03fk4Xg7/enzbYj5bezBDBlsnHMxsbc62r4s0IVuIfHh7a2hXeZTab1e9+97v685//3DKCtg4WSL9BBQ9huAlRxoJ+4NZ2ux1U1js2AppynWO5FCKalcMQ04vjeFULN/PDymIY/Ax+ekbNdDccTFjL3BwXeb0x4SR/I1w9JXMs5uQQsoLnmc1e61YZF/Gul0FcO5obKenP4/Mewevr60EqnnlPJi8F34wZPh8cHNQ//uM/tjDo5OSkoSAbMHu6bHhdG0L4By+r6lXR/paWL3G3MuVPjzGU1PgNi7PZrKVqScM6uIfgVnpb9x4Es0IgZCZGCq2F2VlOx1UZh4zBoow3uNZj4Z6MA1PgGY8tKy3r+9LgpYeywthI8NykIX97PPm9vWtC3nyW59SrKe3VFdKHF5wxRE5UrVartvyEcbRh85iXy2XbNsPnFEOMPd9z8/+JNux8mqL1CP2W4u12u/ry5UtdXFx8pUxOPCT2pv/pdFqfPn2qqmqnT8GQw8PD+u6771qATP95gpUV3ILm9DCL1BAChlIPiULliUx4O/r29n8LvZsVkWcuFou2iRBB6Fm+ZBzjJ6OWkA6BozH/XKjGc9kIWRgYrw2FPYeNig2WIaj7sHyAXrzUYUMBRGYdjH5IYHjeyWu/K41nkIDiTH7GA6yk3taw/P379/Xhw4d20CryS9KNMCL1A7qa7/RpmUu+DhSt54WSeZPJpJ3xwTuafV3GSv5B0+/u7trGyIuLi0Yoiodhwr/+67+21K0ZylFiKJgtN3WRYHkIwl4zrmG+6TVJAwNr8axmeAoNzbvDbXU5C8UxGONPj9bbDWC4NMYTIL3Lw6xEHpvjJSuCj2bgGc6uMXen/e2FWfy30WF+xMPHx8et/IlaVZ7PRs80rOlFOVZgs9kMzvVwhtCFAsBjeP/73/++eTKHR1QG5bOJ6/nbhhfZtTzyuQ3S35UMQYgy/rGV808KCZMnA5lwaj5/OS3r/Py8ttvtIANkeGLvYihpfE5zOteezy09DM8jY8k9mRbPvnI5weN1LMQz+D9jPNMvkxI96GtYnVlN9+dkhPnkHeIZUqTn8zjGjLPH1ctsYkRAI36/gecLjfjOFRuO6Tx3KxvGgaJx1uRSfp+fn5txHjNuvXn3DCDX0OY9In2rJfTI73qK5gERGF9fX9cPP/zQ0q92vYvFoj5+/NgyUATG1BDSF9djWYzdLeCUf+3v77fspokGY7jXMPH+/r6VYG02r/WVMJ/rHR9hHfGOGQ9VvW6997KAldHrgll6xphT4fBS3pFtq+20OF7M/IQeToTYm0NPGlCqZ0ydYWRdyov9jIX/fSZIVmHsdruWTfTZiYzfyR57NcYym728Z+Hi4qKhsFzkfnx8HByi5IQIOzaMZNIYJX2sdL9Z0VJT1+uXszzev3/fGLe3t9fO3YexmTjgN4y4ubmp+fzllTl5wtR6/fIGxn/+53+uz58/1/X1dVW9KCqHaaK0Fgisl+MqCGHrZkgIYZ0RdLwBFCV+zNOFeS6KxyZCXpzg3bps7+CVrSg03wM9e4WshiPQOJnuv/MzC4+9m+mQSCQXbd0SPrvv3niYq2sP1+t1eyMRxxZ4ky+0gnfQmfQ+iuAXofgEq729vfqHf/iH9j41wgNX7yBzVa9rbD4jxLRPiO+YO7PJTa6sSGNK51iCv5+fn9uCYK/lFgTDB4QJJjoFjJDxHPpAYHe7XUuUGFNzjdcx3DK4hmD2DGMZO+YLUe0l2LwKfbzm5ljFlhLv7LgCYXEs0FOWpHd6F2faEkpa2RLy2uu5OUZBoPxdD34njLbHRAHZUEk6nvNCOHHN1fYOEXrNSSbH6BSHn52dNe+GMfV4vG/NBQyeH2NhHPbylh/onPL7zRgtvRCT5nQiBsdDk8B87rWYnADK5moNLAOWfTabDRIlWEFblf39/XaepIWCMaelYewZSxky8ZkDe/ap8cxkkmNYEgy8TYeqFp5jhmXc5vEwj4SYVnrS5HjsXnofxR9T2B4CgU/MMa18jo+/TTto4p0WFCmQFLm5uRlkgekLaIkXSqWD7o7LKKM7OTmp7777bsBD3luObFFXiXxlAsi06yk8PLGSpeMaLSrm7zEvd39/X58+feoG5YYoKCUxTg/K0RBALAMLmH5xPaVcBwcH9cMPP9R0Om2V/7zPjELTqteCZBTUkJJnY+FyDoyFcQBFiB1hnhe5XUHi57BNn4RHWnnHVvaKfMdJuxYEj3UymbSz47nPcaufZ7iU2TWuzZiScKBXlpTJDSMV+HV9fd1emMK7zTlPhB8bBieGCA98dCG0sFJigFn8/vDhQzvnhtiaazAY19fXbVcJEN9HXFgO7GxoDl2SHtBkt3sj6/iWklW9WBnStHkUtC1dWjtbTBhnrwRs4H+nfmEeDDUM9DJDVdXp6emgAoLrEt4B6biOa4CqCLUrSIB7BNhJq+l02naK01jjcaIhs14ZD8FUV5V4Hr4vvVveb3qOwcZUyPw+PZk/8zMTnvp7x2gY0ezLi9jIlH/yuHdnFymtoxjCIYblk9iYZ0yn04ZUegUNpreNQHo4r5Marfxd6X2YQnZoDLv3FNWMJKiEKZnpcjDpfWD0k9YsYy5b54RREDwPVoXRuTWDg2KZO4rmjaNAXDyvFYIFU56RipYJDisViuKWEMWGjDlaabnH80+lzHKqnqKlofT/CFdC4jQMeBgUzUcRMD4SG/De4YfhviEb93GWI3JE8olxWb44xh7kkkbNc/D/Vy7dTAAAIABJREFU5kP+7hnCv1vRPGh7DAiZWSsnO5gk1gbXS9VG1cuiJES+vb1twj2fzxumNpaGcSaILZ9T8k5gkE3MmM4B9Xw+b+dGABVsNauGu3hZzPdyAc/wSVlWCtOUezgjJaEip4VlQXdv7Ym/bWFdVJxeyvd4XG4ev41WHl9gtGJPVlUty3h9fd12NduYEWPxfEIADAh98tql+Xxe33//fYPYrlPNEIUXs5A19oG4jtXdMsuYB/8kfTIp8ncrGgTgRF4HoD3YmYkIfjNgF/XO5/M6Ojqqv/zlL/Xp06f6+eefXwYb529YUJxxQrmJi/zMLAK1cKVVqnr1pv786Oio4XrogNBZuJiv12UeHh7aKU0o8hgMs2U145g7sYafk9aXvixovt7xmu/LGC09mT/vtbdQjT2nY7/emBOFYFQ5FtAVHrvdbvBePqMBjDBGnfl5fXUyea1uyTco2bvbWzvmhv+eO6jiP6RoVa9vnMyKejfHBfldWj0H/CwhUHLlDZTuL/t0kqEnrFa2qmHxscfBdylMjglcie7Yw2l6Z8+qXl++l3CbueQSAi2hnqEm40o6ZBzH39lS2TNNn55yTMG4pmdoPV7+hwbmUcaSGJOEiEdHRwPo7q0zmbnGkBh1oYis000mk5attXH9VijUg4pJu79Z0bJDDkkFU/saC2kqFA1YaTiEh+R+Jk/GylgduEGWzefxGXrgKRNypSXNinIYYivml9mzkEranswai+kWDseCLNCb6XltQj3o6rNNoE16JIyNYxkaMSselZZrh/zuKfVvicF9D+tjJDBY2M/tQxSaLxaLrxavKRg4PDysi4uLdtT39fV16w8FXa/Xtb+/X09PT+1oDOSDVyNPJi9JLxAK2UaqVCyrDoVSF8YSP172+pvW0Rx406kr1HMw/G/Bubu7GxR8zmazlubllToI7tHRUR0fHzdhyh0Bu91u8MKEp6enwbuGITxWC0JbAchmEscRF1kZ8VB7e3t1cHAwWO8x0/xMNnVaOPO3raXxP8zLagMLssdm/ljgk4/p3abT6aCErNdHL/HRg7q+x3ERvGQOKBtenYwggukXMx4fHzdPxQtMuGY6nQ7ePgRMAwJ6HRMjvr+/X8vlsp03YiUjFCDWXK1WTS68Lmr+2QiZphmDV/2GBeuxRmfOBpq4VgozxrEag2Lx2cze7V6OOOCYA2fhnE3jaHBDBK/lWAFYd7HXyPWbDPQhrIURiMK4HUB7PawHJcyAHuTldxq4t7JgCV08jzEYn9DQ3/XGY/72lDjnCd0soPCEZ/mkMRslZ3r5zGudziJ7O4uRBzFZ0tp9gC681lr1mtjqOY0eDdKIJf2q/gOKRmPdyylYLwgy8AzuaVhVSnG8Se/du3dtS7q3LyAoENIYHGsHobnHQTJpeFtDmO31OCwxFpfKBLbOOIVuyFL1UprFm0fzOkO9NCBeo3Pckgy0wCCkvYV33+Osb/Kh6rXqI71mGtFeM8rheVzvzZj0C+ow9HYDIjppQWECxt0KBg38TjR4B7oAwnonO57NSRlnsDNGS0jNXAgdTKM3Fe2twI9J+eGU0iyXy3bSsL0VzZk3xxOsOeFdSPVSnIxXM1xDwRAeCGlB2W637Vy+5+fnVjWx3W5btYChHrDQAuGNgyjI7e3tIMg2xMulC+jpbGzV63vjOJOk5/0SSr71wz2ktOnHnjaNHMJ5eHg4qKLvxVfQnLmkslnguc5JIdOENS2MjWOrvb29uri4GBwt6IVtdnHgxZAd+OxFaMKNqtekE3LjM2FQOhTv8vKynZ7VU5iePrgyJK9tyjjaQ4eQvYcADyBY3tf76cGy9Xrd4jdb+f39/Xr//n2zFk7N4i24xxUfvSQEXsMwIKEOytqLR8D8PMdBMF4n4y/GYg/l3QauRjFcdGazByV71jYXqHveJ6Fk0iwFJr1uL4azdfcaXXpA/28vTALMh5d6B7U9ohEMHsqykQXBhqs2rMwHr8n46c9ztGPo6ULP0ydtvqlovY5TOKlny4f1CD7mMbfblxdJUNjJxPf39+unn36qL1++NOsGkejP0I1mQffL5NliYU9BP09PT22R2x7ZuB8rbXhimJRxEUru0h4EaL1etxKu/PFySQpQ0o3ns/TRS6A4ZmOZpAche3T1s+zdzOOkey/L7Jgt101JcpBY89uGQA30ByTfbrctGQatnWhjHh6zl4/m83mdn58P4kj2xNHsGDzPMdTXW0v7TYrmjmmOXfjfFogJ2fPYQiIQyZzValXPz8+DU3339vbq3bt39fHjx6qqliZGeMleMUnvHWMbjz1ZCobH5YZQkfCwckH4yWQyeDGG54oQ0S+ekioG/vbzM73tGJTlhGQqY9hut4Oj1DJ54GqKXL+DVymw9lTwHKiVsQp0cQyY+wHn83k7aQrafvnypSnO7e1tUxTWUc0vjBzKBRSlRpE+kY2sbzRvWYezkuEwoLUNhj22Y7FM+BjyQ4vNZvMfyzo6zrKy+cG9+9Ia2DpyFN3h4eFAad+/f9+I/fnz58Z0BMBQkb6w3DDEMO+t5u9Zw+FzCGuI6yJoN5JCTvBAAyBT0tJJHt+X8YIzauldrBj+3orjmJn+3MYgP89xSyPWu88xrc8mQXChscfq4+kQeoyOBdroBJmpeq06MXTHeJ+dndXFxcVgTjwr52JFRX78nDGa2Vj/hxTNgkWc5up7rut5i4x/+GHRF0VDEN69e9cSEmQQqUF0/OMtKwiyT1WqGlZQONvl+bD7me0ZfpsJnsgL4uxiYM7QhL4cF3grhuNImuMCFAolN1zNmNAQC4Xi/jRwhnNjsRd/26r34mQnPRLKG/5RB4oxdUwHvPO5itAfj2eIzPhYAmBOhnrwFO+GnCyXyzo/P29vlAVtsOPCBiyNh/u2gevJsu/9uxWNwUNokhms1hsrs+CIMJgAKYDAAlKuntTh4WH94Q9/qN/97ne1Wq3q9va2fvnll3YNWy5IWpgAKMlu97LxzxbWWSeY7PQxFgyhzHU6Qx17CuJNZ8C8XGBvbKhh6Mlc7JEpis2KEdMXAbDnh86sWTIHxms0guU2NMoEEM8YS1Tk9zw/4ySWVDgd+PHxsa6urga8oHIDQwr8fHx8bIbM8pJF1FUvHu74+Lj+8R//sRVHAOWfn5/r8+fPjSeehx1HVQ3+N719r5e4ttvtf2wdLQNlL+Sm13JLF8tn/N5sXs4S4XRZPodJrL0waaenGQvHmCEwORYrOMLs7RcZ1Doug4DEA1QzZDbQCkyzEcoEDv3aC1hInfDg/15rzNXuAcdKGAh/Bx29FYk4DYVLL9rjLYplfjJnFMqZPVL2IAfz0TRj3FYe8wL+eDuMvQ9nuJydnTW624DgbXP5KVuGKPArPZgTMlX/wcoQZ6g84Axiuca/+bunjAS8rKn5Wc7KbbfbwcnGrKO4qp17shrbzcJjLJ9jh3Gz2WyQteMzGM8YSU5YyKuGa2P2moaHxIEom2GRM5DuK7Ol+Yycj+duj5VIYCzu4hm+fiws4FpnPDebzeCMEENQCgvS09sQOmHTo43p7fIr03K32w1O57KH6hln09b/ewxdRTN2f4sh7swBqJnFAStYLguBoRMEyknhemHe5eVl7e/v1/HxcSPubrcb1OdVVVssPzo6ajHAbvf6RpDt9jUbZiiTa262Ton3gXMIP88/OTlpygX+Xy6XdXZ2NvBQGQtxfcYcPAvDwHUYL+4xD7wYbnjlTChCS1/2OvZkht6Gl/a0ORdbcvPPXpLi4IeHh/rrX/86SGZwneMqH+nAAjMeC6iYCICMLWjECsYbY3ykBrRZrVbtLUJkHHsoyDpgYwOfermIrxTttzY/vAcdXZmdA4DR9oBOx6Yg0ufj4+OgBIt1MAuOod3e3l47ygBGQ3xwPYkLIKYVKyEZATMC5wLX9+/fD6CNU/rMkZItlMbQE8/tpIXnb5pZCH12iJMp3iJiOtswOo7MLJsVxt9ZoLnXGcD0aPDJypnZSRs7xo5BtpxxDCHzNKSfTF7L7gxTDw4O6vT0tA4ODmq5XA6Ol6NfQhTOpMGYOhZ1yyRJIpXUEc/hm+c6vuXpeg8xBMhrDGWM5fnfRMjrXKZkqOTr/BxXi5AksKDY2/bmC2PNbBTl5OSk/e3ayDQaZogFMatPekz1WHK+mbyxEhlWOWh3/+7Lz/EPNDOfDGMxYPmq5fSKVi57d5qNgFGHm2nq2Ihx2nixtnpwcFDHx8etUt/GyPylqNxxK/PIMVjRenphdJhtPhZQJ8PpyL97ncKAtIZeM8p1JzPJWSOsTFp3hAiFol+X4uCp6MsVGN4bdXBw0MZq4QVK8GwYuFwu68OHDw0Ocerxbrdr9ZJsyfHWHhepujLFEMa/zWwLlPdTNWs5fz30Nc+8MDzteUfz0AqYQpUpfCdN/r/OzrS3jSMJwzWUbErUYcXJ7gbY///fggCJbZ0+JHI/eJ/mMy9raDkNCCI5M31U1/FWdXUP91lIkmd8xJ4jvVZ8RP9SKBECrLXRkpUNZ4VsNpu6urqqi4uL2TIK/fbSDcsM9oczAAVSMWy3cnFfOsVdVYcvuXhN8cTTGUdyvnz5Ug8PD/X+/ftx3QTrTjJOqwTc82ZNiI/284K0hZk+0E9C70woxKe/ZJfYym02mxkz8f/5+bn+/PPPGQPSv2MnNzEZS9tnqg632NjSM14rGeqzhqY9W82q/a5ut7fb7UaCb2fVXGwB84BTSgpnZ4Hsu9k9sGXmd2ApSi4DT3y+vLwcmR5XV1czRUf9LA9gxaj3t99+O1AShv7whRfU6ftqtZq9VZbriWKqfjLq+Fr4gUVJ7Ubn0ydyJz0hhhQwDhYRDeM/pxbltn5PojW5/cz0J21hmRjaT9iSycHJsAlTl+B3RhH566KhZkrGQr86QaFdri/B5ux7J3hmzhxXp2AyerlkDb0J1NeNpgyP2byJL+YljXQtrCzTei9B9/yctPCYjBRMl91u9/r3o7lCT373DGFbp2JZS9ixtUUx0dM/skBRF3CIiXQo/fz8fNZ+l6XeMTu/kVniawhVrjU5MOFFeOp29M/Ov31JvlsZ5NhgGjMh9XpuKPYVfZ8Z0L50amIzqOmVc2ALg1/GfxIbHK210KXyy2iqk7gZt+E50Wa2VRHgIWEA+nt97uTkZBy/kUKIQrdCyCAIPN5ZsZxD7vtH62hpzar2AuRtDkwiAwW2dZ3MKJSzGWydaJdF4rdv347X9fpIBdqifm99cAifBU5bOFupjNaZYawQmNDcQJgogHr4nlbZVjKheWftgNLTNM2UgzWqJx3L7GJYny6B70nrjKLguhd8/Qes57sh/sPDw+iPYfKbN/t3hUP3zWYzIr4IFhCR+ab/TiKoqvG+hmma6v3797OlAHZ3uP+JRqwgjxWUlxexZ4Jmxj9WPBkJQVxHd+5dml2bdRxk10Fb/p3nzOA+j91JqEweRDIRsl9Vhy+wSE3V+ZS+jjakXfrawT6uoZltGTMiakE8Vnz9R7CP9vkPTdNf6+bPwmQ6dTDY18lbxG/KecggEWNmLdVHddsiIwhWSJ47h+6Bm954y7g9Ts8tY0ne+RF/+3O7jtYROQnYEdVaDIKmIBpq0I4zOVLbos3crwyPs6Z1dnY2y4GzDwGsAfbZIlTthdfa1YyVTJ40QqMyYYbHTC50INAzTdPQ0DBRWjYLm+F30r2qZho878vf09o5yutll4SSuSaWvokVhGnpIBnwzovoCKJhOHTjpZTwCvxAPbRN0KNqf+Apf4T5SSjAOjIu06gTNAt2Rm6tyM0TsyBY/UShIfsVWfj969evdXd3NxiJhtPHYHBgaIQGptluv2/uu76+HoRGoKpqvO/KWqvqu19nKMDaV0bjzCypQKy5zZg+8w8BQ1tSv8+EtwWuqtlSg32YTCkyjVKxufi673N99k+tnR0YclDHAQPq4rv3xlEvwmRewX0glP709DRbd5umabyYBBiKQKzX6/rPf/4zxmRLy04JQ3CgK9FmZ4qQCgdPcWCqlxcMge3P2UUAknofYRbm3wjkhz5aV9kxKJTCR4dtNe1X0IYFMKN8fGYQWCYwv7Xvw8PDzHm2j0hbafrNQG6D/qdVrtq/3wxaOBPDtDCduoAHzGVadgIFjZaUG/Q1WnBd7j9MyW+GagnlPBeGivalnEDu/vqwJlvAqv0Gzu12OwQBROPz75NWaUntj8ITMHkGNZgnFJvnzUoi3SDPm9v2vBg6pyU88NGWSqdZM7Lm6y55mA6FzkBcBpFrTPx38MKbPVngZFJIDLVfZt8joUBVzSagqg7WwuwretIo/mytmwrJ/60hTUu3ZXqbYdK6JQS3ULle+plwOZVbKgv+U++S9U9lRF1WdlhtK6p88wv075Q4ypNxOoJZtbdKtl4eP39c557c6Z7jMR0NExMVWYml4vlp6Einl6CMG+J4MEKzaDq2udhSVdVMK1HPt2/f6u7ubmzSy6Pi7u7u6u7ubhxDZiY3rLEpd4TNhFuKdFqpoHWtuazx0x+FudK/6qKWTHR+dp3J5FZEhvTcR/9IUrbwAIO9P87twoDUgzUAVp6cfH85pI8cpO2Li4vRN6MM/HcnGZP87ajhNO13XJC7iAtCkrGtjmEn9HbwBD8Ynw86nJ2d1f39/WzTJxaS9ijm004ukhfsJ/5UZogn2lZg6fmHh4eRLuQIFcVQBY2VziSD/vz588DahIgJATupOLVJV9IiOVLlPnZhbms+NLyhofudKWRebzJ05Df3378l/dPy0KbPm9xu94u/rtOKMq1lRgm5ngrFwSkSyQ0RX15exlILc+zv3hbj/lNfQtTn5+e6vb2dBdqYA+edJsqyImd8JBc7bc3h+PTR+e5w/dKyjYMfVpar1ep1gmbmtaOXEMYMWVXjqO/OlHoyeb77Ha345cuXsW6GL4L143lbsWNjMSRYGov/G56kMCbUyGhl1X5R11FNQ8ecHI/Hk2imN3Shf+xKcH+XlgUMZW3JGEvOpdt0hNmbfRkrYXynJ+V+Lz7nGqn9MEdufWAOqAYL1UFN+Mm0ZfOpUYaF3oKSPnfyVedSJc/NYO3BDBwp6XcwOGsHF2/wMwxa8jfwpbjHGpaFTY4Ip87ff/+9Pnz4UHd3d/Xw8DBjBjOx/SdrKkOpDIyY6PTNUA16OBHWyweeoKw7rRjjhJbekWwnPP2wqvmhPGnxrNXdJyJvRAFheoJXhvYWLKyX2zYCSAsJPIRnUJY+AhBGPzk5GQLJvkLut7X23DkCidAaKmLNyOa/urqaLZi7LSsC1maxdkBr75t7DXpijG32/o8qsJa1HwCT8B2MCzG64iCFrUBqFA504U2awJPdbv7WTqBknhlCvztr5chbBgDSMiSMtKZnQhzkgU7WroaLCUHdX5i+C87kRGbwASa0snEfEJqEThSiuzlPFkI/i8B454aDPQg6/eMd1hzG5P6w5sZRfmSCJP/tdt/jAOw3M225Dlzc7XaznQ+mMWNnzKallSBza9qbD7pAyJjz+gelE7SOIegEQYF06rMwkQnBID7aMc+FODk5Ga/oSUtJHc7a6ELtqSmzX52v5M9ZN2UpOttZTtdftd9IioB37XKfr9uywRxJbxRGKroUomyDth398xKLLSHPZTCEDa8ImoMu9GnJDzJdgaS2aEYKObdkhHg+vQs/6eq5cLupwE2zJQP109AxB+ySkTQHMvz+NE9ELmZzDRzuCfj8+XP9/fff4zBVMwOwa7PZjH44/xHmcwQ0rZX7h4XuINoSwyes5s/Bh45+joYaAtqPM/PZMc8JTuedNr0kQh0vL/Pk791uN5jfqABEYhiF9bKldOgef/nz58/14cOHg6ieI6UJ9VHOfoWTBY9kYPoL3Q27/f5xIprsU/v48eMQmLu7u9avT1eH39L1YCy2/uYtvi++5CKtCr/hSEIYKu00t4lm2OHNmkzkajU/Lsx9YaBM/MePH0f0KOEbfaY+p+tYmCGUQ9VAvuy/HXTDs2mahkNO/2BkJzEbVhsmulj70l9PrEs67g7r2xdzdLiz9GZ6r02ZptCe5RMEDF/t5OSknp6eZln7PMNbgqBFQrIMOmQwC0WHkvCYnQmEUv3777/HnN/e3tZ6va6Li4t69+7dCNAgmCCkx8fHEcjxvHQWnt89Fu/kMP3o91BC9RPFZtjwy36Ni62aLV2a19TSDpgkDGHSGZAzAPwcfcs+JuPaAqWguX3qd2pYjsFt+jdKMrHv8QQ6+GC/hudyMb5bNqjaB6kyyGQ/y31xwMjt4T/lFhiCGBZAIwwso6OHXuu0QjBj+rrdESv0RDsodOp0dNfKBov77du3IWTHYGPC4SVFlLyQ1/9R1LHDy/6jIGR+aUAHnTwg+2hmNCeTkpj68vIyXhaOr2Y/wPV724Sz+7uIaEcw959JRUuaQXKMFg5r5+5a9gkapjUFyrGW6HnwZwsiEbyq/WJ8WnePw33JMw8tpI+Pjwcw2X6ZFaLRBvcDEYlQJpx3kMvCCfrBqno91K/74o2eHOxLDur9/X19+vRppjA9LqMJW7zkjyVXymOvqvk2GTNKSjmV+t1VObm57sPz3guU/kRCGIeBGaD9ONp5eXkZh2/6GQTQPsl6vR4Tbz8gNatpkQ5y+hZuw5Ni5ujG2vUhBRnhoI3sQ7d25M+Et6207Jslk5jBaNOJ2gnxjFSo37DRtIImHouh9Ha7nSUC++i8qv22J6dwGUpO0zQShIlOAhmvr69rs9nU5eXlqP/r1691e3tbnz59GkfYpUvhsfI9BZJi3zIRwcx/rVcUM6UFK78nxs0JSG1gKNCZ6fydNg2dnGU+0yCCTUtWyprLsLP7YyzUAZE76Ozr2XbVPtCDf5UTw/cUSNN8KbDSzQXP+fccw1JdS/Nm5rTV9Xe2KmGRvFfQitrPdn2yxXSAiHUyp1c5M985j45S3t/fj/50BsVzscQ33W/Hrv+UoEGEbiKrDsPg/ObzQ+yDVB3CGP4MFVPQPEnuB0EVIBXtOBhzjKgmUDKW16f838LdWZkORlp7+rq1NM8n/Tvo3gmJ67dWBrq5PsPnXObowvr8ZljldrEcLFSzZcnHG1B4E2vSzD4W/UTI2KfG21h5zq/J9UstEEx48fb2tg2ApLBzverwrTue9zQOVkL8P03m8sPZETRw54+5cxkq9/uwvLJetX9hwDR9Py6O+oElXd1m8qo9XjdWr9pHKe3vHWP+tNb8N9Gzrt3uMD/PwmSG7gIXLil8RhGmpwNRWaBPnsPC/TBc9i0VIMjB300D2nIAya7AbrcbxwzYmr28zF+qCBLhPgSGMdvHg4Y3NzejfUL5KFfGaGVGHx1hzCUe+pMIy/cYBXk+bDGtpGdLT76QE+NrNttLk+t7uzqz43QUTel7E8rlRDMRhggQPuFlMm8GL/jsLAprc5SEhcx9dWZBjiH7ne3k2JJ+qRgykTsZhv6Zhp01T9/DlsTRO/ers/SGWAlvKRnO9yI865y73W728kXvnGYNzFtcXJdLZ8VZjjAyybF17krWu0SDvCfLbrd73ZHgJlKnidNPyevHOueBGZZ4u8wSXragGVb4nrQ+bsf3Vc3P8UMbW9u6b90YvD7Ywb+EbjmhqWBMX5RLrl2iEOi3g0Hcy2fTMZUA/VpCK6kE3L+0kAisBd20dd3OnfRGTgQNiHhxcTFDBebFhG60Q99YO0saG32k0k1F2SmU5B8XK+uq5iUX3Z8J3FWWWtcD7Z5PrWJhcPia5x3dc4Bju93OMk5c19u3b2eBGN/jcylyTcoE5L+hAxrSY+7WsUzkDrLmWDpa2Nog/LZCyWCG3ETwOnRgRODxdjCRelFqJP7mfOOXsU7lNDnchQx60JaZfrPZDB+MHMazs7N69+5dy+zb7X77EQK+Wq1GmhdJybxFJosjoTnPjDtRVUYXrbSZz9yx/apgCAPwgDxYFxils0Rct/XrNElaIhPCDEGO49LkcY8JgKB4XJ2G6gQthZHflhQO/UiBM43cru9JuvH99PR0lnUCAzj7A3p1cLyDq6anBdBjsxUngGLaZb1OzvV85rYgQz/eCoQiZO0TwaF4aw1C6fNRzGMs7xxDVRZ0Fy8xLVm9qvl2GGifdb56wXoJUrymdHDIv1MMMxI6dVZ2t9vN8H7CB55N6GiG6GBuB+lcn+/LKGBaT7fXwa+OJh29PKnZX8O0VExL9OjGtiRk07Q/QgIL4h0Kfs7rdbbawEL8LPMT1zabzfDFqKtTVjkeZ+vQPyAmltGQ25bL85BGwMYiLekSZOzoWhUvuViCkfYHqGRJuycksTZMLYJWtKbEEefYMAsKvgfXqAO48enTp3bQzqFz+x2sxfI5AGKYCYxNgQUi+UUZVhimnYUzJ5D+OOzu5OaXl5ex+ZXnHOxgDrHaMLUX01PhGHJBLx/bxrofcNQBLPuH6/V6MPzXr1/r4uJiRlMWnKtqRAr9mi/Tuup7qp35h+ct4LQ1Tfssk81mU+/evav1el3X19d1c3NT2+127Fk0XE0+MU09H53yhH6df4rMDL8eJkmGc2GwNvuZS5adMTPRsDWiGcfCaeEzE9ux93mACOA0TXVxcTFCyPnyARONycrrtiZEymBWh4UhNm1TunU/T07SpoNvFtKu0GeP3f23UoHe1JnzSz/wh1er1ciWYKnFbSIMzPmbN2/q6upq1Eeqlk+MZj7MQ9B4tVqN1LDdbp/WlnSZpmnAPyKIXidDeQETORjV54cQ/udNohYW717wPMBXTu1LtJW08W+m92wdrfMNclJcvJ6Tazv8d2TIzNtZTnc+Ma/9OZt0D35pcyklfamEkGb+nGxrLNPKvyck7CBatsd4cuwdYnA91GHNmQVGSX+3ai/QVnKE0r2A3dEE6Ahzu18OlDAWM6mfTaQBnRk7n/NtpFbCPEd9fuOpj65L16fjw654HsyXHZzMe0y/0+xwVxI6uhJjWpt9R20MN4y3q/avEzKmN96ADiWUAAAN+ElEQVSm88CXPGOCLe4+amyaptn7uIAtfPZxZ8lI9NPRo6W1F+5n/IybOrwuZNqlINl/8OR5x7q3+2CRsQBLUN6wjr+cIx+3ngLvPllBQW/3AWHyNhr6dXJyMu4B+ls4gICGtdCRPvk9Cg7MeFw+eAcryBkh3JvukXkpI7o88+bNm9mOkfxvPvLrwSw3B4fzHLNo1g5mVDrW+We85jY3UXZMZ2biWDr65fYMYZ6enurs7Gx85uVzz8/PY1OjD1/ZbvdvouyKJ9oOeKZgLT1rf9MTAiTuNKzpZm242WxmE2aasW2Fe62MYDwnQKf15x4LgZmW4AeFzx7Xy8vLeC2tf6uqmWWsquFHA0udKeTEADOqj6iAT7wXMhMMeF/1+fl5XV1djeUBjwUaGFYv+WyuG0F3krR5g2dNa9fZZu+nxNvSQITXRh8x58mMS7CIQfvciSUttN1u6+npqa6urmaaxe3kNnqeNwPbcmZyrNtLReLffc0WkZJQDJrms6abrUjSj75ZoLh+bB7zHo/RnzOyeMxyG63YuniHNs/gl1GPraGDK9yfNE345zVMgiVv3rwZLx60y0NfOhp5LhNZGDHkvHZ1WFnz/fRHGJXGLRhp1cwsCcOq6mCtq/PtrPWxOmyPSCxv4nOe+/n5+Ugw9eIpk2dmy6iftbGFzNbFvkhal1x/4plOWdlqmGb2/Var1Tjbgmetda1B0dYwHdcdVElF5brYZlS1X4ilXh9V4DQq2vDudKwXzO3E4ru7uwM34PLycpzzwu+2mhbytFxLlpk/Io/eeY61zLccpf+dv9Mv4Cr1eDzmd9PZyuNV62hmjswtSy3jAgQ5Ozub5Rc6+mRGcsf5bOcXS2fGWK1WdX9/X1VVv//++wySGGb4RClDBEfo7MNYm8JAZgaP331PpuC663co3X1AOF5evu+1Y00JZmMrfmpVnunqsU/leUlfCAEwE339+nWczfn4+Die90nD3MMmWOaIZ3yAD/Tw0Q8s6dAmCcXmLeaDMZ+dnQ0aopz9+ivvTaNtn8iWSpBixNa5FulSpMDmCcbmgx++5ALmSAhDh44VBswAqw6TYq1l3Tlrg25R2AMk65uUm85KZ/+z7/b9Uuht0TLK5s8piLYodpzxVy3IXZ2mjenRBYvSOtoSVB2eCu12XXcHmV0HlgrEQSgfiO7Px8ZjmsGMOc/mOyuGnBfedTZN03jF7sXFxexe+4JWhv7vgrD9CPElrZbuf5VF606D6vwHE66qBgGSgbNDiYMpnvxj7eFc397ezg74MU7umNl1plDY8pkJ0kfJyTD8cltY391uH42kXS+IZ2AkA0Bu1xASH8XPE+21Fq46XMezgCQ0NWLx4aYpWNxv3xqllOtWCdvps2mOFe6EwMcXAhPJ/uDYguvr6/rw4cNojz53wp5tpHB7Lt1PIwIUYKcQdrtXbPzEX7Bj2fkk7iSTx5kNXdQsIVc3EXb4bRGmab+zmrD9t2/f6o8//qjz8/MR1jXGTz+lCwJYaHICLEj+zWs8Zl7Xb6gBI2WEy8LOvbaEfjMPi8nr9XoW2UNAYAb/d5/wfVer+SGphORzPMlYrsuL+fBLjo3fTYuqOrAsVTUsk5Ul9/qPgAdC5m008AcZJ7vdrv76669xdg28k9FZrnU8iY/G+x68mdjKZYnHTj2YbAAiWPqTMP4tf1+v17MQfce4LvlbauMO0qXm8WubBj4+7V8H5XbTWqQF7pgnhdh1ISRJr7TQCW/MfIzLEVO+Z3AGqJPwkTFlcMQQMRWePzNGW8H0MzNEbnqMYIB8xBkD/l9QE2k4pJ+IgnA7mf0UhO3l5aUeHh5m7RnOWgF1UG+JR3BLEgl1fJiyMIs6dn856Ut4tvvurOqudFCiEwBDqmmanyTl+6r2WJzJZcLSN+z6YSFLZjYNzDTQx5reTG2iux3qs7WzEGYdOSf+b8akPVsy6OXrKYA5RrflLBCnv2VQJv1TC5vfe0akcbvdjrzNnHv6mAJWtff98yUXrLsRTKINH1OOwCy5MR1fJMzMlKyquSXPiGTVD3w0E9oDNaE7wdtutyPs3EXDXOgwzGu/xPuYzPi2LoY+Fiic9K6fzleEUd0XE7ibEP/eMQj/gbw5ARlm5r8dcHyiFJgM3du6JIQzQ9An7rOVsF/kMXm8HOtHipXpQjaIx+DQf55GbeEm2MV9Tlow3xne4RrwAsPr6+uRBG1Es1qt6uPHj/Xnn38eCATf2YrD2OyDQ4sUHKOYDulwr8c5O8rgmFWjZFg+GazqOxz417/+Ndv8l5E2t9kJqwdpzZttdQGErg6ewy+xdUx4nNfMgGZc7u0c486yuc8pwPQdmjs1KemW8NCWkXqwPCmQ9rusYFBsaXGtBPALETZ+c3ob7XsdDkam7/alaM8IxT4a4ybQsdlsxlFyxAA2m81BJso0fY9C8zJDly7iXFXjBZMec84x93n9j3Gk/26UdHBmyBJm7SxDMgvf0TLpFyxZwKyL+uxHLAm+oRbPZengqDF61wcEraONBcca0mleWOCl+1NQunFzv61uhvHTAadYIZjJE5W4blDIkjJkjcpW1FtXsOAJK+0/4l+ZFhkYs2LB8r59+/ZAwC4vL0egDmGg3efn53GsnItpl78nsvHvno+UhY4vkmdflRny2sJA/XqcZNb0Z5yeZahl6OC8RzSvNZ2F2aWzgLYW0zQ/3MdZJLvdbuajUU9qw9TUfDYM9aR1Fta0t3b38XncTztMNqlOXmPzfCIgmfvYQd+0lF52qNrnrmI9DAWdY8k4+I8Q4jOTwMA9FhQzK/7X6elp/frrr3Vzc1M3Nzf1/v37kSwMFGZcHGHx5cuXuru7OzhSAL6idL6rYSrzxTjNd3ynfeqylYP+p+6ErYcZwc4/lXcatqqGhuvSpqylzPzZ4YQvnoTU/hlp8/MIlY8DT42U5xIyCRbmzuqbPm7XWvqYArNFYmweszNbTLvU+Al1lvqWwp1j6ebJn2G+k5OTevfu3YxZzej0B5g5TdMMqidjcw/FSdenp6d1eXlZNzc39d///neE8i8uLoagTdNUT09PA0EQ1ufd6eYfCjs+ErXYx0/U4Tk2fSyUnUUb4+oYyExjplyCjS5+u0pnUdxWWpouWmOol52HGMeuW/CPmX1DqCVoyViOwc0cYwfDPfYlQUw/0Eqng9KprGCCbt466JTXoZPnBCuHRYNmhszW/EYnWeh3MjZngJDhcXV1Vb/88ktdXV3V2dnZ7IBUBI3XN1ft08Z8jr/bM20MdT1281W6Lzln3W+eZ8rpUSn8PyYnk4HOdKFynmXruCXdzJl41wxnLeLIjvP7Oiyc1pJ7Hc2izszzM4EttBQzpK2kx9UJTycMXLOm5X8XkU04nBEx6jO6cJbG09PTLA2uQysZQKCeXIj2M0T7zs/PR9AFZQbzOifVkecuSsdvp6ff3293fX1d//73v+u3336bHfttIUyoypGAWLelgJO/GzVYAUMnn7DdFUdEDXvhLT87Fqw7piDKY7jhSFwyJIRgkpYgDp10BNOahvos0HSeRFTqTG3j3z05MDdWbslieJXfTGCsn4KTsMiC1E2yGSuhiJnDtPDLHzo46Gdyjlar/cvWGUsXbXVQabVajUwKGN1tIlhs4jw7O5u9C/rp6WlAdltZ+3kIKwENn53v07BQ+GdnZyPCaFqyS8AZG/aV0oqncs68TCt8j9mw2MrRvOUAoOVjJmgujjClFszJZWIgjjU1ZUm72Lq5pCVZ6ie/dwLnunKR2ddyLCkgtj7ZbkKHpfaPXe/gadbvfviaJzTvdaqRmd0CmjvW7SZgnRJSmW5YOCva5+fn2mw29fT0VOv1euyeoPDbycnJyIdFkDg/35bGFs3LRLvd921ST09PY0tURqmT/knjnAM/k9cd3Eqr1RmqA4vmyoAiaJkUAGu91Ibv378fRE/h7GAiZtd1J3Skwx2DVu2z6TstZqJ4r5onxMR1MCKJ7YhoajpH0Jy+lRanE9T8bAbme6aQeVx+h7PbI/LGeNnC4vrdjsdpX4xxdGlStMUmy3xhxePjYz0+PtbNzU3d398P2mAFHXWGZj552v1g5zSWlfn48OHDeH2X6ZOlcxOMyqxAvASR8wVicVJ1tpPzut1uv/to7hx4G62Tks096UACI6rqIKRKSa0IjPN3m3NrUmvEhAH85nE4KwLGA6o8PDwchKEZl/crweTAA8NDWwo7zRkk4PMMRij7wa8HTpp1oWK3j9XiOQSLDPv1ej3agx7eRTBN0+z4Ax+VB9NbYKGR58ECMU3T7C2a1vxm5M+fP8/mjwCHlTR1EjW+vr4eNDs9PR1wkZxGlILTuxi/BdOoAFpxFIbnAHfDSpkMGN635yMg0pIlGjpYRwMTH8sNdKFTDGrpHhp143w2pDEM6qKdDMQYeUnoMouDti4vL8cBMimgZhzTJoMGtoJLPoHrSOvP5Cd9knmt7BzooQ0rE2hmJZI0SJozNs+VrTXtpoJ0X11s+RFe1s2ox+uChoQdesprVjCco2khIrsj3ZYlSOggW0Jn0zAVRq5bmv9MZ/7PBM2m2mlHx8pqtRqnwUJIMz/3dB1I4WJgFjYLXN6TJtrtGsp5jNvttn755Zd6eHiYvbEyBc3RJELByYDUb5xu6+WFXfczJxda0A6TZ5+EvnXPemz5uqaMfiW9lqJqDuik0nGupNux8kCwiFgTndxut7XZbAbTcsgqNHAxP1btYS2RRVwCmN5pZ1g96JZLDN0SDwiG/lcdKisvXWSCgHnXrsNut6v/AeGzDX5BU8kNAAAAAElFTkSuQmCC\" y=\"-6.64\"/>\n   </g>\n   <g id=\"matplotlib.axis_1\">\n    <g id=\"text_1\">\n     <!-- PNEUMONIA -->\n     <defs>\n      <path d=\"M 19.671875 64.796875 \nL 19.671875 37.40625 \nL 32.078125 37.40625 \nQ 38.96875 37.40625 42.71875 40.96875 \nQ 46.484375 44.53125 46.484375 51.125 \nQ 46.484375 57.671875 42.71875 61.234375 \nQ 38.96875 64.796875 32.078125 64.796875 \nz\nM 9.8125 72.90625 \nL 32.078125 72.90625 \nQ 44.34375 72.90625 50.609375 67.359375 \nQ 56.890625 61.8125 56.890625 51.125 \nQ 56.890625 40.328125 50.609375 34.8125 \nQ 44.34375 29.296875 32.078125 29.296875 \nL 19.671875 29.296875 \nL 19.671875 0 \nL 9.8125 0 \nz\n\" id=\"DejaVuSans-80\"/>\n      <path d=\"M 9.8125 72.90625 \nL 23.09375 72.90625 \nL 55.421875 11.921875 \nL 55.421875 72.90625 \nL 64.984375 72.90625 \nL 64.984375 0 \nL 51.703125 0 \nL 19.390625 60.984375 \nL 19.390625 0 \nL 9.8125 0 \nz\n\" id=\"DejaVuSans-78\"/>\n      <path d=\"M 9.8125 72.90625 \nL 55.90625 72.90625 \nL 55.90625 64.59375 \nL 19.671875 64.59375 \nL 19.671875 43.015625 \nL 54.390625 43.015625 \nL 54.390625 34.71875 \nL 19.671875 34.71875 \nL 19.671875 8.296875 \nL 56.78125 8.296875 \nL 56.78125 0 \nL 9.8125 0 \nz\n\" id=\"DejaVuSans-69\"/>\n      <path d=\"M 8.6875 72.90625 \nL 18.609375 72.90625 \nL 18.609375 28.609375 \nQ 18.609375 16.890625 22.84375 11.734375 \nQ 27.09375 6.59375 36.625 6.59375 \nQ 46.09375 6.59375 50.34375 11.734375 \nQ 54.59375 16.890625 54.59375 28.609375 \nL 54.59375 72.90625 \nL 64.5 72.90625 \nL 64.5 27.390625 \nQ 64.5 13.140625 57.4375 5.859375 \nQ 50.390625 -1.421875 36.625 -1.421875 \nQ 22.796875 -1.421875 15.734375 5.859375 \nQ 8.6875 13.140625 8.6875 27.390625 \nz\n\" id=\"DejaVuSans-85\"/>\n      <path d=\"M 9.8125 72.90625 \nL 24.515625 72.90625 \nL 43.109375 23.296875 \nL 61.8125 72.90625 \nL 76.515625 72.90625 \nL 76.515625 0 \nL 66.890625 0 \nL 66.890625 64.015625 \nL 48.09375 14.015625 \nL 38.1875 14.015625 \nL 19.390625 64.015625 \nL 19.390625 0 \nL 9.8125 0 \nz\n\" id=\"DejaVuSans-77\"/>\n      <path d=\"M 39.40625 66.21875 \nQ 28.65625 66.21875 22.328125 58.203125 \nQ 16.015625 50.203125 16.015625 36.375 \nQ 16.015625 22.609375 22.328125 14.59375 \nQ 28.65625 6.59375 39.40625 6.59375 \nQ 50.140625 6.59375 56.421875 14.59375 \nQ 62.703125 22.609375 62.703125 36.375 \nQ 62.703125 50.203125 56.421875 58.203125 \nQ 50.140625 66.21875 39.40625 66.21875 \nz\nM 39.40625 74.21875 \nQ 54.734375 74.21875 63.90625 63.9375 \nQ 73.09375 53.65625 73.09375 36.375 \nQ 73.09375 19.140625 63.90625 8.859375 \nQ 54.734375 -1.421875 39.40625 -1.421875 \nQ 24.03125 -1.421875 14.8125 8.828125 \nQ 5.609375 19.09375 5.609375 36.375 \nQ 5.609375 53.65625 14.8125 63.9375 \nQ 24.03125 74.21875 39.40625 74.21875 \nz\n\" id=\"DejaVuSans-79\"/>\n      <path d=\"M 9.8125 72.90625 \nL 19.671875 72.90625 \nL 19.671875 0 \nL 9.8125 0 \nz\n\" id=\"DejaVuSans-73\"/>\n      <path d=\"M 34.1875 63.1875 \nL 20.796875 26.90625 \nL 47.609375 26.90625 \nz\nM 28.609375 72.90625 \nL 39.796875 72.90625 \nL 67.578125 0 \nL 57.328125 0 \nL 50.6875 18.703125 \nL 17.828125 18.703125 \nL 11.1875 0 \nL 0.78125 0 \nz\n\" id=\"DejaVuSans-65\"/>\n     </defs>\n     <g style=\"fill:#262626;\" transform=\"translate(79.367812 237.758125)scale(0.12 -0.12)\">\n      <use xlink:href=\"#DejaVuSans-80\"/>\n      <use x=\"60.302734\" xlink:href=\"#DejaVuSans-78\"/>\n      <use x=\"135.107422\" xlink:href=\"#DejaVuSans-69\"/>\n      <use x=\"198.291016\" xlink:href=\"#DejaVuSans-85\"/>\n      <use x=\"271.484375\" xlink:href=\"#DejaVuSans-77\"/>\n      <use x=\"357.763672\" xlink:href=\"#DejaVuSans-79\"/>\n      <use x=\"436.474609\" xlink:href=\"#DejaVuSans-78\"/>\n      <use x=\"511.279297\" xlink:href=\"#DejaVuSans-73\"/>\n      <use x=\"540.771484\" xlink:href=\"#DejaVuSans-65\"/>\n     </g>\n    </g>\n   </g>\n   <g id=\"matplotlib.axis_2\"/>\n   <g id=\"patch_3\">\n    <path d=\"M 7.2 224.64 \nL 7.2 7.2 \n\" style=\"fill:none;stroke:#cccccc;stroke-linecap:square;stroke-linejoin:miter;stroke-width:1.25;\"/>\n   </g>\n   <g id=\"patch_4\">\n    <path d=\"M 224.64 224.64 \nL 224.64 7.2 \n\" style=\"fill:none;stroke:#cccccc;stroke-linecap:square;stroke-linejoin:miter;stroke-width:1.25;\"/>\n   </g>\n   <g id=\"patch_5\">\n    <path d=\"M 7.2 224.64 \nL 224.64 224.64 \n\" style=\"fill:none;stroke:#cccccc;stroke-linecap:square;stroke-linejoin:miter;stroke-width:1.25;\"/>\n   </g>\n   <g id=\"patch_6\">\n    <path d=\"M 7.2 7.2 \nL 224.64 7.2 \n\" style=\"fill:none;stroke:#cccccc;stroke-linecap:square;stroke-linejoin:miter;stroke-width:1.25;\"/>\n   </g>\n  </g>\n </g>\n <defs>\n  <clipPath id=\"p5d9314e50f\">\n   <rect height=\"217.44\" width=\"217.44\" x=\"7.2\" y=\"7.2\"/>\n  </clipPath>\n </defs>\n</svg>\n"
          },
          "metadata": {
            "tags": []
          }
        }
      ]
    },
    {
      "cell_type": "markdown",
      "metadata": {
        "id": "KFgiVeTpP6kT"
      },
      "source": [
        "###*Normalizando os Pixels*\n",
        "\n",
        "Nesta etapa vamos fazer os valores de cada *pixel*, que como já foi mencionado está no intervalo $[0,255]$, ficarem no intervalo $[0,1]$, essencialmente queremos transformar os valores dos *pixels* para o tipo `float`. Para fazer isso basta dividir todos os *pixels* pelo maior valor possível, nesse caso $255.0$"
      ]
    },
    {
      "cell_type": "code",
      "metadata": {
        "colab": {
          "base_uri": "https://localhost:8080/"
        },
        "id": "ZVjQWCuYtJcV",
        "outputId": "05f7d6e9-78f8-4ade-bf5d-008a983cf4df"
      },
      "source": [
        "# função para normalizar os pixels\n",
        "f_norm = lambda x: (np.array(x) / 255.0).astype('float32')\n",
        "\n",
        "x_train = f_norm(x_train_ini)\n",
        "x_valid = f_norm(x_valid_ini)\n",
        "x_test = f_norm(x_test_ini) \n",
        "\n",
        "# shape:\n",
        "print('Shape x_train: {} \\nShape x_valid: {} \\nShape x_test: {}'.format(\n",
        "    x_train.shape, x_valid.shape, x_test.shape))"
      ],
      "execution_count": null,
      "outputs": [
        {
          "output_type": "stream",
          "text": [
            "Shape x_train: (5216, 150, 150) \n",
            "Shape x_valid: (16, 150, 150) \n",
            "Shape x_test: (624, 150, 150)\n"
          ],
          "name": "stdout"
        }
      ]
    },
    {
      "cell_type": "markdown",
      "metadata": {
        "id": "fmQyZIPkSsQa"
      },
      "source": [
        "###*Redimensionalizar as Imagens*\n",
        "\n",
        "O **TensorFlow** espera uma lista com 4 dimensões e com base na saída que tivemos, pode-se notar que os datasets de treino, validação e teste estão nos retornando uma lista com 3 dimensões. A lista que o TensorFlow espera é da forma $(m, a, l, c)$, onde \n",
        "* $m=$ *Número de imagens* \n",
        "* $a=$ *Altura*\n",
        "* $l=$ *Largura*\n",
        "* $c=$ *Número de Canais*\n",
        "\n",
        "Como as imagens estão em **escala cinza**, o número de canais é $1$"
      ]
    },
    {
      "cell_type": "code",
      "metadata": {
        "id": "Qu9UWM9k4cZA",
        "colab": {
          "base_uri": "https://localhost:8080/"
        },
        "outputId": "f83f6211-b8fd-48c1-84ee-b4b3e273d2f5"
      },
      "source": [
        "# função resize:\n",
        "f_resize = lambda x: np.array(x).reshape(-1, 150, 150, 1)\n",
        "\n",
        "x_train = f_resize(x_train)\n",
        "x_valid = f_resize(x_valid)\n",
        "x_test = f_resize(x_test)\n",
        "\n",
        "# vamos printar o shape novamente para verificar as mudanças\n",
        "print('Shape x_train: {} \\nShape x_valid: {} \\nShape x_test: {}'.format(\n",
        "    x_train.shape, x_valid.shape, x_test.shape))"
      ],
      "execution_count": null,
      "outputs": [
        {
          "output_type": "stream",
          "text": [
            "Shape x_train: (5216, 150, 150, 1) \n",
            "Shape x_valid: (16, 150, 150, 1) \n",
            "Shape x_test: (624, 150, 150, 1)\n"
          ],
          "name": "stdout"
        }
      ]
    },
    {
      "cell_type": "markdown",
      "metadata": {
        "id": "sRjSPQp_T0eo"
      },
      "source": [
        "Agora temos uma lista com as 4 dimensões esperadas\n",
        "\n",
        "\n"
      ]
    },
    {
      "cell_type": "markdown",
      "metadata": {
        "id": "i1lgmTuHQslB"
      },
      "source": [
        "###*Converter `X` e `Y` para array*\n",
        "Esta etapa é necessária para posteriormente treinarmos nosso dataset."
      ]
    },
    {
      "cell_type": "code",
      "metadata": {
        "id": "3pnQqUU2Jvb1"
      },
      "source": [
        "# convertendo para array\n",
        "fc = lambda x: np.array(x)\n",
        "\n",
        "x_train = fc(x_train)\n",
        "y_train = fc(y_train)\n",
        "x_valid = fc(x_valid)\n",
        "y_valid = fc(y_valid)\n",
        "x_test = fc(x_test)\n",
        "y_test = fc(y_test)"
      ],
      "execution_count": null,
      "outputs": []
    },
    {
      "cell_type": "markdown",
      "metadata": {
        "id": "2LzoH7wLRQ2p"
      },
      "source": [
        "##*Data Augmentation*\n",
        "\n",
        "Está etapa é necessária uma vez que como já foi explicado, nosso dataset tem uma grande discrepância entre as imagens com pneumonia e sem a doença.\n",
        "\n",
        "Este processo faz com que tenhamos mais dados, a partir dos já existentes, para isso ele aplica transformações de **translação, rotação e inversões** com essas pequenas alterações nas imagens já existentes, nossa rede neural as considera como novas imagens."
      ]
    },
    {
      "cell_type": "code",
      "metadata": {
        "id": "7yoem7LR4cWn"
      },
      "source": [
        "data_gen = ImageDataGenerator(\n",
        "    rotation_range = 50,\n",
        "    width_shift_range = 0.1,\n",
        "    height_shift_range = 0.1,\n",
        "    zoom_range = 0.2,\n",
        "    horizontal_flip = True\n",
        ")"
      ],
      "execution_count": null,
      "outputs": []
    },
    {
      "cell_type": "markdown",
      "metadata": {
        "id": "mUjV43K6Syyg"
      },
      "source": [
        "Agora vamos treinar nosso `data_gen` com as imagens de treino.\n",
        "\n"
      ]
    },
    {
      "cell_type": "code",
      "metadata": {
        "id": "5JoaVEL-k5F6"
      },
      "source": [
        "data_gen.fit(x_test)"
      ],
      "execution_count": null,
      "outputs": []
    },
    {
      "cell_type": "markdown",
      "metadata": {
        "id": "Ha_gU7i1S-4u"
      },
      "source": [
        "##*Criando o modelo*"
      ]
    },
    {
      "cell_type": "code",
      "metadata": {
        "id": "y514bbjL4cUf"
      },
      "source": [
        "model = keras.models.Sequential()\n",
        "model.add(Conv2D(32, (3,3), strides = 1, padding='same', activation='relu', input_shape=(150,150,1)))\n",
        "model.add(BatchNormalization())\n",
        "model.add(MaxPool2D((2,2), strides=2, padding='same'))\n",
        "model.add(Conv2D(64, (3,3), strides=1 ,padding='same', activation='relu'))\n",
        "model.add(Dropout(0.1))\n",
        "model.add(BatchNormalization())\n",
        "\n",
        "model.add(MaxPool2D((2,2), strides=2, padding='same'))\n",
        "model.add(Conv2D(64, (3,3), strides=1, padding='same', activation='relu'))\n",
        "model.add(BatchNormalization())\n",
        "model.add(MaxPool2D((2,2), strides=2, padding='same'))\n",
        "model.add(Conv2D(128, (3,3), strides=1, padding='same', activation='relu'))\n",
        "model.add(Dropout(0.2))\n",
        "model.add(BatchNormalization())\n",
        "\n",
        "model.add(MaxPool2D((2,2), strides=2, padding='same'))\n",
        "model.add(Conv2D(256, (3,3), strides=1, padding='same', activation='relu'))\n",
        "model.add(Dropout(0.2))\n",
        "model.add(BatchNormalization())\n",
        "\n",
        "model.add(MaxPool2D((2,2), strides=2, padding='same'))\n",
        "model.add(Flatten())\n",
        "model.add(Dense(units=128, activation='relu'))\n",
        "model.add(Dropout(0.2))\n",
        "model.add(Dense(units = 1, activation='sigmoid'))"
      ],
      "execution_count": null,
      "outputs": []
    },
    {
      "cell_type": "markdown",
      "metadata": {
        "id": "UPsNLeC7TT-2"
      },
      "source": [
        "###*Compilando a Rede Neural*\n",
        "\n",
        "Geralmente como `optimizer` aplicamos o `adam`, no entanto, para nosso conuunto de dados o `rmsprop` se mostrou mais eficiente. "
      ]
    },
    {
      "cell_type": "code",
      "metadata": {
        "id": "MIN6VR-k4cMR",
        "colab": {
          "base_uri": "https://localhost:8080/"
        },
        "outputId": "36d68505-c0e6-428f-a0ac-bce4e3949399"
      },
      "source": [
        "model.compile(optimizer='rmsprop', loss='binary_crossentropy', metrics=['accuracy'])\n",
        "model.summary()"
      ],
      "execution_count": null,
      "outputs": [
        {
          "output_type": "stream",
          "text": [
            "Model: \"sequential\"\n",
            "_________________________________________________________________\n",
            "Layer (type)                 Output Shape              Param #   \n",
            "=================================================================\n",
            "conv2d (Conv2D)              (None, 150, 150, 32)      320       \n",
            "_________________________________________________________________\n",
            "batch_normalization (BatchNo (None, 150, 150, 32)      128       \n",
            "_________________________________________________________________\n",
            "max_pooling2d (MaxPooling2D) (None, 75, 75, 32)        0         \n",
            "_________________________________________________________________\n",
            "conv2d_1 (Conv2D)            (None, 75, 75, 64)        18496     \n",
            "_________________________________________________________________\n",
            "dropout (Dropout)            (None, 75, 75, 64)        0         \n",
            "_________________________________________________________________\n",
            "batch_normalization_1 (Batch (None, 75, 75, 64)        256       \n",
            "_________________________________________________________________\n",
            "max_pooling2d_1 (MaxPooling2 (None, 38, 38, 64)        0         \n",
            "_________________________________________________________________\n",
            "conv2d_2 (Conv2D)            (None, 38, 38, 64)        36928     \n",
            "_________________________________________________________________\n",
            "batch_normalization_2 (Batch (None, 38, 38, 64)        256       \n",
            "_________________________________________________________________\n",
            "max_pooling2d_2 (MaxPooling2 (None, 19, 19, 64)        0         \n",
            "_________________________________________________________________\n",
            "conv2d_3 (Conv2D)            (None, 19, 19, 128)       73856     \n",
            "_________________________________________________________________\n",
            "dropout_1 (Dropout)          (None, 19, 19, 128)       0         \n",
            "_________________________________________________________________\n",
            "batch_normalization_3 (Batch (None, 19, 19, 128)       512       \n",
            "_________________________________________________________________\n",
            "max_pooling2d_3 (MaxPooling2 (None, 10, 10, 128)       0         \n",
            "_________________________________________________________________\n",
            "conv2d_4 (Conv2D)            (None, 10, 10, 256)       295168    \n",
            "_________________________________________________________________\n",
            "dropout_2 (Dropout)          (None, 10, 10, 256)       0         \n",
            "_________________________________________________________________\n",
            "batch_normalization_4 (Batch (None, 10, 10, 256)       1024      \n",
            "_________________________________________________________________\n",
            "max_pooling2d_4 (MaxPooling2 (None, 5, 5, 256)         0         \n",
            "_________________________________________________________________\n",
            "flatten (Flatten)            (None, 6400)              0         \n",
            "_________________________________________________________________\n",
            "dense (Dense)                (None, 128)               819328    \n",
            "_________________________________________________________________\n",
            "dropout_3 (Dropout)          (None, 128)               0         \n",
            "_________________________________________________________________\n",
            "dense_1 (Dense)              (None, 1)                 129       \n",
            "=================================================================\n",
            "Total params: 1,246,401\n",
            "Trainable params: 1,245,313\n",
            "Non-trainable params: 1,088\n",
            "_________________________________________________________________\n"
          ],
          "name": "stdout"
        }
      ]
    },
    {
      "cell_type": "markdown",
      "metadata": {
        "id": "ucMa3v2IUBH8"
      },
      "source": [
        "###*Aplicando `ReduceLROnPlateau`*\n",
        "Algumas vezes, a aprendizagem do modelo estagna, quando usamos essa função, ela monitora uam quantidade, no caso, pedimos para ela monitorar a acurácia do nosso modelo e no momento em que esse valor se estagnar por mais de 2 épocas (`patience=2`) ela penaliza o modelo reduzindo sua taxa de aprendizagem, evitando o *Plateau* do modelo."
      ]
    },
    {
      "cell_type": "code",
      "metadata": {
        "id": "Xyd0tnlFoGeg"
      },
      "source": [
        "learning_rate_reduction = ReduceLROnPlateau(monitor='val_accuracy',\n",
        "patience = 2, verbose=1,factor=0.3, min_lr=0.000001)"
      ],
      "execution_count": null,
      "outputs": []
    },
    {
      "cell_type": "markdown",
      "metadata": {
        "id": "G0OPckXcU0j6"
      },
      "source": [
        "###*Treinando o modelo*"
      ]
    },
    {
      "cell_type": "code",
      "metadata": {
        "colab": {
          "base_uri": "https://localhost:8080/"
        },
        "id": "ZjrrFrsgVHB4",
        "outputId": "6b89fc27-d1c0-439a-f5d5-9fb223ed08e0"
      },
      "source": [
        "history = model.fit(data_gen.flow(\n",
        "x_train, y_train, batch_size=32, shuffle=True),\n",
        "epochs=10, validation_data = (x_valid, y_valid), callbacks=[learning_rate_reduction])"
      ],
      "execution_count": null,
      "outputs": [
        {
          "output_type": "stream",
          "text": [
            "Epoch 1/10\n",
            "163/163 [==============================] - 19s 66ms/step - loss: 1.2313 - accuracy: 0.7845 - val_loss: 12.9915 - val_accuracy: 0.5000\n",
            "Epoch 2/10\n",
            "163/163 [==============================] - 10s 63ms/step - loss: 0.3342 - accuracy: 0.8756 - val_loss: 43.6707 - val_accuracy: 0.5000\n",
            "Epoch 3/10\n",
            "163/163 [==============================] - 10s 63ms/step - loss: 0.2450 - accuracy: 0.9060 - val_loss: 22.5082 - val_accuracy: 0.5000\n",
            "\n",
            "Epoch 00003: ReduceLROnPlateau reducing learning rate to 0.0003000000142492354.\n",
            "Epoch 4/10\n",
            "163/163 [==============================] - 10s 63ms/step - loss: 0.1859 - accuracy: 0.9397 - val_loss: 6.1320 - val_accuracy: 0.5000\n",
            "Epoch 5/10\n",
            "163/163 [==============================] - 10s 63ms/step - loss: 0.1542 - accuracy: 0.9457 - val_loss: 0.7604 - val_accuracy: 0.6250\n",
            "Epoch 6/10\n",
            "163/163 [==============================] - 10s 64ms/step - loss: 0.1580 - accuracy: 0.9499 - val_loss: 0.6978 - val_accuracy: 0.6875\n",
            "Epoch 7/10\n",
            "163/163 [==============================] - 10s 63ms/step - loss: 0.1584 - accuracy: 0.9485 - val_loss: 0.3355 - val_accuracy: 0.8750\n",
            "Epoch 8/10\n",
            "163/163 [==============================] - 10s 63ms/step - loss: 0.1387 - accuracy: 0.9508 - val_loss: 5.0907 - val_accuracy: 0.6250\n",
            "Epoch 9/10\n",
            "163/163 [==============================] - 10s 64ms/step - loss: 0.1225 - accuracy: 0.9609 - val_loss: 1.6180 - val_accuracy: 0.5625\n",
            "\n",
            "Epoch 00009: ReduceLROnPlateau reducing learning rate to 9.000000427477062e-05.\n",
            "Epoch 10/10\n",
            "163/163 [==============================] - 10s 63ms/step - loss: 0.1221 - accuracy: 0.9576 - val_loss: 0.5074 - val_accuracy: 0.7500\n"
          ],
          "name": "stdout"
        }
      ]
    },
    {
      "cell_type": "markdown",
      "metadata": {
        "id": "klhziD-bVIdk"
      },
      "source": [
        "###*Avaliando o modelo*\n",
        "Plotando o histótico da evolução do nosso modelo durante as épocas."
      ]
    },
    {
      "cell_type": "code",
      "metadata": {
        "colab": {
          "base_uri": "https://localhost:8080/",
          "height": 357
        },
        "id": "Wffwa_rUVG91",
        "outputId": "f23c4f4d-3561-414d-c4d3-aeebe4a97a8f"
      },
      "source": [
        "pd.DataFrame(history.history).plot()\n",
        "plt.show()"
      ],
      "execution_count": null,
      "outputs": [
        {
          "output_type": "display_data",
          "data": {
            "text/plain": [
              "<Figure size 432x288 with 1 Axes>"
            ],
            "image/svg+xml": "<?xml version=\"1.0\" encoding=\"utf-8\" standalone=\"no\"?>\n<!DOCTYPE svg PUBLIC \"-//W3C//DTD SVG 1.1//EN\"\n  \"http://www.w3.org/Graphics/SVG/1.1/DTD/svg11.dtd\">\n<!-- Created with matplotlib (https://matplotlib.org/) -->\n<svg height=\"251.985937pt\" version=\"1.1\" viewBox=\"0 0 413.7375 251.985937\" width=\"413.7375pt\" xmlns=\"http://www.w3.org/2000/svg\" xmlns:xlink=\"http://www.w3.org/1999/xlink\">\n <defs>\n  <style type=\"text/css\">\n*{stroke-linecap:butt;stroke-linejoin:round;}\n  </style>\n </defs>\n <g id=\"figure_1\">\n  <g id=\"patch_1\">\n   <path d=\"M 0 251.985937 \nL 413.7375 251.985937 \nL 413.7375 0 \nL 0 0 \nz\n\" style=\"fill:none;\"/>\n  </g>\n  <g id=\"axes_1\">\n   <g id=\"patch_2\">\n    <path d=\"M 30.6975 224.64 \nL 406.5375 224.64 \nL 406.5375 7.2 \nL 30.6975 7.2 \nz\n\" style=\"fill:#ffffff;\"/>\n   </g>\n   <g id=\"matplotlib.axis_1\">\n    <g id=\"xtick_1\">\n     <g id=\"line2d_1\">\n      <path clip-path=\"url(#p082c0ab46c)\" d=\"M 47.781136 224.64 \nL 47.781136 7.2 \n\" style=\"fill:none;stroke:#cccccc;stroke-linecap:round;\"/>\n     </g>\n     <g id=\"text_1\">\n      <!-- 0 -->\n      <defs>\n       <path d=\"M 31.78125 66.40625 \nQ 24.171875 66.40625 20.328125 58.90625 \nQ 16.5 51.421875 16.5 36.375 \nQ 16.5 21.390625 20.328125 13.890625 \nQ 24.171875 6.390625 31.78125 6.390625 \nQ 39.453125 6.390625 43.28125 13.890625 \nQ 47.125 21.390625 47.125 36.375 \nQ 47.125 51.421875 43.28125 58.90625 \nQ 39.453125 66.40625 31.78125 66.40625 \nz\nM 31.78125 74.21875 \nQ 44.046875 74.21875 50.515625 64.515625 \nQ 56.984375 54.828125 56.984375 36.375 \nQ 56.984375 17.96875 50.515625 8.265625 \nQ 44.046875 -1.421875 31.78125 -1.421875 \nQ 19.53125 -1.421875 13.0625 8.265625 \nQ 6.59375 17.96875 6.59375 36.375 \nQ 6.59375 54.828125 13.0625 64.515625 \nQ 19.53125 74.21875 31.78125 74.21875 \nz\n\" id=\"DejaVuSans-48\"/>\n      </defs>\n      <g style=\"fill:#262626;\" transform=\"translate(44.281761 242.498281)scale(0.11 -0.11)\">\n       <use xlink:href=\"#DejaVuSans-48\"/>\n      </g>\n     </g>\n    </g>\n    <g id=\"xtick_2\">\n     <g id=\"line2d_2\">\n      <path clip-path=\"url(#p082c0ab46c)\" d=\"M 123.708409 224.64 \nL 123.708409 7.2 \n\" style=\"fill:none;stroke:#cccccc;stroke-linecap:round;\"/>\n     </g>\n     <g id=\"text_2\">\n      <!-- 2 -->\n      <defs>\n       <path d=\"M 19.1875 8.296875 \nL 53.609375 8.296875 \nL 53.609375 0 \nL 7.328125 0 \nL 7.328125 8.296875 \nQ 12.9375 14.109375 22.625 23.890625 \nQ 32.328125 33.6875 34.8125 36.53125 \nQ 39.546875 41.84375 41.421875 45.53125 \nQ 43.3125 49.21875 43.3125 52.78125 \nQ 43.3125 58.59375 39.234375 62.25 \nQ 35.15625 65.921875 28.609375 65.921875 \nQ 23.96875 65.921875 18.8125 64.3125 \nQ 13.671875 62.703125 7.8125 59.421875 \nL 7.8125 69.390625 \nQ 13.765625 71.78125 18.9375 73 \nQ 24.125 74.21875 28.421875 74.21875 \nQ 39.75 74.21875 46.484375 68.546875 \nQ 53.21875 62.890625 53.21875 53.421875 \nQ 53.21875 48.921875 51.53125 44.890625 \nQ 49.859375 40.875 45.40625 35.40625 \nQ 44.1875 33.984375 37.640625 27.21875 \nQ 31.109375 20.453125 19.1875 8.296875 \nz\n\" id=\"DejaVuSans-50\"/>\n      </defs>\n      <g style=\"fill:#262626;\" transform=\"translate(120.209034 242.498281)scale(0.11 -0.11)\">\n       <use xlink:href=\"#DejaVuSans-50\"/>\n      </g>\n     </g>\n    </g>\n    <g id=\"xtick_3\">\n     <g id=\"line2d_3\">\n      <path clip-path=\"url(#p082c0ab46c)\" d=\"M 199.635682 224.64 \nL 199.635682 7.2 \n\" style=\"fill:none;stroke:#cccccc;stroke-linecap:round;\"/>\n     </g>\n     <g id=\"text_3\">\n      <!-- 4 -->\n      <defs>\n       <path d=\"M 37.796875 64.3125 \nL 12.890625 25.390625 \nL 37.796875 25.390625 \nz\nM 35.203125 72.90625 \nL 47.609375 72.90625 \nL 47.609375 25.390625 \nL 58.015625 25.390625 \nL 58.015625 17.1875 \nL 47.609375 17.1875 \nL 47.609375 0 \nL 37.796875 0 \nL 37.796875 17.1875 \nL 4.890625 17.1875 \nL 4.890625 26.703125 \nz\n\" id=\"DejaVuSans-52\"/>\n      </defs>\n      <g style=\"fill:#262626;\" transform=\"translate(196.136307 242.498281)scale(0.11 -0.11)\">\n       <use xlink:href=\"#DejaVuSans-52\"/>\n      </g>\n     </g>\n    </g>\n    <g id=\"xtick_4\">\n     <g id=\"line2d_4\">\n      <path clip-path=\"url(#p082c0ab46c)\" d=\"M 275.562955 224.64 \nL 275.562955 7.2 \n\" style=\"fill:none;stroke:#cccccc;stroke-linecap:round;\"/>\n     </g>\n     <g id=\"text_4\">\n      <!-- 6 -->\n      <defs>\n       <path d=\"M 33.015625 40.375 \nQ 26.375 40.375 22.484375 35.828125 \nQ 18.609375 31.296875 18.609375 23.390625 \nQ 18.609375 15.53125 22.484375 10.953125 \nQ 26.375 6.390625 33.015625 6.390625 \nQ 39.65625 6.390625 43.53125 10.953125 \nQ 47.40625 15.53125 47.40625 23.390625 \nQ 47.40625 31.296875 43.53125 35.828125 \nQ 39.65625 40.375 33.015625 40.375 \nz\nM 52.59375 71.296875 \nL 52.59375 62.3125 \nQ 48.875 64.0625 45.09375 64.984375 \nQ 41.3125 65.921875 37.59375 65.921875 \nQ 27.828125 65.921875 22.671875 59.328125 \nQ 17.53125 52.734375 16.796875 39.40625 \nQ 19.671875 43.65625 24.015625 45.921875 \nQ 28.375 48.1875 33.59375 48.1875 \nQ 44.578125 48.1875 50.953125 41.515625 \nQ 57.328125 34.859375 57.328125 23.390625 \nQ 57.328125 12.15625 50.6875 5.359375 \nQ 44.046875 -1.421875 33.015625 -1.421875 \nQ 20.359375 -1.421875 13.671875 8.265625 \nQ 6.984375 17.96875 6.984375 36.375 \nQ 6.984375 53.65625 15.1875 63.9375 \nQ 23.390625 74.21875 37.203125 74.21875 \nQ 40.921875 74.21875 44.703125 73.484375 \nQ 48.484375 72.75 52.59375 71.296875 \nz\n\" id=\"DejaVuSans-54\"/>\n      </defs>\n      <g style=\"fill:#262626;\" transform=\"translate(272.06358 242.498281)scale(0.11 -0.11)\">\n       <use xlink:href=\"#DejaVuSans-54\"/>\n      </g>\n     </g>\n    </g>\n    <g id=\"xtick_5\">\n     <g id=\"line2d_5\">\n      <path clip-path=\"url(#p082c0ab46c)\" d=\"M 351.490227 224.64 \nL 351.490227 7.2 \n\" style=\"fill:none;stroke:#cccccc;stroke-linecap:round;\"/>\n     </g>\n     <g id=\"text_5\">\n      <!-- 8 -->\n      <defs>\n       <path d=\"M 31.78125 34.625 \nQ 24.75 34.625 20.71875 30.859375 \nQ 16.703125 27.09375 16.703125 20.515625 \nQ 16.703125 13.921875 20.71875 10.15625 \nQ 24.75 6.390625 31.78125 6.390625 \nQ 38.8125 6.390625 42.859375 10.171875 \nQ 46.921875 13.96875 46.921875 20.515625 \nQ 46.921875 27.09375 42.890625 30.859375 \nQ 38.875 34.625 31.78125 34.625 \nz\nM 21.921875 38.8125 \nQ 15.578125 40.375 12.03125 44.71875 \nQ 8.5 49.078125 8.5 55.328125 \nQ 8.5 64.0625 14.71875 69.140625 \nQ 20.953125 74.21875 31.78125 74.21875 \nQ 42.671875 74.21875 48.875 69.140625 \nQ 55.078125 64.0625 55.078125 55.328125 \nQ 55.078125 49.078125 51.53125 44.71875 \nQ 48 40.375 41.703125 38.8125 \nQ 48.828125 37.15625 52.796875 32.3125 \nQ 56.78125 27.484375 56.78125 20.515625 \nQ 56.78125 9.90625 50.3125 4.234375 \nQ 43.84375 -1.421875 31.78125 -1.421875 \nQ 19.734375 -1.421875 13.25 4.234375 \nQ 6.78125 9.90625 6.78125 20.515625 \nQ 6.78125 27.484375 10.78125 32.3125 \nQ 14.796875 37.15625 21.921875 38.8125 \nz\nM 18.3125 54.390625 \nQ 18.3125 48.734375 21.84375 45.5625 \nQ 25.390625 42.390625 31.78125 42.390625 \nQ 38.140625 42.390625 41.71875 45.5625 \nQ 45.3125 48.734375 45.3125 54.390625 \nQ 45.3125 60.0625 41.71875 63.234375 \nQ 38.140625 66.40625 31.78125 66.40625 \nQ 25.390625 66.40625 21.84375 63.234375 \nQ 18.3125 60.0625 18.3125 54.390625 \nz\n\" id=\"DejaVuSans-56\"/>\n      </defs>\n      <g style=\"fill:#262626;\" transform=\"translate(347.990852 242.498281)scale(0.11 -0.11)\">\n       <use xlink:href=\"#DejaVuSans-56\"/>\n      </g>\n     </g>\n    </g>\n   </g>\n   <g id=\"matplotlib.axis_2\">\n    <g id=\"ytick_1\">\n     <g id=\"line2d_6\">\n      <path clip-path=\"url(#p082c0ab46c)\" d=\"M 30.6975 214.756771 \nL 406.5375 214.756771 \n\" style=\"fill:none;stroke:#cccccc;stroke-linecap:round;\"/>\n     </g>\n     <g id=\"text_6\">\n      <!-- 0 -->\n      <g style=\"fill:#262626;\" transform=\"translate(14.19875 218.935912)scale(0.11 -0.11)\">\n       <use xlink:href=\"#DejaVuSans-48\"/>\n      </g>\n     </g>\n    </g>\n    <g id=\"ytick_2\">\n     <g id=\"line2d_7\">\n      <path clip-path=\"url(#p082c0ab46c)\" d=\"M 30.6975 169.492319 \nL 406.5375 169.492319 \n\" style=\"fill:none;stroke:#cccccc;stroke-linecap:round;\"/>\n     </g>\n     <g id=\"text_7\">\n      <!-- 10 -->\n      <defs>\n       <path d=\"M 12.40625 8.296875 \nL 28.515625 8.296875 \nL 28.515625 63.921875 \nL 10.984375 60.40625 \nL 10.984375 69.390625 \nL 28.421875 72.90625 \nL 38.28125 72.90625 \nL 38.28125 8.296875 \nL 54.390625 8.296875 \nL 54.390625 0 \nL 12.40625 0 \nz\n\" id=\"DejaVuSans-49\"/>\n      </defs>\n      <g style=\"fill:#262626;\" transform=\"translate(7.2 173.67146)scale(0.11 -0.11)\">\n       <use xlink:href=\"#DejaVuSans-49\"/>\n       <use x=\"63.623047\" xlink:href=\"#DejaVuSans-48\"/>\n      </g>\n     </g>\n    </g>\n    <g id=\"ytick_3\">\n     <g id=\"line2d_8\">\n      <path clip-path=\"url(#p082c0ab46c)\" d=\"M 30.6975 124.227867 \nL 406.5375 124.227867 \n\" style=\"fill:none;stroke:#cccccc;stroke-linecap:round;\"/>\n     </g>\n     <g id=\"text_8\">\n      <!-- 20 -->\n      <g style=\"fill:#262626;\" transform=\"translate(7.2 128.407007)scale(0.11 -0.11)\">\n       <use xlink:href=\"#DejaVuSans-50\"/>\n       <use x=\"63.623047\" xlink:href=\"#DejaVuSans-48\"/>\n      </g>\n     </g>\n    </g>\n    <g id=\"ytick_4\">\n     <g id=\"line2d_9\">\n      <path clip-path=\"url(#p082c0ab46c)\" d=\"M 30.6975 78.963415 \nL 406.5375 78.963415 \n\" style=\"fill:none;stroke:#cccccc;stroke-linecap:round;\"/>\n     </g>\n     <g id=\"text_9\">\n      <!-- 30 -->\n      <defs>\n       <path d=\"M 40.578125 39.3125 \nQ 47.65625 37.796875 51.625 33 \nQ 55.609375 28.21875 55.609375 21.1875 \nQ 55.609375 10.40625 48.1875 4.484375 \nQ 40.765625 -1.421875 27.09375 -1.421875 \nQ 22.515625 -1.421875 17.65625 -0.515625 \nQ 12.796875 0.390625 7.625 2.203125 \nL 7.625 11.71875 \nQ 11.71875 9.328125 16.59375 8.109375 \nQ 21.484375 6.890625 26.8125 6.890625 \nQ 36.078125 6.890625 40.9375 10.546875 \nQ 45.796875 14.203125 45.796875 21.1875 \nQ 45.796875 27.640625 41.28125 31.265625 \nQ 36.765625 34.90625 28.71875 34.90625 \nL 20.21875 34.90625 \nL 20.21875 43.015625 \nL 29.109375 43.015625 \nQ 36.375 43.015625 40.234375 45.921875 \nQ 44.09375 48.828125 44.09375 54.296875 \nQ 44.09375 59.90625 40.109375 62.90625 \nQ 36.140625 65.921875 28.71875 65.921875 \nQ 24.65625 65.921875 20.015625 65.03125 \nQ 15.375 64.15625 9.8125 62.3125 \nL 9.8125 71.09375 \nQ 15.4375 72.65625 20.34375 73.4375 \nQ 25.25 74.21875 29.59375 74.21875 \nQ 40.828125 74.21875 47.359375 69.109375 \nQ 53.90625 64.015625 53.90625 55.328125 \nQ 53.90625 49.265625 50.4375 45.09375 \nQ 46.96875 40.921875 40.578125 39.3125 \nz\n\" id=\"DejaVuSans-51\"/>\n      </defs>\n      <g style=\"fill:#262626;\" transform=\"translate(7.2 83.142555)scale(0.11 -0.11)\">\n       <use xlink:href=\"#DejaVuSans-51\"/>\n       <use x=\"63.623047\" xlink:href=\"#DejaVuSans-48\"/>\n      </g>\n     </g>\n    </g>\n    <g id=\"ytick_5\">\n     <g id=\"line2d_10\">\n      <path clip-path=\"url(#p082c0ab46c)\" d=\"M 30.6975 33.698963 \nL 406.5375 33.698963 \n\" style=\"fill:none;stroke:#cccccc;stroke-linecap:round;\"/>\n     </g>\n     <g id=\"text_10\">\n      <!-- 40 -->\n      <g style=\"fill:#262626;\" transform=\"translate(7.2 37.878103)scale(0.11 -0.11)\">\n       <use xlink:href=\"#DejaVuSans-52\"/>\n       <use x=\"63.623047\" xlink:href=\"#DejaVuSans-48\"/>\n      </g>\n     </g>\n    </g>\n   </g>\n   <g id=\"line2d_11\">\n    <path clip-path=\"url(#p082c0ab46c)\" d=\"M 47.781136 212.21058 \nL 85.744773 213.44601 \nL 123.708409 213.669531 \nL 161.672045 214.04647 \nL 199.635682 214.08555 \nL 237.599318 214.080111 \nL 275.562955 214.084592 \nL 313.526591 214.159057 \nL 351.490227 214.22958 \nL 389.453864 214.231375 \n\" style=\"fill:none;stroke:#001c7f;stroke-linecap:round;stroke-width:1.5;\"/>\n   </g>\n   <g id=\"line2d_12\">\n    <path clip-path=\"url(#p082c0ab46c)\" d=\"M 47.781136 210.977502 \nL 85.744773 210.728443 \nL 123.708409 210.627778 \nL 161.672045 210.476781 \nL 199.635682 210.472442 \nL 237.599318 210.454218 \nL 275.562955 210.461161 \nL 313.526591 210.435127 \nL 351.490227 210.400415 \nL 389.453864 210.40215 \n\" style=\"fill:none;stroke:#b1400d;stroke-linecap:round;stroke-width:1.5;\"/>\n   </g>\n   <g id=\"line2d_13\">\n    <path clip-path=\"url(#p082c0ab46c)\" d=\"M 47.781136 155.951385 \nL 85.744773 17.083636 \nL 123.708409 112.874561 \nL 161.672045 187.000637 \nL 199.635682 211.314735 \nL 237.599318 211.59834 \nL 275.562955 213.237942 \nL 313.526591 191.714084 \nL 351.490227 207.432861 \nL 389.453864 212.459943 \n\" style=\"fill:none;stroke:#12711c;stroke-linecap:round;stroke-width:1.5;\"/>\n   </g>\n   <g id=\"line2d_14\">\n    <path clip-path=\"url(#p082c0ab46c)\" d=\"M 47.781136 212.493548 \nL 85.744773 212.493548 \nL 123.708409 212.493548 \nL 161.672045 212.493548 \nL 199.635682 211.927743 \nL 237.599318 211.64484 \nL 275.562955 210.796131 \nL 313.526591 211.927743 \nL 351.490227 212.210646 \nL 389.453864 211.361937 \n\" style=\"fill:none;stroke:#8c0800;stroke-linecap:round;stroke-width:1.5;\"/>\n   </g>\n   <g id=\"line2d_15\">\n    <path clip-path=\"url(#p082c0ab46c)\" d=\"M 47.781136 214.752245 \nL 85.744773 214.752245 \nL 123.708409 214.752245 \nL 161.672045 214.755413 \nL 199.635682 214.755413 \nL 237.599318 214.755413 \nL 275.562955 214.755413 \nL 313.526591 214.755413 \nL 351.490227 214.755413 \nL 389.453864 214.756364 \n\" style=\"fill:none;stroke:#591e71;stroke-linecap:round;stroke-width:1.5;\"/>\n   </g>\n   <g id=\"patch_3\">\n    <path d=\"M 30.6975 224.64 \nL 30.6975 7.2 \n\" style=\"fill:none;stroke:#cccccc;stroke-linecap:square;stroke-linejoin:miter;stroke-width:1.25;\"/>\n   </g>\n   <g id=\"patch_4\">\n    <path d=\"M 406.5375 224.64 \nL 406.5375 7.2 \n\" style=\"fill:none;stroke:#cccccc;stroke-linecap:square;stroke-linejoin:miter;stroke-width:1.25;\"/>\n   </g>\n   <g id=\"patch_5\">\n    <path d=\"M 30.6975 224.64 \nL 406.5375 224.64 \n\" style=\"fill:none;stroke:#cccccc;stroke-linecap:square;stroke-linejoin:miter;stroke-width:1.25;\"/>\n   </g>\n   <g id=\"patch_6\">\n    <path d=\"M 30.6975 7.2 \nL 406.5375 7.2 \n\" style=\"fill:none;stroke:#cccccc;stroke-linecap:square;stroke-linejoin:miter;stroke-width:1.25;\"/>\n   </g>\n   <g id=\"legend_1\">\n    <g id=\"patch_7\">\n     <path d=\"M 292.199375 97.341562 \nL 398.8375 97.341562 \nQ 401.0375 97.341562 401.0375 95.141562 \nL 401.0375 14.9 \nQ 401.0375 12.7 398.8375 12.7 \nL 292.199375 12.7 \nQ 289.999375 12.7 289.999375 14.9 \nL 289.999375 95.141562 \nQ 289.999375 97.341562 292.199375 97.341562 \nz\n\" style=\"fill:#ffffff;opacity:0.8;stroke:#cccccc;stroke-linejoin:miter;\"/>\n    </g>\n    <g id=\"line2d_16\">\n     <path d=\"M 294.399375 21.608281 \nL 316.399375 21.608281 \n\" style=\"fill:none;stroke:#001c7f;stroke-linecap:round;stroke-width:1.5;\"/>\n    </g>\n    <g id=\"line2d_17\"/>\n    <g id=\"text_11\">\n     <!-- loss -->\n     <defs>\n      <path d=\"M 9.421875 75.984375 \nL 18.40625 75.984375 \nL 18.40625 0 \nL 9.421875 0 \nz\n\" id=\"DejaVuSans-108\"/>\n      <path d=\"M 30.609375 48.390625 \nQ 23.390625 48.390625 19.1875 42.75 \nQ 14.984375 37.109375 14.984375 27.296875 \nQ 14.984375 17.484375 19.15625 11.84375 \nQ 23.34375 6.203125 30.609375 6.203125 \nQ 37.796875 6.203125 41.984375 11.859375 \nQ 46.1875 17.53125 46.1875 27.296875 \nQ 46.1875 37.015625 41.984375 42.703125 \nQ 37.796875 48.390625 30.609375 48.390625 \nz\nM 30.609375 56 \nQ 42.328125 56 49.015625 48.375 \nQ 55.71875 40.765625 55.71875 27.296875 \nQ 55.71875 13.875 49.015625 6.21875 \nQ 42.328125 -1.421875 30.609375 -1.421875 \nQ 18.84375 -1.421875 12.171875 6.21875 \nQ 5.515625 13.875 5.515625 27.296875 \nQ 5.515625 40.765625 12.171875 48.375 \nQ 18.84375 56 30.609375 56 \nz\n\" id=\"DejaVuSans-111\"/>\n      <path d=\"M 44.28125 53.078125 \nL 44.28125 44.578125 \nQ 40.484375 46.53125 36.375 47.5 \nQ 32.28125 48.484375 27.875 48.484375 \nQ 21.1875 48.484375 17.84375 46.4375 \nQ 14.5 44.390625 14.5 40.28125 \nQ 14.5 37.15625 16.890625 35.375 \nQ 19.28125 33.59375 26.515625 31.984375 \nL 29.59375 31.296875 \nQ 39.15625 29.25 43.1875 25.515625 \nQ 47.21875 21.78125 47.21875 15.09375 \nQ 47.21875 7.46875 41.1875 3.015625 \nQ 35.15625 -1.421875 24.609375 -1.421875 \nQ 20.21875 -1.421875 15.453125 -0.5625 \nQ 10.6875 0.296875 5.421875 2 \nL 5.421875 11.28125 \nQ 10.40625 8.6875 15.234375 7.390625 \nQ 20.0625 6.109375 24.8125 6.109375 \nQ 31.15625 6.109375 34.5625 8.28125 \nQ 37.984375 10.453125 37.984375 14.40625 \nQ 37.984375 18.0625 35.515625 20.015625 \nQ 33.0625 21.96875 24.703125 23.78125 \nL 21.578125 24.515625 \nQ 13.234375 26.265625 9.515625 29.90625 \nQ 5.8125 33.546875 5.8125 39.890625 \nQ 5.8125 47.609375 11.28125 51.796875 \nQ 16.75 56 26.8125 56 \nQ 31.78125 56 36.171875 55.265625 \nQ 40.578125 54.546875 44.28125 53.078125 \nz\n\" id=\"DejaVuSans-115\"/>\n     </defs>\n     <g style=\"fill:#262626;\" transform=\"translate(325.199375 25.458281)scale(0.11 -0.11)\">\n      <use xlink:href=\"#DejaVuSans-108\"/>\n      <use x=\"27.783203\" xlink:href=\"#DejaVuSans-111\"/>\n      <use x=\"88.964844\" xlink:href=\"#DejaVuSans-115\"/>\n      <use x=\"141.064453\" xlink:href=\"#DejaVuSans-115\"/>\n     </g>\n    </g>\n    <g id=\"line2d_18\">\n     <path d=\"M 294.399375 37.754219 \nL 316.399375 37.754219 \n\" style=\"fill:none;stroke:#b1400d;stroke-linecap:round;stroke-width:1.5;\"/>\n    </g>\n    <g id=\"line2d_19\"/>\n    <g id=\"text_12\">\n     <!-- accuracy -->\n     <defs>\n      <path d=\"M 34.28125 27.484375 \nQ 23.390625 27.484375 19.1875 25 \nQ 14.984375 22.515625 14.984375 16.5 \nQ 14.984375 11.71875 18.140625 8.90625 \nQ 21.296875 6.109375 26.703125 6.109375 \nQ 34.1875 6.109375 38.703125 11.40625 \nQ 43.21875 16.703125 43.21875 25.484375 \nL 43.21875 27.484375 \nz\nM 52.203125 31.203125 \nL 52.203125 0 \nL 43.21875 0 \nL 43.21875 8.296875 \nQ 40.140625 3.328125 35.546875 0.953125 \nQ 30.953125 -1.421875 24.3125 -1.421875 \nQ 15.921875 -1.421875 10.953125 3.296875 \nQ 6 8.015625 6 15.921875 \nQ 6 25.140625 12.171875 29.828125 \nQ 18.359375 34.515625 30.609375 34.515625 \nL 43.21875 34.515625 \nL 43.21875 35.40625 \nQ 43.21875 41.609375 39.140625 45 \nQ 35.0625 48.390625 27.6875 48.390625 \nQ 23 48.390625 18.546875 47.265625 \nQ 14.109375 46.140625 10.015625 43.890625 \nL 10.015625 52.203125 \nQ 14.9375 54.109375 19.578125 55.046875 \nQ 24.21875 56 28.609375 56 \nQ 40.484375 56 46.34375 49.84375 \nQ 52.203125 43.703125 52.203125 31.203125 \nz\n\" id=\"DejaVuSans-97\"/>\n      <path d=\"M 48.78125 52.59375 \nL 48.78125 44.1875 \nQ 44.96875 46.296875 41.140625 47.34375 \nQ 37.3125 48.390625 33.40625 48.390625 \nQ 24.65625 48.390625 19.8125 42.84375 \nQ 14.984375 37.3125 14.984375 27.296875 \nQ 14.984375 17.28125 19.8125 11.734375 \nQ 24.65625 6.203125 33.40625 6.203125 \nQ 37.3125 6.203125 41.140625 7.25 \nQ 44.96875 8.296875 48.78125 10.40625 \nL 48.78125 2.09375 \nQ 45.015625 0.34375 40.984375 -0.53125 \nQ 36.96875 -1.421875 32.421875 -1.421875 \nQ 20.0625 -1.421875 12.78125 6.34375 \nQ 5.515625 14.109375 5.515625 27.296875 \nQ 5.515625 40.671875 12.859375 48.328125 \nQ 20.21875 56 33.015625 56 \nQ 37.15625 56 41.109375 55.140625 \nQ 45.0625 54.296875 48.78125 52.59375 \nz\n\" id=\"DejaVuSans-99\"/>\n      <path d=\"M 8.5 21.578125 \nL 8.5 54.6875 \nL 17.484375 54.6875 \nL 17.484375 21.921875 \nQ 17.484375 14.15625 20.5 10.265625 \nQ 23.53125 6.390625 29.59375 6.390625 \nQ 36.859375 6.390625 41.078125 11.03125 \nQ 45.3125 15.671875 45.3125 23.6875 \nL 45.3125 54.6875 \nL 54.296875 54.6875 \nL 54.296875 0 \nL 45.3125 0 \nL 45.3125 8.40625 \nQ 42.046875 3.421875 37.71875 1 \nQ 33.40625 -1.421875 27.6875 -1.421875 \nQ 18.265625 -1.421875 13.375 4.4375 \nQ 8.5 10.296875 8.5 21.578125 \nz\nM 31.109375 56 \nz\n\" id=\"DejaVuSans-117\"/>\n      <path d=\"M 41.109375 46.296875 \nQ 39.59375 47.171875 37.8125 47.578125 \nQ 36.03125 48 33.890625 48 \nQ 26.265625 48 22.1875 43.046875 \nQ 18.109375 38.09375 18.109375 28.8125 \nL 18.109375 0 \nL 9.078125 0 \nL 9.078125 54.6875 \nL 18.109375 54.6875 \nL 18.109375 46.1875 \nQ 20.953125 51.171875 25.484375 53.578125 \nQ 30.03125 56 36.53125 56 \nQ 37.453125 56 38.578125 55.875 \nQ 39.703125 55.765625 41.0625 55.515625 \nz\n\" id=\"DejaVuSans-114\"/>\n      <path d=\"M 32.171875 -5.078125 \nQ 28.375 -14.84375 24.75 -17.8125 \nQ 21.140625 -20.796875 15.09375 -20.796875 \nL 7.90625 -20.796875 \nL 7.90625 -13.28125 \nL 13.1875 -13.28125 \nQ 16.890625 -13.28125 18.9375 -11.515625 \nQ 21 -9.765625 23.484375 -3.21875 \nL 25.09375 0.875 \nL 2.984375 54.6875 \nL 12.5 54.6875 \nL 29.59375 11.921875 \nL 46.6875 54.6875 \nL 56.203125 54.6875 \nz\n\" id=\"DejaVuSans-121\"/>\n     </defs>\n     <g style=\"fill:#262626;\" transform=\"translate(325.199375 41.604219)scale(0.11 -0.11)\">\n      <use xlink:href=\"#DejaVuSans-97\"/>\n      <use x=\"61.279297\" xlink:href=\"#DejaVuSans-99\"/>\n      <use x=\"116.259766\" xlink:href=\"#DejaVuSans-99\"/>\n      <use x=\"171.240234\" xlink:href=\"#DejaVuSans-117\"/>\n      <use x=\"234.619141\" xlink:href=\"#DejaVuSans-114\"/>\n      <use x=\"275.732422\" xlink:href=\"#DejaVuSans-97\"/>\n      <use x=\"337.011719\" xlink:href=\"#DejaVuSans-99\"/>\n      <use x=\"391.992188\" xlink:href=\"#DejaVuSans-121\"/>\n     </g>\n    </g>\n    <g id=\"line2d_20\">\n     <path d=\"M 294.399375 53.900156 \nL 316.399375 53.900156 \n\" style=\"fill:none;stroke:#12711c;stroke-linecap:round;stroke-width:1.5;\"/>\n    </g>\n    <g id=\"line2d_21\"/>\n    <g id=\"text_13\">\n     <!-- val_loss -->\n     <defs>\n      <path d=\"M 2.984375 54.6875 \nL 12.5 54.6875 \nL 29.59375 8.796875 \nL 46.6875 54.6875 \nL 56.203125 54.6875 \nL 35.6875 0 \nL 23.484375 0 \nz\n\" id=\"DejaVuSans-118\"/>\n      <path d=\"M 50.984375 -16.609375 \nL 50.984375 -23.578125 \nL -0.984375 -23.578125 \nL -0.984375 -16.609375 \nz\n\" id=\"DejaVuSans-95\"/>\n     </defs>\n     <g style=\"fill:#262626;\" transform=\"translate(325.199375 57.750156)scale(0.11 -0.11)\">\n      <use xlink:href=\"#DejaVuSans-118\"/>\n      <use x=\"59.179688\" xlink:href=\"#DejaVuSans-97\"/>\n      <use x=\"120.458984\" xlink:href=\"#DejaVuSans-108\"/>\n      <use x=\"148.242188\" xlink:href=\"#DejaVuSans-95\"/>\n      <use x=\"198.242188\" xlink:href=\"#DejaVuSans-108\"/>\n      <use x=\"226.025391\" xlink:href=\"#DejaVuSans-111\"/>\n      <use x=\"287.207031\" xlink:href=\"#DejaVuSans-115\"/>\n      <use x=\"339.306641\" xlink:href=\"#DejaVuSans-115\"/>\n     </g>\n    </g>\n    <g id=\"line2d_22\">\n     <path d=\"M 294.399375 70.352031 \nL 316.399375 70.352031 \n\" style=\"fill:none;stroke:#8c0800;stroke-linecap:round;stroke-width:1.5;\"/>\n    </g>\n    <g id=\"line2d_23\"/>\n    <g id=\"text_14\">\n     <!-- val_accuracy -->\n     <g style=\"fill:#262626;\" transform=\"translate(325.199375 74.202031)scale(0.11 -0.11)\">\n      <use xlink:href=\"#DejaVuSans-118\"/>\n      <use x=\"59.179688\" xlink:href=\"#DejaVuSans-97\"/>\n      <use x=\"120.458984\" xlink:href=\"#DejaVuSans-108\"/>\n      <use x=\"148.242188\" xlink:href=\"#DejaVuSans-95\"/>\n      <use x=\"198.242188\" xlink:href=\"#DejaVuSans-97\"/>\n      <use x=\"259.521484\" xlink:href=\"#DejaVuSans-99\"/>\n      <use x=\"314.501953\" xlink:href=\"#DejaVuSans-99\"/>\n      <use x=\"369.482422\" xlink:href=\"#DejaVuSans-117\"/>\n      <use x=\"432.861328\" xlink:href=\"#DejaVuSans-114\"/>\n      <use x=\"473.974609\" xlink:href=\"#DejaVuSans-97\"/>\n      <use x=\"535.253906\" xlink:href=\"#DejaVuSans-99\"/>\n      <use x=\"590.234375\" xlink:href=\"#DejaVuSans-121\"/>\n     </g>\n    </g>\n    <g id=\"line2d_24\">\n     <path d=\"M 294.399375 86.803906 \nL 316.399375 86.803906 \n\" style=\"fill:none;stroke:#591e71;stroke-linecap:round;stroke-width:1.5;\"/>\n    </g>\n    <g id=\"line2d_25\"/>\n    <g id=\"text_15\">\n     <!-- lr -->\n     <g style=\"fill:#262626;\" transform=\"translate(325.199375 90.653906)scale(0.11 -0.11)\">\n      <use xlink:href=\"#DejaVuSans-108\"/>\n      <use x=\"27.783203\" xlink:href=\"#DejaVuSans-114\"/>\n     </g>\n    </g>\n   </g>\n  </g>\n </g>\n <defs>\n  <clipPath id=\"p082c0ab46c\">\n   <rect height=\"217.44\" width=\"375.84\" x=\"30.6975\" y=\"7.2\"/>\n  </clipPath>\n </defs>\n</svg>\n"
          },
          "metadata": {
            "tags": [],
            "needs_background": "light"
          }
        }
      ]
    },
    {
      "cell_type": "markdown",
      "metadata": {
        "id": "qb6Mxh5gVNIZ"
      },
      "source": [
        "###*Verificando a Acurácia do modelo*\n",
        "Na primeira célula vamos pedir para o modelo fazer a previsão dos valores do `x_test`\n",
        "\n",
        "Já na segunda pedimos para retornar a acurácia de acertos com imagens de pulmão saudável e pulmão com pneumonia, notamos que nosso modelo conseguiu 93% de acurácia para detectar pneumonia e 89% de acurácia para detectar imagens com o pulmão saudável."
      ]
    },
    {
      "cell_type": "code",
      "metadata": {
        "colab": {
          "base_uri": "https://localhost:8080/"
        },
        "id": "qb9SeZPNVGz6",
        "outputId": "0a5c9f37-7cf3-4be8-c481-c59405ed5049"
      },
      "source": [
        "predicts = model.predict_classes(x_test)\n",
        "predicts = predicts.reshape(1,-1)[0] # colocar em uma linha\n",
        "predicts[:20]"
      ],
      "execution_count": null,
      "outputs": [
        {
          "output_type": "stream",
          "text": [
            "/usr/local/lib/python3.6/dist-packages/tensorflow/python/keras/engine/sequential.py:450: UserWarning: `model.predict_classes()` is deprecated and will be removed after 2021-01-01. Please use instead:* `np.argmax(model.predict(x), axis=-1)`,   if your model does multi-class classification   (e.g. if it uses a `softmax` last-layer activation).* `(model.predict(x) > 0.5).astype(\"int32\")`,   if your model does binary classification   (e.g. if it uses a `sigmoid` last-layer activation).\n",
            "  warnings.warn('`model.predict_classes()` is deprecated and '\n"
          ],
          "name": "stderr"
        },
        {
          "output_type": "execute_result",
          "data": {
            "text/plain": [
              "array([0, 1, 0, 0, 0, 0, 0, 0, 0, 0, 0, 0, 0, 0, 0, 0, 0, 0, 0, 0],\n",
              "      dtype=int32)"
            ]
          },
          "metadata": {
            "tags": []
          },
          "execution_count": 17
        }
      ]
    },
    {
      "cell_type": "code",
      "metadata": {
        "colab": {
          "base_uri": "https://localhost:8080/"
        },
        "id": "A1fqjx3uZHe-",
        "outputId": "d30b22ed-27b6-4d3d-978f-a4090c26f44a"
      },
      "source": [
        "print(classification_report(y_test, predicts,\n",
        "target_names = ['Pneumonia', 'Normal']))"
      ],
      "execution_count": null,
      "outputs": [
        {
          "output_type": "stream",
          "text": [
            "              precision    recall  f1-score   support\n",
            "\n",
            "   Pneumonia       0.81      0.89      0.85       234\n",
            "      Normal       0.93      0.87      0.90       390\n",
            "\n",
            "    accuracy                           0.88       624\n",
            "   macro avg       0.87      0.88      0.87       624\n",
            "weighted avg       0.88      0.88      0.88       624\n",
            "\n"
          ],
          "name": "stdout"
        }
      ]
    },
    {
      "cell_type": "markdown",
      "metadata": {
        "id": "eGEacuMqYcEF"
      },
      "source": [
        "##*Testando com uma única imagem*\n",
        "Podemos testar nosso modelo com uma única imagem também, basta pegar qualquer imagem do diretório test e fazer os testes com imagens em que há a presença da doença e imagens onde não há.\n",
        "\n",
        "**Atenção**: Para fazer isso observe que temos que aplicar todas as transformações do Pré-processamento de imagens. "
      ]
    },
    {
      "cell_type": "code",
      "metadata": {
        "colab": {
          "base_uri": "https://localhost:8080/"
        },
        "id": "TLdXqBj3dZxD",
        "outputId": "723d3134-1ee9-4d50-dc18-29e8c95b85f6"
      },
      "source": [
        "# para analisar uma única imagem:\n",
        "\n",
        "# retornar valores próximos de 1 -> Pneumonia\n",
        "# retornar valores próximos de 0 -> Normal\n",
        "\n",
        "img = '/content/chest_xray/test/PNEUMONIA/person108_bacteria_506.jpeg'\n",
        "img_array = cv2.imread(img, cv2.IMREAD_GRAYSCALE)\n",
        "resize_img = cv2.resize(img_array, (150,150))\n",
        "\n",
        "resize_img = np.array(resize_img) / 255.0\n",
        "resize_img = f_resize(resize_img)\n",
        "\n",
        "print(model.predict(resize_img))"
      ],
      "execution_count": null,
      "outputs": [
        {
          "output_type": "stream",
          "text": [
            "[[0.97960037]]\n"
          ],
          "name": "stdout"
        }
      ]
    },
    {
      "cell_type": "markdown",
      "metadata": {
        "id": "sg73Bl4dZId0"
      },
      "source": [
        "No exemplo acima, em `img` importamos uma imagem da pasta PNEUMONIA, o valor que nos retornou foi próximo de 1, sinalizando que o pulmão da imagem tem *Pneumonia*."
      ]
    }
  ]
}